{
 "cells": [
  {
   "cell_type": "markdown",
   "id": "1de23316",
   "metadata": {
    "papermill": {
     "duration": 0.021326,
     "end_time": "2023-06-24T03:08:29.167473",
     "exception": false,
     "start_time": "2023-06-24T03:08:29.146147",
     "status": "completed"
    },
    "tags": []
   },
   "source": [
    "# Introduction\n",
    "\n",
    "We have to create a model trained on measurements of health characteristics to predict if the person has one or more of any of the three medical conditions (Class 1), or none of the three medical conditions (Class 0).\n",
    "\n",
    "# Import Libraries"
   ]
  },
  {
   "cell_type": "code",
   "execution_count": 1,
   "id": "ca76cf10",
   "metadata": {
    "execution": {
     "iopub.execute_input": "2023-06-24T03:08:29.210602Z",
     "iopub.status.busy": "2023-06-24T03:08:29.209973Z",
     "iopub.status.idle": "2023-06-24T03:08:30.457175Z",
     "shell.execute_reply": "2023-06-24T03:08:30.456335Z"
    },
    "papermill": {
     "duration": 1.271544,
     "end_time": "2023-06-24T03:08:30.459666",
     "exception": false,
     "start_time": "2023-06-24T03:08:29.188122",
     "status": "completed"
    },
    "tags": []
   },
   "outputs": [],
   "source": [
    "import numpy as np\n",
    "import pandas as pd\n",
    "import matplotlib.pyplot as plt\n",
    "import seaborn as sns"
   ]
  },
  {
   "cell_type": "markdown",
   "id": "50fa0cb1",
   "metadata": {
    "papermill": {
     "duration": 0.021546,
     "end_time": "2023-06-24T03:08:30.502513",
     "exception": false,
     "start_time": "2023-06-24T03:08:30.480967",
     "status": "completed"
    },
    "tags": []
   },
   "source": [
    "# Read CSV Files"
   ]
  },
  {
   "cell_type": "code",
   "execution_count": 2,
   "id": "74ed5276",
   "metadata": {
    "execution": {
     "iopub.execute_input": "2023-06-24T03:08:30.547683Z",
     "iopub.status.busy": "2023-06-24T03:08:30.547081Z",
     "iopub.status.idle": "2023-06-24T03:08:30.616375Z",
     "shell.execute_reply": "2023-06-24T03:08:30.615435Z"
    },
    "papermill": {
     "duration": 0.093313,
     "end_time": "2023-06-24T03:08:30.618479",
     "exception": false,
     "start_time": "2023-06-24T03:08:30.525166",
     "status": "completed"
    },
    "tags": []
   },
   "outputs": [],
   "source": [
    "# Load the data.\n",
    "train_df = pd.read_csv('/kaggle/input/icr-identify-age-related-conditions/train.csv')\n",
    "test_df = pd.read_csv('/kaggle/input/icr-identify-age-related-conditions/test.csv')\n",
    "greeks_df = pd.read_csv('/kaggle/input/icr-identify-age-related-conditions/greeks.csv')\n",
    "sample_submission_df = pd.read_csv('/kaggle/input/icr-identify-age-related-conditions/sample_submission.csv')"
   ]
  },
  {
   "cell_type": "code",
   "execution_count": 3,
   "id": "db3ec203",
   "metadata": {
    "execution": {
     "iopub.execute_input": "2023-06-24T03:08:30.663845Z",
     "iopub.status.busy": "2023-06-24T03:08:30.663461Z",
     "iopub.status.idle": "2023-06-24T03:08:30.711628Z",
     "shell.execute_reply": "2023-06-24T03:08:30.710648Z"
    },
    "papermill": {
     "duration": 0.073356,
     "end_time": "2023-06-24T03:08:30.713874",
     "exception": false,
     "start_time": "2023-06-24T03:08:30.640518",
     "status": "completed"
    },
    "tags": []
   },
   "outputs": [
    {
     "data": {
      "text/html": [
       "<div>\n",
       "<style scoped>\n",
       "    .dataframe tbody tr th:only-of-type {\n",
       "        vertical-align: middle;\n",
       "    }\n",
       "\n",
       "    .dataframe tbody tr th {\n",
       "        vertical-align: top;\n",
       "    }\n",
       "\n",
       "    .dataframe thead th {\n",
       "        text-align: right;\n",
       "    }\n",
       "</style>\n",
       "<table border=\"1\" class=\"dataframe\">\n",
       "  <thead>\n",
       "    <tr style=\"text-align: right;\">\n",
       "      <th></th>\n",
       "      <th>Id</th>\n",
       "      <th>AB</th>\n",
       "      <th>AF</th>\n",
       "      <th>AH</th>\n",
       "      <th>AM</th>\n",
       "      <th>AR</th>\n",
       "      <th>AX</th>\n",
       "      <th>AY</th>\n",
       "      <th>AZ</th>\n",
       "      <th>BC</th>\n",
       "      <th>...</th>\n",
       "      <th>FL</th>\n",
       "      <th>FR</th>\n",
       "      <th>FS</th>\n",
       "      <th>GB</th>\n",
       "      <th>GE</th>\n",
       "      <th>GF</th>\n",
       "      <th>GH</th>\n",
       "      <th>GI</th>\n",
       "      <th>GL</th>\n",
       "      <th>Class</th>\n",
       "    </tr>\n",
       "  </thead>\n",
       "  <tbody>\n",
       "    <tr>\n",
       "      <th>0</th>\n",
       "      <td>000ff2bfdfe9</td>\n",
       "      <td>0.209377</td>\n",
       "      <td>3109.03329</td>\n",
       "      <td>85.200147</td>\n",
       "      <td>22.394407</td>\n",
       "      <td>8.138688</td>\n",
       "      <td>0.699861</td>\n",
       "      <td>0.025578</td>\n",
       "      <td>9.812214</td>\n",
       "      <td>5.555634</td>\n",
       "      <td>...</td>\n",
       "      <td>7.298162</td>\n",
       "      <td>1.73855</td>\n",
       "      <td>0.094822</td>\n",
       "      <td>11.339138</td>\n",
       "      <td>72.611063</td>\n",
       "      <td>2003.810319</td>\n",
       "      <td>22.136229</td>\n",
       "      <td>69.834944</td>\n",
       "      <td>0.120343</td>\n",
       "      <td>1</td>\n",
       "    </tr>\n",
       "    <tr>\n",
       "      <th>1</th>\n",
       "      <td>007255e47698</td>\n",
       "      <td>0.145282</td>\n",
       "      <td>978.76416</td>\n",
       "      <td>85.200147</td>\n",
       "      <td>36.968889</td>\n",
       "      <td>8.138688</td>\n",
       "      <td>3.632190</td>\n",
       "      <td>0.025578</td>\n",
       "      <td>13.517790</td>\n",
       "      <td>1.229900</td>\n",
       "      <td>...</td>\n",
       "      <td>0.173229</td>\n",
       "      <td>0.49706</td>\n",
       "      <td>0.568932</td>\n",
       "      <td>9.292698</td>\n",
       "      <td>72.611063</td>\n",
       "      <td>27981.562750</td>\n",
       "      <td>29.135430</td>\n",
       "      <td>32.131996</td>\n",
       "      <td>21.978000</td>\n",
       "      <td>0</td>\n",
       "    </tr>\n",
       "    <tr>\n",
       "      <th>2</th>\n",
       "      <td>013f2bd269f5</td>\n",
       "      <td>0.470030</td>\n",
       "      <td>2635.10654</td>\n",
       "      <td>85.200147</td>\n",
       "      <td>32.360553</td>\n",
       "      <td>8.138688</td>\n",
       "      <td>6.732840</td>\n",
       "      <td>0.025578</td>\n",
       "      <td>12.824570</td>\n",
       "      <td>1.229900</td>\n",
       "      <td>...</td>\n",
       "      <td>7.709560</td>\n",
       "      <td>0.97556</td>\n",
       "      <td>1.198821</td>\n",
       "      <td>37.077772</td>\n",
       "      <td>88.609437</td>\n",
       "      <td>13676.957810</td>\n",
       "      <td>28.022851</td>\n",
       "      <td>35.192676</td>\n",
       "      <td>0.196941</td>\n",
       "      <td>0</td>\n",
       "    </tr>\n",
       "    <tr>\n",
       "      <th>3</th>\n",
       "      <td>043ac50845d5</td>\n",
       "      <td>0.252107</td>\n",
       "      <td>3819.65177</td>\n",
       "      <td>120.201618</td>\n",
       "      <td>77.112203</td>\n",
       "      <td>8.138688</td>\n",
       "      <td>3.685344</td>\n",
       "      <td>0.025578</td>\n",
       "      <td>11.053708</td>\n",
       "      <td>1.229900</td>\n",
       "      <td>...</td>\n",
       "      <td>6.122162</td>\n",
       "      <td>0.49706</td>\n",
       "      <td>0.284466</td>\n",
       "      <td>18.529584</td>\n",
       "      <td>82.416803</td>\n",
       "      <td>2094.262452</td>\n",
       "      <td>39.948656</td>\n",
       "      <td>90.493248</td>\n",
       "      <td>0.155829</td>\n",
       "      <td>0</td>\n",
       "    </tr>\n",
       "    <tr>\n",
       "      <th>4</th>\n",
       "      <td>044fb8a146ec</td>\n",
       "      <td>0.380297</td>\n",
       "      <td>3733.04844</td>\n",
       "      <td>85.200147</td>\n",
       "      <td>14.103738</td>\n",
       "      <td>8.138688</td>\n",
       "      <td>3.942255</td>\n",
       "      <td>0.054810</td>\n",
       "      <td>3.396778</td>\n",
       "      <td>102.151980</td>\n",
       "      <td>...</td>\n",
       "      <td>8.153058</td>\n",
       "      <td>48.50134</td>\n",
       "      <td>0.121914</td>\n",
       "      <td>16.408728</td>\n",
       "      <td>146.109943</td>\n",
       "      <td>8524.370502</td>\n",
       "      <td>45.381316</td>\n",
       "      <td>36.262628</td>\n",
       "      <td>0.096614</td>\n",
       "      <td>1</td>\n",
       "    </tr>\n",
       "    <tr>\n",
       "      <th>...</th>\n",
       "      <td>...</td>\n",
       "      <td>...</td>\n",
       "      <td>...</td>\n",
       "      <td>...</td>\n",
       "      <td>...</td>\n",
       "      <td>...</td>\n",
       "      <td>...</td>\n",
       "      <td>...</td>\n",
       "      <td>...</td>\n",
       "      <td>...</td>\n",
       "      <td>...</td>\n",
       "      <td>...</td>\n",
       "      <td>...</td>\n",
       "      <td>...</td>\n",
       "      <td>...</td>\n",
       "      <td>...</td>\n",
       "      <td>...</td>\n",
       "      <td>...</td>\n",
       "      <td>...</td>\n",
       "      <td>...</td>\n",
       "      <td>...</td>\n",
       "    </tr>\n",
       "    <tr>\n",
       "      <th>612</th>\n",
       "      <td>fd3dafe738fd</td>\n",
       "      <td>0.149555</td>\n",
       "      <td>3130.05946</td>\n",
       "      <td>123.763599</td>\n",
       "      <td>9.513984</td>\n",
       "      <td>13.020852</td>\n",
       "      <td>3.499305</td>\n",
       "      <td>0.077343</td>\n",
       "      <td>8.545512</td>\n",
       "      <td>2.804172</td>\n",
       "      <td>...</td>\n",
       "      <td>0.173229</td>\n",
       "      <td>1.26092</td>\n",
       "      <td>0.067730</td>\n",
       "      <td>8.967128</td>\n",
       "      <td>217.148554</td>\n",
       "      <td>8095.932828</td>\n",
       "      <td>24.640462</td>\n",
       "      <td>69.191944</td>\n",
       "      <td>21.978000</td>\n",
       "      <td>0</td>\n",
       "    </tr>\n",
       "    <tr>\n",
       "      <th>613</th>\n",
       "      <td>fd895603f071</td>\n",
       "      <td>0.435846</td>\n",
       "      <td>5462.03438</td>\n",
       "      <td>85.200147</td>\n",
       "      <td>46.551007</td>\n",
       "      <td>15.973224</td>\n",
       "      <td>5.979825</td>\n",
       "      <td>0.025882</td>\n",
       "      <td>12.622906</td>\n",
       "      <td>3.777550</td>\n",
       "      <td>...</td>\n",
       "      <td>10.223150</td>\n",
       "      <td>1.24236</td>\n",
       "      <td>0.426699</td>\n",
       "      <td>35.896418</td>\n",
       "      <td>496.994214</td>\n",
       "      <td>3085.308063</td>\n",
       "      <td>29.648928</td>\n",
       "      <td>124.808872</td>\n",
       "      <td>0.145340</td>\n",
       "      <td>0</td>\n",
       "    </tr>\n",
       "    <tr>\n",
       "      <th>614</th>\n",
       "      <td>fd8ef6377f76</td>\n",
       "      <td>0.427300</td>\n",
       "      <td>2459.10720</td>\n",
       "      <td>130.138587</td>\n",
       "      <td>55.355778</td>\n",
       "      <td>10.005552</td>\n",
       "      <td>8.070549</td>\n",
       "      <td>0.025578</td>\n",
       "      <td>15.408390</td>\n",
       "      <td>1.229900</td>\n",
       "      <td>...</td>\n",
       "      <td>0.173229</td>\n",
       "      <td>0.49706</td>\n",
       "      <td>0.067730</td>\n",
       "      <td>19.962092</td>\n",
       "      <td>128.896894</td>\n",
       "      <td>6474.652866</td>\n",
       "      <td>26.166072</td>\n",
       "      <td>119.559420</td>\n",
       "      <td>21.978000</td>\n",
       "      <td>0</td>\n",
       "    </tr>\n",
       "    <tr>\n",
       "      <th>615</th>\n",
       "      <td>fe1942975e40</td>\n",
       "      <td>0.363205</td>\n",
       "      <td>1263.53524</td>\n",
       "      <td>85.200147</td>\n",
       "      <td>23.685856</td>\n",
       "      <td>8.138688</td>\n",
       "      <td>7.981959</td>\n",
       "      <td>0.025578</td>\n",
       "      <td>7.524588</td>\n",
       "      <td>1.229900</td>\n",
       "      <td>...</td>\n",
       "      <td>9.256996</td>\n",
       "      <td>0.78764</td>\n",
       "      <td>0.670527</td>\n",
       "      <td>24.594488</td>\n",
       "      <td>72.611063</td>\n",
       "      <td>1965.343176</td>\n",
       "      <td>25.116750</td>\n",
       "      <td>37.155112</td>\n",
       "      <td>0.184622</td>\n",
       "      <td>0</td>\n",
       "    </tr>\n",
       "    <tr>\n",
       "      <th>616</th>\n",
       "      <td>ffcca4ded3bb</td>\n",
       "      <td>0.482849</td>\n",
       "      <td>2672.53426</td>\n",
       "      <td>546.663930</td>\n",
       "      <td>112.006102</td>\n",
       "      <td>8.138688</td>\n",
       "      <td>3.198099</td>\n",
       "      <td>0.116928</td>\n",
       "      <td>3.396778</td>\n",
       "      <td>7.948668</td>\n",
       "      <td>...</td>\n",
       "      <td>0.173229</td>\n",
       "      <td>1.14492</td>\n",
       "      <td>0.149006</td>\n",
       "      <td>13.673940</td>\n",
       "      <td>72.611063</td>\n",
       "      <td>6850.484442</td>\n",
       "      <td>45.745974</td>\n",
       "      <td>114.842372</td>\n",
       "      <td>21.978000</td>\n",
       "      <td>0</td>\n",
       "    </tr>\n",
       "  </tbody>\n",
       "</table>\n",
       "<p>617 rows × 58 columns</p>\n",
       "</div>"
      ],
      "text/plain": [
       "               Id        AB          AF          AH          AM         AR  \\\n",
       "0    000ff2bfdfe9  0.209377  3109.03329   85.200147   22.394407   8.138688   \n",
       "1    007255e47698  0.145282   978.76416   85.200147   36.968889   8.138688   \n",
       "2    013f2bd269f5  0.470030  2635.10654   85.200147   32.360553   8.138688   \n",
       "3    043ac50845d5  0.252107  3819.65177  120.201618   77.112203   8.138688   \n",
       "4    044fb8a146ec  0.380297  3733.04844   85.200147   14.103738   8.138688   \n",
       "..            ...       ...         ...         ...         ...        ...   \n",
       "612  fd3dafe738fd  0.149555  3130.05946  123.763599    9.513984  13.020852   \n",
       "613  fd895603f071  0.435846  5462.03438   85.200147   46.551007  15.973224   \n",
       "614  fd8ef6377f76  0.427300  2459.10720  130.138587   55.355778  10.005552   \n",
       "615  fe1942975e40  0.363205  1263.53524   85.200147   23.685856   8.138688   \n",
       "616  ffcca4ded3bb  0.482849  2672.53426  546.663930  112.006102   8.138688   \n",
       "\n",
       "           AX        AY         AZ          BC  ...         FL        FR  \\\n",
       "0    0.699861  0.025578   9.812214    5.555634  ...   7.298162   1.73855   \n",
       "1    3.632190  0.025578  13.517790    1.229900  ...   0.173229   0.49706   \n",
       "2    6.732840  0.025578  12.824570    1.229900  ...   7.709560   0.97556   \n",
       "3    3.685344  0.025578  11.053708    1.229900  ...   6.122162   0.49706   \n",
       "4    3.942255  0.054810   3.396778  102.151980  ...   8.153058  48.50134   \n",
       "..        ...       ...        ...         ...  ...        ...       ...   \n",
       "612  3.499305  0.077343   8.545512    2.804172  ...   0.173229   1.26092   \n",
       "613  5.979825  0.025882  12.622906    3.777550  ...  10.223150   1.24236   \n",
       "614  8.070549  0.025578  15.408390    1.229900  ...   0.173229   0.49706   \n",
       "615  7.981959  0.025578   7.524588    1.229900  ...   9.256996   0.78764   \n",
       "616  3.198099  0.116928   3.396778    7.948668  ...   0.173229   1.14492   \n",
       "\n",
       "           FS         GB          GE            GF         GH          GI  \\\n",
       "0    0.094822  11.339138   72.611063   2003.810319  22.136229   69.834944   \n",
       "1    0.568932   9.292698   72.611063  27981.562750  29.135430   32.131996   \n",
       "2    1.198821  37.077772   88.609437  13676.957810  28.022851   35.192676   \n",
       "3    0.284466  18.529584   82.416803   2094.262452  39.948656   90.493248   \n",
       "4    0.121914  16.408728  146.109943   8524.370502  45.381316   36.262628   \n",
       "..        ...        ...         ...           ...        ...         ...   \n",
       "612  0.067730   8.967128  217.148554   8095.932828  24.640462   69.191944   \n",
       "613  0.426699  35.896418  496.994214   3085.308063  29.648928  124.808872   \n",
       "614  0.067730  19.962092  128.896894   6474.652866  26.166072  119.559420   \n",
       "615  0.670527  24.594488   72.611063   1965.343176  25.116750   37.155112   \n",
       "616  0.149006  13.673940   72.611063   6850.484442  45.745974  114.842372   \n",
       "\n",
       "            GL  Class  \n",
       "0     0.120343      1  \n",
       "1    21.978000      0  \n",
       "2     0.196941      0  \n",
       "3     0.155829      0  \n",
       "4     0.096614      1  \n",
       "..         ...    ...  \n",
       "612  21.978000      0  \n",
       "613   0.145340      0  \n",
       "614  21.978000      0  \n",
       "615   0.184622      0  \n",
       "616  21.978000      0  \n",
       "\n",
       "[617 rows x 58 columns]"
      ]
     },
     "execution_count": 3,
     "metadata": {},
     "output_type": "execute_result"
    }
   ],
   "source": [
    "train_df"
   ]
  },
  {
   "cell_type": "markdown",
   "id": "e460c59b",
   "metadata": {
    "papermill": {
     "duration": 0.022077,
     "end_time": "2023-06-24T03:08:30.758764",
     "exception": false,
     "start_time": "2023-06-24T03:08:30.736687",
     "status": "completed"
    },
    "tags": []
   },
   "source": [
    "It appears to be a tabular dataset with 617 rows and 58 columns. Each row represents a sample, and the columns represent different features or attributes of the samples."
   ]
  },
  {
   "cell_type": "code",
   "execution_count": 4,
   "id": "a14ad61f",
   "metadata": {
    "execution": {
     "iopub.execute_input": "2023-06-24T03:08:30.802934Z",
     "iopub.status.busy": "2023-06-24T03:08:30.802533Z",
     "iopub.status.idle": "2023-06-24T03:08:30.957948Z",
     "shell.execute_reply": "2023-06-24T03:08:30.957044Z"
    },
    "papermill": {
     "duration": 0.180627,
     "end_time": "2023-06-24T03:08:30.960320",
     "exception": false,
     "start_time": "2023-06-24T03:08:30.779693",
     "status": "completed"
    },
    "tags": []
   },
   "outputs": [
    {
     "data": {
      "text/html": [
       "<div>\n",
       "<style scoped>\n",
       "    .dataframe tbody tr th:only-of-type {\n",
       "        vertical-align: middle;\n",
       "    }\n",
       "\n",
       "    .dataframe tbody tr th {\n",
       "        vertical-align: top;\n",
       "    }\n",
       "\n",
       "    .dataframe thead th {\n",
       "        text-align: right;\n",
       "    }\n",
       "</style>\n",
       "<table border=\"1\" class=\"dataframe\">\n",
       "  <thead>\n",
       "    <tr style=\"text-align: right;\">\n",
       "      <th></th>\n",
       "      <th>AB</th>\n",
       "      <th>AF</th>\n",
       "      <th>AH</th>\n",
       "      <th>AM</th>\n",
       "      <th>AR</th>\n",
       "      <th>AX</th>\n",
       "      <th>AY</th>\n",
       "      <th>AZ</th>\n",
       "      <th>BC</th>\n",
       "      <th>BD</th>\n",
       "      <th>...</th>\n",
       "      <th>FL</th>\n",
       "      <th>FR</th>\n",
       "      <th>FS</th>\n",
       "      <th>GB</th>\n",
       "      <th>GE</th>\n",
       "      <th>GF</th>\n",
       "      <th>GH</th>\n",
       "      <th>GI</th>\n",
       "      <th>GL</th>\n",
       "      <th>Class</th>\n",
       "    </tr>\n",
       "  </thead>\n",
       "  <tbody>\n",
       "    <tr>\n",
       "      <th>count</th>\n",
       "      <td>617.000000</td>\n",
       "      <td>617.000000</td>\n",
       "      <td>617.000000</td>\n",
       "      <td>617.000000</td>\n",
       "      <td>617.000000</td>\n",
       "      <td>617.000000</td>\n",
       "      <td>617.000000</td>\n",
       "      <td>617.000000</td>\n",
       "      <td>617.000000</td>\n",
       "      <td>617.000000</td>\n",
       "      <td>...</td>\n",
       "      <td>616.000000</td>\n",
       "      <td>617.000000</td>\n",
       "      <td>615.000000</td>\n",
       "      <td>617.000000</td>\n",
       "      <td>617.000000</td>\n",
       "      <td>617.000000</td>\n",
       "      <td>617.000000</td>\n",
       "      <td>617.000000</td>\n",
       "      <td>616.000000</td>\n",
       "      <td>617.000000</td>\n",
       "    </tr>\n",
       "    <tr>\n",
       "      <th>mean</th>\n",
       "      <td>0.477149</td>\n",
       "      <td>3502.013221</td>\n",
       "      <td>118.624513</td>\n",
       "      <td>38.968552</td>\n",
       "      <td>10.128242</td>\n",
       "      <td>5.545576</td>\n",
       "      <td>0.060320</td>\n",
       "      <td>10.566447</td>\n",
       "      <td>8.053012</td>\n",
       "      <td>5350.388655</td>\n",
       "      <td>...</td>\n",
       "      <td>5.433199</td>\n",
       "      <td>3.533905</td>\n",
       "      <td>0.421501</td>\n",
       "      <td>20.724856</td>\n",
       "      <td>131.714987</td>\n",
       "      <td>14679.595398</td>\n",
       "      <td>31.489716</td>\n",
       "      <td>50.584437</td>\n",
       "      <td>8.530961</td>\n",
       "      <td>0.175041</td>\n",
       "    </tr>\n",
       "    <tr>\n",
       "      <th>std</th>\n",
       "      <td>0.468388</td>\n",
       "      <td>2300.322717</td>\n",
       "      <td>127.838950</td>\n",
       "      <td>69.728226</td>\n",
       "      <td>10.518877</td>\n",
       "      <td>2.551696</td>\n",
       "      <td>0.416817</td>\n",
       "      <td>4.350645</td>\n",
       "      <td>65.166943</td>\n",
       "      <td>3021.326641</td>\n",
       "      <td>...</td>\n",
       "      <td>11.496257</td>\n",
       "      <td>50.181948</td>\n",
       "      <td>1.305365</td>\n",
       "      <td>9.991907</td>\n",
       "      <td>144.181524</td>\n",
       "      <td>19352.959387</td>\n",
       "      <td>9.864239</td>\n",
       "      <td>36.266251</td>\n",
       "      <td>10.327010</td>\n",
       "      <td>0.380310</td>\n",
       "    </tr>\n",
       "    <tr>\n",
       "      <th>min</th>\n",
       "      <td>0.081187</td>\n",
       "      <td>192.593280</td>\n",
       "      <td>85.200147</td>\n",
       "      <td>3.177522</td>\n",
       "      <td>8.138688</td>\n",
       "      <td>0.699861</td>\n",
       "      <td>0.025578</td>\n",
       "      <td>3.396778</td>\n",
       "      <td>1.229900</td>\n",
       "      <td>1693.624320</td>\n",
       "      <td>...</td>\n",
       "      <td>0.173229</td>\n",
       "      <td>0.497060</td>\n",
       "      <td>0.067730</td>\n",
       "      <td>4.102182</td>\n",
       "      <td>72.611063</td>\n",
       "      <td>13.038894</td>\n",
       "      <td>9.432735</td>\n",
       "      <td>0.897628</td>\n",
       "      <td>0.001129</td>\n",
       "      <td>0.000000</td>\n",
       "    </tr>\n",
       "    <tr>\n",
       "      <th>25%</th>\n",
       "      <td>0.252107</td>\n",
       "      <td>2197.345480</td>\n",
       "      <td>85.200147</td>\n",
       "      <td>12.270314</td>\n",
       "      <td>8.138688</td>\n",
       "      <td>4.128294</td>\n",
       "      <td>0.025578</td>\n",
       "      <td>8.129580</td>\n",
       "      <td>1.229900</td>\n",
       "      <td>4155.702870</td>\n",
       "      <td>...</td>\n",
       "      <td>0.173229</td>\n",
       "      <td>0.497060</td>\n",
       "      <td>0.067730</td>\n",
       "      <td>14.036718</td>\n",
       "      <td>72.611063</td>\n",
       "      <td>2798.992584</td>\n",
       "      <td>25.034888</td>\n",
       "      <td>23.011684</td>\n",
       "      <td>0.124392</td>\n",
       "      <td>0.000000</td>\n",
       "    </tr>\n",
       "    <tr>\n",
       "      <th>50%</th>\n",
       "      <td>0.354659</td>\n",
       "      <td>3120.318960</td>\n",
       "      <td>85.200147</td>\n",
       "      <td>20.533110</td>\n",
       "      <td>8.138688</td>\n",
       "      <td>5.031912</td>\n",
       "      <td>0.025578</td>\n",
       "      <td>10.461320</td>\n",
       "      <td>1.229900</td>\n",
       "      <td>4997.960730</td>\n",
       "      <td>...</td>\n",
       "      <td>3.028141</td>\n",
       "      <td>1.131000</td>\n",
       "      <td>0.250601</td>\n",
       "      <td>18.771436</td>\n",
       "      <td>72.611063</td>\n",
       "      <td>7838.273610</td>\n",
       "      <td>30.608946</td>\n",
       "      <td>41.007968</td>\n",
       "      <td>0.337827</td>\n",
       "      <td>0.000000</td>\n",
       "    </tr>\n",
       "    <tr>\n",
       "      <th>75%</th>\n",
       "      <td>0.559763</td>\n",
       "      <td>4361.637390</td>\n",
       "      <td>113.739540</td>\n",
       "      <td>39.139886</td>\n",
       "      <td>8.138688</td>\n",
       "      <td>6.431634</td>\n",
       "      <td>0.036845</td>\n",
       "      <td>12.969516</td>\n",
       "      <td>5.081244</td>\n",
       "      <td>6035.885700</td>\n",
       "      <td>...</td>\n",
       "      <td>6.238814</td>\n",
       "      <td>1.512060</td>\n",
       "      <td>0.535067</td>\n",
       "      <td>25.608406</td>\n",
       "      <td>127.591671</td>\n",
       "      <td>19035.709240</td>\n",
       "      <td>36.863947</td>\n",
       "      <td>67.931664</td>\n",
       "      <td>21.978000</td>\n",
       "      <td>0.000000</td>\n",
       "    </tr>\n",
       "    <tr>\n",
       "      <th>max</th>\n",
       "      <td>6.161666</td>\n",
       "      <td>28688.187660</td>\n",
       "      <td>1910.123198</td>\n",
       "      <td>630.518230</td>\n",
       "      <td>178.943634</td>\n",
       "      <td>38.270880</td>\n",
       "      <td>10.315851</td>\n",
       "      <td>38.971568</td>\n",
       "      <td>1463.693448</td>\n",
       "      <td>53060.599240</td>\n",
       "      <td>...</td>\n",
       "      <td>137.932739</td>\n",
       "      <td>1244.227020</td>\n",
       "      <td>31.365763</td>\n",
       "      <td>135.781294</td>\n",
       "      <td>1497.351958</td>\n",
       "      <td>143790.071200</td>\n",
       "      <td>81.210825</td>\n",
       "      <td>191.194764</td>\n",
       "      <td>21.978000</td>\n",
       "      <td>1.000000</td>\n",
       "    </tr>\n",
       "  </tbody>\n",
       "</table>\n",
       "<p>8 rows × 56 columns</p>\n",
       "</div>"
      ],
      "text/plain": [
       "               AB            AF           AH          AM          AR  \\\n",
       "count  617.000000    617.000000   617.000000  617.000000  617.000000   \n",
       "mean     0.477149   3502.013221   118.624513   38.968552   10.128242   \n",
       "std      0.468388   2300.322717   127.838950   69.728226   10.518877   \n",
       "min      0.081187    192.593280    85.200147    3.177522    8.138688   \n",
       "25%      0.252107   2197.345480    85.200147   12.270314    8.138688   \n",
       "50%      0.354659   3120.318960    85.200147   20.533110    8.138688   \n",
       "75%      0.559763   4361.637390   113.739540   39.139886    8.138688   \n",
       "max      6.161666  28688.187660  1910.123198  630.518230  178.943634   \n",
       "\n",
       "               AX          AY          AZ           BC           BD   ...  \\\n",
       "count  617.000000  617.000000  617.000000   617.000000    617.000000  ...   \n",
       "mean     5.545576    0.060320   10.566447     8.053012   5350.388655  ...   \n",
       "std      2.551696    0.416817    4.350645    65.166943   3021.326641  ...   \n",
       "min      0.699861    0.025578    3.396778     1.229900   1693.624320  ...   \n",
       "25%      4.128294    0.025578    8.129580     1.229900   4155.702870  ...   \n",
       "50%      5.031912    0.025578   10.461320     1.229900   4997.960730  ...   \n",
       "75%      6.431634    0.036845   12.969516     5.081244   6035.885700  ...   \n",
       "max     38.270880   10.315851   38.971568  1463.693448  53060.599240  ...   \n",
       "\n",
       "               FL           FR          FS          GB           GE  \\\n",
       "count  616.000000   617.000000  615.000000  617.000000   617.000000   \n",
       "mean     5.433199     3.533905    0.421501   20.724856   131.714987   \n",
       "std     11.496257    50.181948    1.305365    9.991907   144.181524   \n",
       "min      0.173229     0.497060    0.067730    4.102182    72.611063   \n",
       "25%      0.173229     0.497060    0.067730   14.036718    72.611063   \n",
       "50%      3.028141     1.131000    0.250601   18.771436    72.611063   \n",
       "75%      6.238814     1.512060    0.535067   25.608406   127.591671   \n",
       "max    137.932739  1244.227020   31.365763  135.781294  1497.351958   \n",
       "\n",
       "                  GF          GH          GI          GL       Class  \n",
       "count     617.000000  617.000000  617.000000  616.000000  617.000000  \n",
       "mean    14679.595398   31.489716   50.584437    8.530961    0.175041  \n",
       "std     19352.959387    9.864239   36.266251   10.327010    0.380310  \n",
       "min        13.038894    9.432735    0.897628    0.001129    0.000000  \n",
       "25%      2798.992584   25.034888   23.011684    0.124392    0.000000  \n",
       "50%      7838.273610   30.608946   41.007968    0.337827    0.000000  \n",
       "75%     19035.709240   36.863947   67.931664   21.978000    0.000000  \n",
       "max    143790.071200   81.210825  191.194764   21.978000    1.000000  \n",
       "\n",
       "[8 rows x 56 columns]"
      ]
     },
     "execution_count": 4,
     "metadata": {},
     "output_type": "execute_result"
    }
   ],
   "source": [
    "train_df.describe()"
   ]
  },
  {
   "cell_type": "code",
   "execution_count": 5,
   "id": "bef3ba4b",
   "metadata": {
    "execution": {
     "iopub.execute_input": "2023-06-24T03:08:31.005299Z",
     "iopub.status.busy": "2023-06-24T03:08:31.004969Z",
     "iopub.status.idle": "2023-06-24T03:08:31.027412Z",
     "shell.execute_reply": "2023-06-24T03:08:31.026153Z"
    },
    "papermill": {
     "duration": 0.046923,
     "end_time": "2023-06-24T03:08:31.029734",
     "exception": false,
     "start_time": "2023-06-24T03:08:30.982811",
     "status": "completed"
    },
    "tags": []
   },
   "outputs": [
    {
     "name": "stdout",
     "output_type": "stream",
     "text": [
      "<class 'pandas.core.frame.DataFrame'>\n",
      "RangeIndex: 617 entries, 0 to 616\n",
      "Data columns (total 58 columns):\n",
      " #   Column  Non-Null Count  Dtype  \n",
      "---  ------  --------------  -----  \n",
      " 0   Id      617 non-null    object \n",
      " 1   AB      617 non-null    float64\n",
      " 2   AF      617 non-null    float64\n",
      " 3   AH      617 non-null    float64\n",
      " 4   AM      617 non-null    float64\n",
      " 5   AR      617 non-null    float64\n",
      " 6   AX      617 non-null    float64\n",
      " 7   AY      617 non-null    float64\n",
      " 8   AZ      617 non-null    float64\n",
      " 9   BC      617 non-null    float64\n",
      " 10  BD      617 non-null    float64\n",
      " 11  BN      617 non-null    float64\n",
      " 12  BP      617 non-null    float64\n",
      " 13  BQ      557 non-null    float64\n",
      " 14  BR      617 non-null    float64\n",
      " 15  BZ      617 non-null    float64\n",
      " 16  CB      615 non-null    float64\n",
      " 17  CC      614 non-null    float64\n",
      " 18  CD      617 non-null    float64\n",
      " 19  CF      617 non-null    float64\n",
      " 20  CH      617 non-null    float64\n",
      " 21  CL      617 non-null    float64\n",
      " 22  CR      617 non-null    float64\n",
      " 23  CS      617 non-null    float64\n",
      " 24  CU      617 non-null    float64\n",
      " 25  CW      617 non-null    float64\n",
      " 26  DA      617 non-null    float64\n",
      " 27  DE      617 non-null    float64\n",
      " 28  DF      617 non-null    float64\n",
      " 29  DH      617 non-null    float64\n",
      " 30  DI      617 non-null    float64\n",
      " 31  DL      617 non-null    float64\n",
      " 32  DN      617 non-null    float64\n",
      " 33  DU      616 non-null    float64\n",
      " 34  DV      617 non-null    float64\n",
      " 35  DY      617 non-null    float64\n",
      " 36  EB      617 non-null    float64\n",
      " 37  EE      617 non-null    float64\n",
      " 38  EG      617 non-null    float64\n",
      " 39  EH      617 non-null    float64\n",
      " 40  EJ      617 non-null    object \n",
      " 41  EL      557 non-null    float64\n",
      " 42  EP      617 non-null    float64\n",
      " 43  EU      617 non-null    float64\n",
      " 44  FC      616 non-null    float64\n",
      " 45  FD      617 non-null    float64\n",
      " 46  FE      617 non-null    float64\n",
      " 47  FI      617 non-null    float64\n",
      " 48  FL      616 non-null    float64\n",
      " 49  FR      617 non-null    float64\n",
      " 50  FS      615 non-null    float64\n",
      " 51  GB      617 non-null    float64\n",
      " 52  GE      617 non-null    float64\n",
      " 53  GF      617 non-null    float64\n",
      " 54  GH      617 non-null    float64\n",
      " 55  GI      617 non-null    float64\n",
      " 56  GL      616 non-null    float64\n",
      " 57  Class   617 non-null    int64  \n",
      "dtypes: float64(55), int64(1), object(2)\n",
      "memory usage: 279.7+ KB\n"
     ]
    }
   ],
   "source": [
    "train_df.info()"
   ]
  },
  {
   "cell_type": "markdown",
   "id": "235c63d7",
   "metadata": {
    "papermill": {
     "duration": 0.021518,
     "end_time": "2023-06-24T03:08:31.072832",
     "exception": false,
     "start_time": "2023-06-24T03:08:31.051314",
     "status": "completed"
    },
    "tags": []
   },
   "source": [
    "The provided DataFrame has 617 rows and 58 columns. Here is a summary of the columns and their data types:\n",
    "\n",
    "    Columns 0 to 57: They contain various numeric features represented as float64 data type.\n",
    "    Column 58: It contains the target variable, represented as an int64 data type.\n",
    "    Columns \"Id\" (column 0) and \"EJ\" (column 40): They are object data types, which might contain string or categorical values.\n",
    "\n",
    "The DataFrame contains some missing values in several columns, indicated by the non-null counts that are less than the total number of rows (617). The columns with missing values include \"BQ,\" \"CB,\" \"CC,\" \"DU,\" \"EL,\" \"FL,\" \"FS,\" and \"GL.\""
   ]
  },
  {
   "cell_type": "code",
   "execution_count": 6,
   "id": "a460cce5",
   "metadata": {
    "execution": {
     "iopub.execute_input": "2023-06-24T03:08:31.117163Z",
     "iopub.status.busy": "2023-06-24T03:08:31.116887Z",
     "iopub.status.idle": "2023-06-24T03:08:31.122604Z",
     "shell.execute_reply": "2023-06-24T03:08:31.121743Z"
    },
    "papermill": {
     "duration": 0.030372,
     "end_time": "2023-06-24T03:08:31.124626",
     "exception": false,
     "start_time": "2023-06-24T03:08:31.094254",
     "status": "completed"
    },
    "tags": []
   },
   "outputs": [],
   "source": [
    "# It maps the value 'A' to 0 and the value 'B' to 1 using the replace() function. \n",
    "train_df['EJ'] = train_df['EJ'].replace({'A': 0, 'B': 1})"
   ]
  },
  {
   "cell_type": "markdown",
   "id": "2ba01a44",
   "metadata": {
    "papermill": {
     "duration": 0.022027,
     "end_time": "2023-06-24T03:08:31.168423",
     "exception": false,
     "start_time": "2023-06-24T03:08:31.146396",
     "status": "completed"
    },
    "tags": []
   },
   "source": [
    "The fillna() function is used to **replace missing values with a specified method or value**.\n",
    "\n",
    "In this case, **the method='ffill' argument specifies that missing values should be filled using the last known non-null value in each column**. This means that missing values will be **replaced with the most recent non-null value in the column**.\n",
    "\n",
    "After executing this code, the train_df DataFrame will have all missing values filled with the corresponding non-null values from the previous row."
   ]
  },
  {
   "cell_type": "code",
   "execution_count": 7,
   "id": "a9659a6b",
   "metadata": {
    "execution": {
     "iopub.execute_input": "2023-06-24T03:08:31.213977Z",
     "iopub.status.busy": "2023-06-24T03:08:31.213439Z",
     "iopub.status.idle": "2023-06-24T03:08:31.220972Z",
     "shell.execute_reply": "2023-06-24T03:08:31.220063Z"
    },
    "papermill": {
     "duration": 0.032233,
     "end_time": "2023-06-24T03:08:31.223090",
     "exception": false,
     "start_time": "2023-06-24T03:08:31.190857",
     "status": "completed"
    },
    "tags": []
   },
   "outputs": [],
   "source": [
    "# Replace missing values with the most recent non-null value in the column.\n",
    "train_df = train_df.fillna(method = 'ffill')"
   ]
  },
  {
   "cell_type": "code",
   "execution_count": 8,
   "id": "284b3a2c",
   "metadata": {
    "execution": {
     "iopub.execute_input": "2023-06-24T03:08:31.267533Z",
     "iopub.status.busy": "2023-06-24T03:08:31.267184Z",
     "iopub.status.idle": "2023-06-24T03:08:31.281388Z",
     "shell.execute_reply": "2023-06-24T03:08:31.280193Z"
    },
    "papermill": {
     "duration": 0.038613,
     "end_time": "2023-06-24T03:08:31.283368",
     "exception": false,
     "start_time": "2023-06-24T03:08:31.244755",
     "status": "completed"
    },
    "tags": []
   },
   "outputs": [
    {
     "name": "stdout",
     "output_type": "stream",
     "text": [
      "<class 'pandas.core.frame.DataFrame'>\n",
      "RangeIndex: 617 entries, 0 to 616\n",
      "Data columns (total 58 columns):\n",
      " #   Column  Non-Null Count  Dtype  \n",
      "---  ------  --------------  -----  \n",
      " 0   Id      617 non-null    object \n",
      " 1   AB      617 non-null    float64\n",
      " 2   AF      617 non-null    float64\n",
      " 3   AH      617 non-null    float64\n",
      " 4   AM      617 non-null    float64\n",
      " 5   AR      617 non-null    float64\n",
      " 6   AX      617 non-null    float64\n",
      " 7   AY      617 non-null    float64\n",
      " 8   AZ      617 non-null    float64\n",
      " 9   BC      617 non-null    float64\n",
      " 10  BD      617 non-null    float64\n",
      " 11  BN      617 non-null    float64\n",
      " 12  BP      617 non-null    float64\n",
      " 13  BQ      617 non-null    float64\n",
      " 14  BR      617 non-null    float64\n",
      " 15  BZ      617 non-null    float64\n",
      " 16  CB      617 non-null    float64\n",
      " 17  CC      617 non-null    float64\n",
      " 18  CD      617 non-null    float64\n",
      " 19  CF      617 non-null    float64\n",
      " 20  CH      617 non-null    float64\n",
      " 21  CL      617 non-null    float64\n",
      " 22  CR      617 non-null    float64\n",
      " 23  CS      617 non-null    float64\n",
      " 24  CU      617 non-null    float64\n",
      " 25  CW      617 non-null    float64\n",
      " 26  DA      617 non-null    float64\n",
      " 27  DE      617 non-null    float64\n",
      " 28  DF      617 non-null    float64\n",
      " 29  DH      617 non-null    float64\n",
      " 30  DI      617 non-null    float64\n",
      " 31  DL      617 non-null    float64\n",
      " 32  DN      617 non-null    float64\n",
      " 33  DU      617 non-null    float64\n",
      " 34  DV      617 non-null    float64\n",
      " 35  DY      617 non-null    float64\n",
      " 36  EB      617 non-null    float64\n",
      " 37  EE      617 non-null    float64\n",
      " 38  EG      617 non-null    float64\n",
      " 39  EH      617 non-null    float64\n",
      " 40  EJ      617 non-null    int64  \n",
      " 41  EL      617 non-null    float64\n",
      " 42  EP      617 non-null    float64\n",
      " 43  EU      617 non-null    float64\n",
      " 44  FC      617 non-null    float64\n",
      " 45  FD      617 non-null    float64\n",
      " 46  FE      617 non-null    float64\n",
      " 47  FI      617 non-null    float64\n",
      " 48  FL      617 non-null    float64\n",
      " 49  FR      617 non-null    float64\n",
      " 50  FS      617 non-null    float64\n",
      " 51  GB      617 non-null    float64\n",
      " 52  GE      617 non-null    float64\n",
      " 53  GF      617 non-null    float64\n",
      " 54  GH      617 non-null    float64\n",
      " 55  GI      617 non-null    float64\n",
      " 56  GL      617 non-null    float64\n",
      " 57  Class   617 non-null    int64  \n",
      "dtypes: float64(55), int64(2), object(1)\n",
      "memory usage: 279.7+ KB\n"
     ]
    }
   ],
   "source": [
    "train_df.info()"
   ]
  },
  {
   "cell_type": "code",
   "execution_count": 9,
   "id": "7335eae0",
   "metadata": {
    "execution": {
     "iopub.execute_input": "2023-06-24T03:08:31.328934Z",
     "iopub.status.busy": "2023-06-24T03:08:31.328154Z",
     "iopub.status.idle": "2023-06-24T03:08:31.335541Z",
     "shell.execute_reply": "2023-06-24T03:08:31.334773Z"
    },
    "papermill": {
     "duration": 0.032106,
     "end_time": "2023-06-24T03:08:31.337508",
     "exception": false,
     "start_time": "2023-06-24T03:08:31.305402",
     "status": "completed"
    },
    "tags": []
   },
   "outputs": [
    {
     "data": {
      "text/plain": [
       "0    509\n",
       "1    108\n",
       "Name: Class, dtype: int64"
      ]
     },
     "execution_count": 9,
     "metadata": {},
     "output_type": "execute_result"
    }
   ],
   "source": [
    "train_df['Class'].value_counts()"
   ]
  },
  {
   "cell_type": "markdown",
   "id": "eb71f392",
   "metadata": {
    "papermill": {
     "duration": 0.02218,
     "end_time": "2023-06-24T03:08:31.381738",
     "exception": false,
     "start_time": "2023-06-24T03:08:31.359558",
     "status": "completed"
    },
    "tags": []
   },
   "source": [
    "The output shows that there are 509 instances with the value 0 and 108 instances with the value 1 in the 'Class' column."
   ]
  },
  {
   "cell_type": "code",
   "execution_count": 10,
   "id": "029b8c52",
   "metadata": {
    "execution": {
     "iopub.execute_input": "2023-06-24T03:08:31.427851Z",
     "iopub.status.busy": "2023-06-24T03:08:31.427546Z",
     "iopub.status.idle": "2023-06-24T03:08:31.457754Z",
     "shell.execute_reply": "2023-06-24T03:08:31.456854Z"
    },
    "papermill": {
     "duration": 0.055633,
     "end_time": "2023-06-24T03:08:31.460046",
     "exception": false,
     "start_time": "2023-06-24T03:08:31.404413",
     "status": "completed"
    },
    "tags": []
   },
   "outputs": [
    {
     "data": {
      "text/html": [
       "<div>\n",
       "<style scoped>\n",
       "    .dataframe tbody tr th:only-of-type {\n",
       "        vertical-align: middle;\n",
       "    }\n",
       "\n",
       "    .dataframe tbody tr th {\n",
       "        vertical-align: top;\n",
       "    }\n",
       "\n",
       "    .dataframe thead th {\n",
       "        text-align: right;\n",
       "    }\n",
       "</style>\n",
       "<table border=\"1\" class=\"dataframe\">\n",
       "  <thead>\n",
       "    <tr style=\"text-align: right;\">\n",
       "      <th></th>\n",
       "      <th>Id</th>\n",
       "      <th>AB</th>\n",
       "      <th>AF</th>\n",
       "      <th>AH</th>\n",
       "      <th>AM</th>\n",
       "      <th>AR</th>\n",
       "      <th>AX</th>\n",
       "      <th>AY</th>\n",
       "      <th>AZ</th>\n",
       "      <th>BC</th>\n",
       "      <th>...</th>\n",
       "      <th>FI</th>\n",
       "      <th>FL</th>\n",
       "      <th>FR</th>\n",
       "      <th>FS</th>\n",
       "      <th>GB</th>\n",
       "      <th>GE</th>\n",
       "      <th>GF</th>\n",
       "      <th>GH</th>\n",
       "      <th>GI</th>\n",
       "      <th>GL</th>\n",
       "    </tr>\n",
       "  </thead>\n",
       "  <tbody>\n",
       "    <tr>\n",
       "      <th>0</th>\n",
       "      <td>00eed32682bb</td>\n",
       "      <td>0.0</td>\n",
       "      <td>0.0</td>\n",
       "      <td>0.0</td>\n",
       "      <td>0.0</td>\n",
       "      <td>0.0</td>\n",
       "      <td>0.0</td>\n",
       "      <td>0.0</td>\n",
       "      <td>0.0</td>\n",
       "      <td>0.0</td>\n",
       "      <td>...</td>\n",
       "      <td>0.0</td>\n",
       "      <td>0.0</td>\n",
       "      <td>0.0</td>\n",
       "      <td>0.0</td>\n",
       "      <td>0.0</td>\n",
       "      <td>0.0</td>\n",
       "      <td>0.0</td>\n",
       "      <td>0.0</td>\n",
       "      <td>0.0</td>\n",
       "      <td>0.0</td>\n",
       "    </tr>\n",
       "    <tr>\n",
       "      <th>1</th>\n",
       "      <td>010ebe33f668</td>\n",
       "      <td>0.0</td>\n",
       "      <td>0.0</td>\n",
       "      <td>0.0</td>\n",
       "      <td>0.0</td>\n",
       "      <td>0.0</td>\n",
       "      <td>0.0</td>\n",
       "      <td>0.0</td>\n",
       "      <td>0.0</td>\n",
       "      <td>0.0</td>\n",
       "      <td>...</td>\n",
       "      <td>0.0</td>\n",
       "      <td>0.0</td>\n",
       "      <td>0.0</td>\n",
       "      <td>0.0</td>\n",
       "      <td>0.0</td>\n",
       "      <td>0.0</td>\n",
       "      <td>0.0</td>\n",
       "      <td>0.0</td>\n",
       "      <td>0.0</td>\n",
       "      <td>0.0</td>\n",
       "    </tr>\n",
       "    <tr>\n",
       "      <th>2</th>\n",
       "      <td>02fa521e1838</td>\n",
       "      <td>0.0</td>\n",
       "      <td>0.0</td>\n",
       "      <td>0.0</td>\n",
       "      <td>0.0</td>\n",
       "      <td>0.0</td>\n",
       "      <td>0.0</td>\n",
       "      <td>0.0</td>\n",
       "      <td>0.0</td>\n",
       "      <td>0.0</td>\n",
       "      <td>...</td>\n",
       "      <td>0.0</td>\n",
       "      <td>0.0</td>\n",
       "      <td>0.0</td>\n",
       "      <td>0.0</td>\n",
       "      <td>0.0</td>\n",
       "      <td>0.0</td>\n",
       "      <td>0.0</td>\n",
       "      <td>0.0</td>\n",
       "      <td>0.0</td>\n",
       "      <td>0.0</td>\n",
       "    </tr>\n",
       "    <tr>\n",
       "      <th>3</th>\n",
       "      <td>040e15f562a2</td>\n",
       "      <td>0.0</td>\n",
       "      <td>0.0</td>\n",
       "      <td>0.0</td>\n",
       "      <td>0.0</td>\n",
       "      <td>0.0</td>\n",
       "      <td>0.0</td>\n",
       "      <td>0.0</td>\n",
       "      <td>0.0</td>\n",
       "      <td>0.0</td>\n",
       "      <td>...</td>\n",
       "      <td>0.0</td>\n",
       "      <td>0.0</td>\n",
       "      <td>0.0</td>\n",
       "      <td>0.0</td>\n",
       "      <td>0.0</td>\n",
       "      <td>0.0</td>\n",
       "      <td>0.0</td>\n",
       "      <td>0.0</td>\n",
       "      <td>0.0</td>\n",
       "      <td>0.0</td>\n",
       "    </tr>\n",
       "    <tr>\n",
       "      <th>4</th>\n",
       "      <td>046e85c7cc7f</td>\n",
       "      <td>0.0</td>\n",
       "      <td>0.0</td>\n",
       "      <td>0.0</td>\n",
       "      <td>0.0</td>\n",
       "      <td>0.0</td>\n",
       "      <td>0.0</td>\n",
       "      <td>0.0</td>\n",
       "      <td>0.0</td>\n",
       "      <td>0.0</td>\n",
       "      <td>...</td>\n",
       "      <td>0.0</td>\n",
       "      <td>0.0</td>\n",
       "      <td>0.0</td>\n",
       "      <td>0.0</td>\n",
       "      <td>0.0</td>\n",
       "      <td>0.0</td>\n",
       "      <td>0.0</td>\n",
       "      <td>0.0</td>\n",
       "      <td>0.0</td>\n",
       "      <td>0.0</td>\n",
       "    </tr>\n",
       "  </tbody>\n",
       "</table>\n",
       "<p>5 rows × 57 columns</p>\n",
       "</div>"
      ],
      "text/plain": [
       "             Id   AB   AF   AH   AM   AR   AX   AY   AZ   BC  ...   FI   FL  \\\n",
       "0  00eed32682bb  0.0  0.0  0.0  0.0  0.0  0.0  0.0  0.0  0.0  ...  0.0  0.0   \n",
       "1  010ebe33f668  0.0  0.0  0.0  0.0  0.0  0.0  0.0  0.0  0.0  ...  0.0  0.0   \n",
       "2  02fa521e1838  0.0  0.0  0.0  0.0  0.0  0.0  0.0  0.0  0.0  ...  0.0  0.0   \n",
       "3  040e15f562a2  0.0  0.0  0.0  0.0  0.0  0.0  0.0  0.0  0.0  ...  0.0  0.0   \n",
       "4  046e85c7cc7f  0.0  0.0  0.0  0.0  0.0  0.0  0.0  0.0  0.0  ...  0.0  0.0   \n",
       "\n",
       "    FR   FS   GB   GE   GF   GH   GI   GL  \n",
       "0  0.0  0.0  0.0  0.0  0.0  0.0  0.0  0.0  \n",
       "1  0.0  0.0  0.0  0.0  0.0  0.0  0.0  0.0  \n",
       "2  0.0  0.0  0.0  0.0  0.0  0.0  0.0  0.0  \n",
       "3  0.0  0.0  0.0  0.0  0.0  0.0  0.0  0.0  \n",
       "4  0.0  0.0  0.0  0.0  0.0  0.0  0.0  0.0  \n",
       "\n",
       "[5 rows x 57 columns]"
      ]
     },
     "execution_count": 10,
     "metadata": {},
     "output_type": "execute_result"
    }
   ],
   "source": [
    "test_df"
   ]
  },
  {
   "cell_type": "markdown",
   "id": "fffb5216",
   "metadata": {
    "papermill": {
     "duration": 0.022451,
     "end_time": "2023-06-24T03:08:31.504782",
     "exception": false,
     "start_time": "2023-06-24T03:08:31.482331",
     "status": "completed"
    },
    "tags": []
   },
   "source": [
    "The DataFrame 'test_df' contains 5 rows and 57 columns. Each row represents a sample, and each column represents a feature.\n",
    "\n",
    "Here is a summary of the columns in 'test_df':\n",
    "\n",
    "    Id: The unique identifier for each sample.\n",
    "    AB, AF, AH, AM, AR, AX, AY, AZ, BC, ...: Numerical features.\n",
    "    FI, FL, FR, FS, GB, GE, GF, GH, GI, GL: Numerical features.\n",
    "    There is no 'Class' column in the 'test_df' DataFrame."
   ]
  },
  {
   "cell_type": "code",
   "execution_count": 11,
   "id": "7a7a284a",
   "metadata": {
    "execution": {
     "iopub.execute_input": "2023-06-24T03:08:31.553739Z",
     "iopub.status.busy": "2023-06-24T03:08:31.553390Z",
     "iopub.status.idle": "2023-06-24T03:08:31.699126Z",
     "shell.execute_reply": "2023-06-24T03:08:31.698276Z"
    },
    "papermill": {
     "duration": 0.172219,
     "end_time": "2023-06-24T03:08:31.701188",
     "exception": false,
     "start_time": "2023-06-24T03:08:31.528969",
     "status": "completed"
    },
    "tags": []
   },
   "outputs": [
    {
     "data": {
      "text/html": [
       "<div>\n",
       "<style scoped>\n",
       "    .dataframe tbody tr th:only-of-type {\n",
       "        vertical-align: middle;\n",
       "    }\n",
       "\n",
       "    .dataframe tbody tr th {\n",
       "        vertical-align: top;\n",
       "    }\n",
       "\n",
       "    .dataframe thead th {\n",
       "        text-align: right;\n",
       "    }\n",
       "</style>\n",
       "<table border=\"1\" class=\"dataframe\">\n",
       "  <thead>\n",
       "    <tr style=\"text-align: right;\">\n",
       "      <th></th>\n",
       "      <th>AB</th>\n",
       "      <th>AF</th>\n",
       "      <th>AH</th>\n",
       "      <th>AM</th>\n",
       "      <th>AR</th>\n",
       "      <th>AX</th>\n",
       "      <th>AY</th>\n",
       "      <th>AZ</th>\n",
       "      <th>BC</th>\n",
       "      <th>BD</th>\n",
       "      <th>...</th>\n",
       "      <th>FI</th>\n",
       "      <th>FL</th>\n",
       "      <th>FR</th>\n",
       "      <th>FS</th>\n",
       "      <th>GB</th>\n",
       "      <th>GE</th>\n",
       "      <th>GF</th>\n",
       "      <th>GH</th>\n",
       "      <th>GI</th>\n",
       "      <th>GL</th>\n",
       "    </tr>\n",
       "  </thead>\n",
       "  <tbody>\n",
       "    <tr>\n",
       "      <th>count</th>\n",
       "      <td>5.0</td>\n",
       "      <td>5.0</td>\n",
       "      <td>5.0</td>\n",
       "      <td>5.0</td>\n",
       "      <td>5.0</td>\n",
       "      <td>5.0</td>\n",
       "      <td>5.0</td>\n",
       "      <td>5.0</td>\n",
       "      <td>5.0</td>\n",
       "      <td>5.0</td>\n",
       "      <td>...</td>\n",
       "      <td>5.0</td>\n",
       "      <td>5.0</td>\n",
       "      <td>5.0</td>\n",
       "      <td>5.0</td>\n",
       "      <td>5.0</td>\n",
       "      <td>5.0</td>\n",
       "      <td>5.0</td>\n",
       "      <td>5.0</td>\n",
       "      <td>5.0</td>\n",
       "      <td>5.0</td>\n",
       "    </tr>\n",
       "    <tr>\n",
       "      <th>mean</th>\n",
       "      <td>0.0</td>\n",
       "      <td>0.0</td>\n",
       "      <td>0.0</td>\n",
       "      <td>0.0</td>\n",
       "      <td>0.0</td>\n",
       "      <td>0.0</td>\n",
       "      <td>0.0</td>\n",
       "      <td>0.0</td>\n",
       "      <td>0.0</td>\n",
       "      <td>0.0</td>\n",
       "      <td>...</td>\n",
       "      <td>0.0</td>\n",
       "      <td>0.0</td>\n",
       "      <td>0.0</td>\n",
       "      <td>0.0</td>\n",
       "      <td>0.0</td>\n",
       "      <td>0.0</td>\n",
       "      <td>0.0</td>\n",
       "      <td>0.0</td>\n",
       "      <td>0.0</td>\n",
       "      <td>0.0</td>\n",
       "    </tr>\n",
       "    <tr>\n",
       "      <th>std</th>\n",
       "      <td>0.0</td>\n",
       "      <td>0.0</td>\n",
       "      <td>0.0</td>\n",
       "      <td>0.0</td>\n",
       "      <td>0.0</td>\n",
       "      <td>0.0</td>\n",
       "      <td>0.0</td>\n",
       "      <td>0.0</td>\n",
       "      <td>0.0</td>\n",
       "      <td>0.0</td>\n",
       "      <td>...</td>\n",
       "      <td>0.0</td>\n",
       "      <td>0.0</td>\n",
       "      <td>0.0</td>\n",
       "      <td>0.0</td>\n",
       "      <td>0.0</td>\n",
       "      <td>0.0</td>\n",
       "      <td>0.0</td>\n",
       "      <td>0.0</td>\n",
       "      <td>0.0</td>\n",
       "      <td>0.0</td>\n",
       "    </tr>\n",
       "    <tr>\n",
       "      <th>min</th>\n",
       "      <td>0.0</td>\n",
       "      <td>0.0</td>\n",
       "      <td>0.0</td>\n",
       "      <td>0.0</td>\n",
       "      <td>0.0</td>\n",
       "      <td>0.0</td>\n",
       "      <td>0.0</td>\n",
       "      <td>0.0</td>\n",
       "      <td>0.0</td>\n",
       "      <td>0.0</td>\n",
       "      <td>...</td>\n",
       "      <td>0.0</td>\n",
       "      <td>0.0</td>\n",
       "      <td>0.0</td>\n",
       "      <td>0.0</td>\n",
       "      <td>0.0</td>\n",
       "      <td>0.0</td>\n",
       "      <td>0.0</td>\n",
       "      <td>0.0</td>\n",
       "      <td>0.0</td>\n",
       "      <td>0.0</td>\n",
       "    </tr>\n",
       "    <tr>\n",
       "      <th>25%</th>\n",
       "      <td>0.0</td>\n",
       "      <td>0.0</td>\n",
       "      <td>0.0</td>\n",
       "      <td>0.0</td>\n",
       "      <td>0.0</td>\n",
       "      <td>0.0</td>\n",
       "      <td>0.0</td>\n",
       "      <td>0.0</td>\n",
       "      <td>0.0</td>\n",
       "      <td>0.0</td>\n",
       "      <td>...</td>\n",
       "      <td>0.0</td>\n",
       "      <td>0.0</td>\n",
       "      <td>0.0</td>\n",
       "      <td>0.0</td>\n",
       "      <td>0.0</td>\n",
       "      <td>0.0</td>\n",
       "      <td>0.0</td>\n",
       "      <td>0.0</td>\n",
       "      <td>0.0</td>\n",
       "      <td>0.0</td>\n",
       "    </tr>\n",
       "    <tr>\n",
       "      <th>50%</th>\n",
       "      <td>0.0</td>\n",
       "      <td>0.0</td>\n",
       "      <td>0.0</td>\n",
       "      <td>0.0</td>\n",
       "      <td>0.0</td>\n",
       "      <td>0.0</td>\n",
       "      <td>0.0</td>\n",
       "      <td>0.0</td>\n",
       "      <td>0.0</td>\n",
       "      <td>0.0</td>\n",
       "      <td>...</td>\n",
       "      <td>0.0</td>\n",
       "      <td>0.0</td>\n",
       "      <td>0.0</td>\n",
       "      <td>0.0</td>\n",
       "      <td>0.0</td>\n",
       "      <td>0.0</td>\n",
       "      <td>0.0</td>\n",
       "      <td>0.0</td>\n",
       "      <td>0.0</td>\n",
       "      <td>0.0</td>\n",
       "    </tr>\n",
       "    <tr>\n",
       "      <th>75%</th>\n",
       "      <td>0.0</td>\n",
       "      <td>0.0</td>\n",
       "      <td>0.0</td>\n",
       "      <td>0.0</td>\n",
       "      <td>0.0</td>\n",
       "      <td>0.0</td>\n",
       "      <td>0.0</td>\n",
       "      <td>0.0</td>\n",
       "      <td>0.0</td>\n",
       "      <td>0.0</td>\n",
       "      <td>...</td>\n",
       "      <td>0.0</td>\n",
       "      <td>0.0</td>\n",
       "      <td>0.0</td>\n",
       "      <td>0.0</td>\n",
       "      <td>0.0</td>\n",
       "      <td>0.0</td>\n",
       "      <td>0.0</td>\n",
       "      <td>0.0</td>\n",
       "      <td>0.0</td>\n",
       "      <td>0.0</td>\n",
       "    </tr>\n",
       "    <tr>\n",
       "      <th>max</th>\n",
       "      <td>0.0</td>\n",
       "      <td>0.0</td>\n",
       "      <td>0.0</td>\n",
       "      <td>0.0</td>\n",
       "      <td>0.0</td>\n",
       "      <td>0.0</td>\n",
       "      <td>0.0</td>\n",
       "      <td>0.0</td>\n",
       "      <td>0.0</td>\n",
       "      <td>0.0</td>\n",
       "      <td>...</td>\n",
       "      <td>0.0</td>\n",
       "      <td>0.0</td>\n",
       "      <td>0.0</td>\n",
       "      <td>0.0</td>\n",
       "      <td>0.0</td>\n",
       "      <td>0.0</td>\n",
       "      <td>0.0</td>\n",
       "      <td>0.0</td>\n",
       "      <td>0.0</td>\n",
       "      <td>0.0</td>\n",
       "    </tr>\n",
       "  </tbody>\n",
       "</table>\n",
       "<p>8 rows × 55 columns</p>\n",
       "</div>"
      ],
      "text/plain": [
       "        AB   AF   AH   AM   AR   AX   AY   AZ   BC  BD   ...   FI   FL   FR  \\\n",
       "count  5.0  5.0  5.0  5.0  5.0  5.0  5.0  5.0  5.0  5.0  ...  5.0  5.0  5.0   \n",
       "mean   0.0  0.0  0.0  0.0  0.0  0.0  0.0  0.0  0.0  0.0  ...  0.0  0.0  0.0   \n",
       "std    0.0  0.0  0.0  0.0  0.0  0.0  0.0  0.0  0.0  0.0  ...  0.0  0.0  0.0   \n",
       "min    0.0  0.0  0.0  0.0  0.0  0.0  0.0  0.0  0.0  0.0  ...  0.0  0.0  0.0   \n",
       "25%    0.0  0.0  0.0  0.0  0.0  0.0  0.0  0.0  0.0  0.0  ...  0.0  0.0  0.0   \n",
       "50%    0.0  0.0  0.0  0.0  0.0  0.0  0.0  0.0  0.0  0.0  ...  0.0  0.0  0.0   \n",
       "75%    0.0  0.0  0.0  0.0  0.0  0.0  0.0  0.0  0.0  0.0  ...  0.0  0.0  0.0   \n",
       "max    0.0  0.0  0.0  0.0  0.0  0.0  0.0  0.0  0.0  0.0  ...  0.0  0.0  0.0   \n",
       "\n",
       "        FS   GB   GE   GF   GH   GI   GL  \n",
       "count  5.0  5.0  5.0  5.0  5.0  5.0  5.0  \n",
       "mean   0.0  0.0  0.0  0.0  0.0  0.0  0.0  \n",
       "std    0.0  0.0  0.0  0.0  0.0  0.0  0.0  \n",
       "min    0.0  0.0  0.0  0.0  0.0  0.0  0.0  \n",
       "25%    0.0  0.0  0.0  0.0  0.0  0.0  0.0  \n",
       "50%    0.0  0.0  0.0  0.0  0.0  0.0  0.0  \n",
       "75%    0.0  0.0  0.0  0.0  0.0  0.0  0.0  \n",
       "max    0.0  0.0  0.0  0.0  0.0  0.0  0.0  \n",
       "\n",
       "[8 rows x 55 columns]"
      ]
     },
     "execution_count": 11,
     "metadata": {},
     "output_type": "execute_result"
    }
   ],
   "source": [
    "test_df.describe()"
   ]
  },
  {
   "cell_type": "code",
   "execution_count": 12,
   "id": "f45c95bf",
   "metadata": {
    "execution": {
     "iopub.execute_input": "2023-06-24T03:08:31.749255Z",
     "iopub.status.busy": "2023-06-24T03:08:31.748935Z",
     "iopub.status.idle": "2023-06-24T03:08:31.761690Z",
     "shell.execute_reply": "2023-06-24T03:08:31.761085Z"
    },
    "papermill": {
     "duration": 0.039199,
     "end_time": "2023-06-24T03:08:31.764128",
     "exception": false,
     "start_time": "2023-06-24T03:08:31.724929",
     "status": "completed"
    },
    "tags": []
   },
   "outputs": [
    {
     "name": "stdout",
     "output_type": "stream",
     "text": [
      "<class 'pandas.core.frame.DataFrame'>\n",
      "RangeIndex: 5 entries, 0 to 4\n",
      "Data columns (total 57 columns):\n",
      " #   Column  Non-Null Count  Dtype  \n",
      "---  ------  --------------  -----  \n",
      " 0   Id      5 non-null      object \n",
      " 1   AB      5 non-null      float64\n",
      " 2   AF      5 non-null      float64\n",
      " 3   AH      5 non-null      float64\n",
      " 4   AM      5 non-null      float64\n",
      " 5   AR      5 non-null      float64\n",
      " 6   AX      5 non-null      float64\n",
      " 7   AY      5 non-null      float64\n",
      " 8   AZ      5 non-null      float64\n",
      " 9   BC      5 non-null      float64\n",
      " 10  BD      5 non-null      float64\n",
      " 11  BN      5 non-null      float64\n",
      " 12  BP      5 non-null      float64\n",
      " 13  BQ      5 non-null      float64\n",
      " 14  BR      5 non-null      float64\n",
      " 15  BZ      5 non-null      float64\n",
      " 16  CB      5 non-null      float64\n",
      " 17  CC      5 non-null      float64\n",
      " 18  CD      5 non-null      float64\n",
      " 19  CF      5 non-null      float64\n",
      " 20  CH      5 non-null      float64\n",
      " 21  CL      5 non-null      float64\n",
      " 22  CR      5 non-null      float64\n",
      " 23  CS      5 non-null      float64\n",
      " 24  CU      5 non-null      float64\n",
      " 25  CW      5 non-null      float64\n",
      " 26  DA      5 non-null      float64\n",
      " 27  DE      5 non-null      float64\n",
      " 28  DF      5 non-null      float64\n",
      " 29  DH      5 non-null      float64\n",
      " 30  DI      5 non-null      float64\n",
      " 31  DL      5 non-null      float64\n",
      " 32  DN      5 non-null      float64\n",
      " 33  DU      5 non-null      float64\n",
      " 34  DV      5 non-null      float64\n",
      " 35  DY      5 non-null      float64\n",
      " 36  EB      5 non-null      float64\n",
      " 37  EE      5 non-null      float64\n",
      " 38  EG      5 non-null      float64\n",
      " 39  EH      5 non-null      float64\n",
      " 40  EJ      5 non-null      object \n",
      " 41  EL      5 non-null      float64\n",
      " 42  EP      5 non-null      float64\n",
      " 43  EU      5 non-null      float64\n",
      " 44  FC      5 non-null      float64\n",
      " 45  FD      5 non-null      float64\n",
      " 46  FE      5 non-null      float64\n",
      " 47  FI      5 non-null      float64\n",
      " 48  FL      5 non-null      float64\n",
      " 49  FR      5 non-null      float64\n",
      " 50  FS      5 non-null      float64\n",
      " 51  GB      5 non-null      float64\n",
      " 52  GE      5 non-null      float64\n",
      " 53  GF      5 non-null      float64\n",
      " 54  GH      5 non-null      float64\n",
      " 55  GI      5 non-null      float64\n",
      " 56  GL      5 non-null      float64\n",
      "dtypes: float64(55), object(2)\n",
      "memory usage: 2.4+ KB\n"
     ]
    }
   ],
   "source": [
    "test_df.info()"
   ]
  },
  {
   "cell_type": "markdown",
   "id": "31bc7603",
   "metadata": {
    "papermill": {
     "duration": 0.022968,
     "end_time": "2023-06-24T03:08:31.810080",
     "exception": false,
     "start_time": "2023-06-24T03:08:31.787112",
     "status": "completed"
    },
    "tags": []
   },
   "source": [
    "The DataFrame 'test_df' has 5 entries (rows) and 57 columns. The data types of the columns are as follows:\n",
    "\n",
    "    'Id': object\n",
    "    'AB', 'AF', 'AH', 'AM', 'AR', 'AX', 'AY', 'AZ', 'BC', ...: float64\n",
    "    'FI', 'FL', 'FR', 'FS', 'GB', 'GE', 'GF', 'GH', 'GI', 'GL': float64\n",
    "\n",
    "All columns have non-null values, and the memory usage of the DataFrame is approximately 2.4 KB."
   ]
  },
  {
   "cell_type": "code",
   "execution_count": 13,
   "id": "24954a9a",
   "metadata": {
    "execution": {
     "iopub.execute_input": "2023-06-24T03:08:31.858154Z",
     "iopub.status.busy": "2023-06-24T03:08:31.857651Z",
     "iopub.status.idle": "2023-06-24T03:08:31.862259Z",
     "shell.execute_reply": "2023-06-24T03:08:31.861559Z"
    },
    "papermill": {
     "duration": 0.030667,
     "end_time": "2023-06-24T03:08:31.864116",
     "exception": false,
     "start_time": "2023-06-24T03:08:31.833449",
     "status": "completed"
    },
    "tags": []
   },
   "outputs": [],
   "source": [
    "# It maps the value 'A' to 0 and the value 'B' to 1 using the replace() function.\n",
    "test_df['EJ'] = test_df['EJ'].replace({'A': 0, 'B': 1})"
   ]
  },
  {
   "cell_type": "markdown",
   "id": "aff8aefe",
   "metadata": {
    "papermill": {
     "duration": 0.023053,
     "end_time": "2023-06-24T03:08:31.910253",
     "exception": false,
     "start_time": "2023-06-24T03:08:31.887200",
     "status": "completed"
    },
    "tags": []
   },
   "source": [
    "Although non-null values are not observed in these test data, **there may be non-null values in the hidden test data**. Thus, we must replace these values with something in advance."
   ]
  },
  {
   "cell_type": "code",
   "execution_count": 14,
   "id": "1de17e8d",
   "metadata": {
    "execution": {
     "iopub.execute_input": "2023-06-24T03:08:31.957804Z",
     "iopub.status.busy": "2023-06-24T03:08:31.957445Z",
     "iopub.status.idle": "2023-06-24T03:08:31.961913Z",
     "shell.execute_reply": "2023-06-24T03:08:31.961043Z"
    },
    "papermill": {
     "duration": 0.030786,
     "end_time": "2023-06-24T03:08:31.963903",
     "exception": false,
     "start_time": "2023-06-24T03:08:31.933117",
     "status": "completed"
    },
    "tags": []
   },
   "outputs": [],
   "source": [
    "# Replace missing values with the most recent non-null value in the column.\n",
    "test_df = test_df.fillna(method = 'ffill')"
   ]
  },
  {
   "cell_type": "code",
   "execution_count": 15,
   "id": "312bc34b",
   "metadata": {
    "execution": {
     "iopub.execute_input": "2023-06-24T03:08:32.010899Z",
     "iopub.status.busy": "2023-06-24T03:08:32.010341Z",
     "iopub.status.idle": "2023-06-24T03:08:32.023213Z",
     "shell.execute_reply": "2023-06-24T03:08:32.022325Z"
    },
    "papermill": {
     "duration": 0.038496,
     "end_time": "2023-06-24T03:08:32.025130",
     "exception": false,
     "start_time": "2023-06-24T03:08:31.986634",
     "status": "completed"
    },
    "tags": []
   },
   "outputs": [
    {
     "data": {
      "text/html": [
       "<div>\n",
       "<style scoped>\n",
       "    .dataframe tbody tr th:only-of-type {\n",
       "        vertical-align: middle;\n",
       "    }\n",
       "\n",
       "    .dataframe tbody tr th {\n",
       "        vertical-align: top;\n",
       "    }\n",
       "\n",
       "    .dataframe thead th {\n",
       "        text-align: right;\n",
       "    }\n",
       "</style>\n",
       "<table border=\"1\" class=\"dataframe\">\n",
       "  <thead>\n",
       "    <tr style=\"text-align: right;\">\n",
       "      <th></th>\n",
       "      <th>Id</th>\n",
       "      <th>Alpha</th>\n",
       "      <th>Beta</th>\n",
       "      <th>Gamma</th>\n",
       "      <th>Delta</th>\n",
       "      <th>Epsilon</th>\n",
       "    </tr>\n",
       "  </thead>\n",
       "  <tbody>\n",
       "    <tr>\n",
       "      <th>0</th>\n",
       "      <td>000ff2bfdfe9</td>\n",
       "      <td>B</td>\n",
       "      <td>C</td>\n",
       "      <td>G</td>\n",
       "      <td>D</td>\n",
       "      <td>3/19/2019</td>\n",
       "    </tr>\n",
       "    <tr>\n",
       "      <th>1</th>\n",
       "      <td>007255e47698</td>\n",
       "      <td>A</td>\n",
       "      <td>C</td>\n",
       "      <td>M</td>\n",
       "      <td>B</td>\n",
       "      <td>Unknown</td>\n",
       "    </tr>\n",
       "    <tr>\n",
       "      <th>2</th>\n",
       "      <td>013f2bd269f5</td>\n",
       "      <td>A</td>\n",
       "      <td>C</td>\n",
       "      <td>M</td>\n",
       "      <td>B</td>\n",
       "      <td>Unknown</td>\n",
       "    </tr>\n",
       "    <tr>\n",
       "      <th>3</th>\n",
       "      <td>043ac50845d5</td>\n",
       "      <td>A</td>\n",
       "      <td>C</td>\n",
       "      <td>M</td>\n",
       "      <td>B</td>\n",
       "      <td>Unknown</td>\n",
       "    </tr>\n",
       "    <tr>\n",
       "      <th>4</th>\n",
       "      <td>044fb8a146ec</td>\n",
       "      <td>D</td>\n",
       "      <td>B</td>\n",
       "      <td>F</td>\n",
       "      <td>B</td>\n",
       "      <td>3/25/2020</td>\n",
       "    </tr>\n",
       "    <tr>\n",
       "      <th>...</th>\n",
       "      <td>...</td>\n",
       "      <td>...</td>\n",
       "      <td>...</td>\n",
       "      <td>...</td>\n",
       "      <td>...</td>\n",
       "      <td>...</td>\n",
       "    </tr>\n",
       "    <tr>\n",
       "      <th>612</th>\n",
       "      <td>fd3dafe738fd</td>\n",
       "      <td>A</td>\n",
       "      <td>B</td>\n",
       "      <td>M</td>\n",
       "      <td>B</td>\n",
       "      <td>9/13/2020</td>\n",
       "    </tr>\n",
       "    <tr>\n",
       "      <th>613</th>\n",
       "      <td>fd895603f071</td>\n",
       "      <td>A</td>\n",
       "      <td>B</td>\n",
       "      <td>M</td>\n",
       "      <td>B</td>\n",
       "      <td>9/8/2020</td>\n",
       "    </tr>\n",
       "    <tr>\n",
       "      <th>614</th>\n",
       "      <td>fd8ef6377f76</td>\n",
       "      <td>A</td>\n",
       "      <td>C</td>\n",
       "      <td>M</td>\n",
       "      <td>B</td>\n",
       "      <td>7/24/2019</td>\n",
       "    </tr>\n",
       "    <tr>\n",
       "      <th>615</th>\n",
       "      <td>fe1942975e40</td>\n",
       "      <td>A</td>\n",
       "      <td>C</td>\n",
       "      <td>M</td>\n",
       "      <td>B</td>\n",
       "      <td>1/31/2019</td>\n",
       "    </tr>\n",
       "    <tr>\n",
       "      <th>616</th>\n",
       "      <td>ffcca4ded3bb</td>\n",
       "      <td>A</td>\n",
       "      <td>C</td>\n",
       "      <td>M</td>\n",
       "      <td>B</td>\n",
       "      <td>Unknown</td>\n",
       "    </tr>\n",
       "  </tbody>\n",
       "</table>\n",
       "<p>617 rows × 6 columns</p>\n",
       "</div>"
      ],
      "text/plain": [
       "               Id Alpha Beta Gamma Delta    Epsilon\n",
       "0    000ff2bfdfe9     B    C     G     D  3/19/2019\n",
       "1    007255e47698     A    C     M     B    Unknown\n",
       "2    013f2bd269f5     A    C     M     B    Unknown\n",
       "3    043ac50845d5     A    C     M     B    Unknown\n",
       "4    044fb8a146ec     D    B     F     B  3/25/2020\n",
       "..            ...   ...  ...   ...   ...        ...\n",
       "612  fd3dafe738fd     A    B     M     B  9/13/2020\n",
       "613  fd895603f071     A    B     M     B   9/8/2020\n",
       "614  fd8ef6377f76     A    C     M     B  7/24/2019\n",
       "615  fe1942975e40     A    C     M     B  1/31/2019\n",
       "616  ffcca4ded3bb     A    C     M     B    Unknown\n",
       "\n",
       "[617 rows x 6 columns]"
      ]
     },
     "execution_count": 15,
     "metadata": {},
     "output_type": "execute_result"
    }
   ],
   "source": [
    "greeks_df"
   ]
  },
  {
   "cell_type": "markdown",
   "id": "26f334f7",
   "metadata": {
    "papermill": {
     "duration": 0.023715,
     "end_time": "2023-06-24T03:08:32.072792",
     "exception": false,
     "start_time": "2023-06-24T03:08:32.049077",
     "status": "completed"
    },
    "tags": []
   },
   "source": [
    "Supplemental metadata, only available for the training set.\n",
    "\n",
    "    Alpha Identifies the type of age-related condition, if present.\n",
    "        A No age-related condition. Corresponds to class 0.\n",
    "        B, D, G The three age-related conditions. Correspond to class 1.\n",
    "    Beta, Gamma, Delta Three experimental characteristics.\n",
    "    Epsilon The date the data for this subject was collected. Note that all of the data in the test set was collected after the training set was collected."
   ]
  },
  {
   "cell_type": "code",
   "execution_count": 16,
   "id": "8fdc2831",
   "metadata": {
    "execution": {
     "iopub.execute_input": "2023-06-24T03:08:32.120480Z",
     "iopub.status.busy": "2023-06-24T03:08:32.119963Z",
     "iopub.status.idle": "2023-06-24T03:08:32.130927Z",
     "shell.execute_reply": "2023-06-24T03:08:32.129742Z"
    },
    "papermill": {
     "duration": 0.037301,
     "end_time": "2023-06-24T03:08:32.132881",
     "exception": false,
     "start_time": "2023-06-24T03:08:32.095580",
     "status": "completed"
    },
    "tags": []
   },
   "outputs": [
    {
     "name": "stdout",
     "output_type": "stream",
     "text": [
      "<class 'pandas.core.frame.DataFrame'>\n",
      "RangeIndex: 617 entries, 0 to 616\n",
      "Data columns (total 6 columns):\n",
      " #   Column   Non-Null Count  Dtype \n",
      "---  ------   --------------  ----- \n",
      " 0   Id       617 non-null    object\n",
      " 1   Alpha    617 non-null    object\n",
      " 2   Beta     617 non-null    object\n",
      " 3   Gamma    617 non-null    object\n",
      " 4   Delta    617 non-null    object\n",
      " 5   Epsilon  617 non-null    object\n",
      "dtypes: object(6)\n",
      "memory usage: 29.0+ KB\n"
     ]
    }
   ],
   "source": [
    "greeks_df.info()"
   ]
  },
  {
   "cell_type": "code",
   "execution_count": 17,
   "id": "abcbd69b",
   "metadata": {
    "execution": {
     "iopub.execute_input": "2023-06-24T03:08:32.182042Z",
     "iopub.status.busy": "2023-06-24T03:08:32.181373Z",
     "iopub.status.idle": "2023-06-24T03:08:32.189771Z",
     "shell.execute_reply": "2023-06-24T03:08:32.188535Z"
    },
    "papermill": {
     "duration": 0.036054,
     "end_time": "2023-06-24T03:08:32.191899",
     "exception": false,
     "start_time": "2023-06-24T03:08:32.155845",
     "status": "completed"
    },
    "tags": []
   },
   "outputs": [
    {
     "name": "stdout",
     "output_type": "stream",
     "text": [
      "A: 509\n",
      "B: 61\n",
      "D: 18\n",
      "G: 29\n"
     ]
    }
   ],
   "source": [
    "# values of Alpha\n",
    "values = greeks_df.Alpha.values\n",
    "unique_values = np.unique(values)\n",
    "counts = np.bincount(np.searchsorted(unique_values, values))\n",
    "\n",
    "for value, count in zip(unique_values, counts):\n",
    "    print(f\"{value}: {count}\")"
   ]
  },
  {
   "cell_type": "code",
   "execution_count": 18,
   "id": "27947c3b",
   "metadata": {
    "execution": {
     "iopub.execute_input": "2023-06-24T03:08:32.242195Z",
     "iopub.status.busy": "2023-06-24T03:08:32.241907Z",
     "iopub.status.idle": "2023-06-24T03:08:32.248123Z",
     "shell.execute_reply": "2023-06-24T03:08:32.247217Z"
    },
    "papermill": {
     "duration": 0.033806,
     "end_time": "2023-06-24T03:08:32.250361",
     "exception": false,
     "start_time": "2023-06-24T03:08:32.216555",
     "status": "completed"
    },
    "tags": []
   },
   "outputs": [
    {
     "name": "stdout",
     "output_type": "stream",
     "text": [
      "A: 8\n",
      "B: 202\n",
      "C: 407\n"
     ]
    }
   ],
   "source": [
    "# values of Beta\n",
    "values = greeks_df.Beta.values\n",
    "unique_values = np.unique(values)\n",
    "counts = np.bincount(np.searchsorted(unique_values, values))\n",
    "\n",
    "for value, count in zip(unique_values, counts):\n",
    "    print(f\"{value}: {count}\")"
   ]
  },
  {
   "cell_type": "code",
   "execution_count": 19,
   "id": "7a1230f0",
   "metadata": {
    "execution": {
     "iopub.execute_input": "2023-06-24T03:08:32.299680Z",
     "iopub.status.busy": "2023-06-24T03:08:32.299019Z",
     "iopub.status.idle": "2023-06-24T03:08:32.305964Z",
     "shell.execute_reply": "2023-06-24T03:08:32.305015Z"
    },
    "papermill": {
     "duration": 0.033508,
     "end_time": "2023-06-24T03:08:32.307829",
     "exception": false,
     "start_time": "2023-06-24T03:08:32.274321",
     "status": "completed"
    },
    "tags": []
   },
   "outputs": [
    {
     "name": "stdout",
     "output_type": "stream",
     "text": [
      "A: 11\n",
      "B: 18\n",
      "E: 8\n",
      "F: 10\n",
      "G: 8\n",
      "H: 53\n",
      "M: 445\n",
      "N: 64\n"
     ]
    }
   ],
   "source": [
    "# values of Gamma\n",
    "values = greeks_df.Gamma.values\n",
    "unique_values = np.unique(values)\n",
    "counts = np.bincount(np.searchsorted(unique_values, values))\n",
    "\n",
    "for value, count in zip(unique_values, counts):\n",
    "    print(f\"{value}: {count}\")"
   ]
  },
  {
   "cell_type": "code",
   "execution_count": 20,
   "id": "a6aadddd",
   "metadata": {
    "execution": {
     "iopub.execute_input": "2023-06-24T03:08:32.357211Z",
     "iopub.status.busy": "2023-06-24T03:08:32.356892Z",
     "iopub.status.idle": "2023-06-24T03:08:32.364095Z",
     "shell.execute_reply": "2023-06-24T03:08:32.362746Z"
    },
    "papermill": {
     "duration": 0.03482,
     "end_time": "2023-06-24T03:08:32.366143",
     "exception": false,
     "start_time": "2023-06-24T03:08:32.331323",
     "status": "completed"
    },
    "tags": []
   },
   "outputs": [
    {
     "name": "stdout",
     "output_type": "stream",
     "text": [
      "A: 75\n",
      "B: 456\n",
      "C: 64\n",
      "D: 22\n"
     ]
    }
   ],
   "source": [
    "# values of Delta\n",
    "values = greeks_df.Delta.values\n",
    "unique_values = np.unique(values)\n",
    "counts = np.bincount(np.searchsorted(unique_values, values))\n",
    "\n",
    "for value, count in zip(unique_values, counts):\n",
    "    print(f\"{value}: {count}\")"
   ]
  },
  {
   "cell_type": "markdown",
   "id": "36b86573",
   "metadata": {
    "papermill": {
     "duration": 0.023909,
     "end_time": "2023-06-24T03:08:32.414351",
     "exception": false,
     "start_time": "2023-06-24T03:08:32.390442",
     "status": "completed"
    },
    "tags": []
   },
   "source": [
    "The code below performs the following operations:\n",
    "\n",
    "    1. Imports the date and datetime modules from the datetime library.\n",
    "    2. Creates a copy of the 'Epsilon' column from the 'greeks_df' DataFrame and assigns it to the variable times.\n",
    "    3. Updates the values in the times column based on the condition greeks_df.Epsilon != 'Unknown'. For the non-'Unknown' values, it uses the map() function to apply a lambda function that converts the string representation of a date to a datetime object using the format '%m/%d/%Y', and then converts it to an ordinal date using the toordinal() method.\n",
    "    4. Updates the values in the times column based on the condition greeks_df.Epsilon == 'Unknown'. For the 'Unknown' values, it assigns np.nan (representing missing values) to those positions.\n",
    "\n",
    "Note that in order to run this code, we need to have the necessary dependencies (numpy and pandas) imported and available in our environment."
   ]
  },
  {
   "cell_type": "code",
   "execution_count": 21,
   "id": "0e136363",
   "metadata": {
    "execution": {
     "iopub.execute_input": "2023-06-24T03:08:32.462388Z",
     "iopub.status.busy": "2023-06-24T03:08:32.462080Z",
     "iopub.status.idle": "2023-06-24T03:08:32.482727Z",
     "shell.execute_reply": "2023-06-24T03:08:32.481780Z"
    },
    "papermill": {
     "duration": 0.047061,
     "end_time": "2023-06-24T03:08:32.484931",
     "exception": false,
     "start_time": "2023-06-24T03:08:32.437870",
     "status": "completed"
    },
    "tags": []
   },
   "outputs": [],
   "source": [
    "from datetime import date, datetime\n",
    "times = greeks_df.Epsilon.copy()\n",
    "times[greeks_df.Epsilon != 'Unknown'] = greeks_df.Epsilon[greeks_df.Epsilon != 'Unknown'].map(lambda x: datetime.strptime(x,'%m/%d/%Y').toordinal())\n",
    "times[greeks_df.Epsilon == 'Unknown'] = np.nan"
   ]
  },
  {
   "cell_type": "code",
   "execution_count": 22,
   "id": "5c3f18eb",
   "metadata": {
    "execution": {
     "iopub.execute_input": "2023-06-24T03:08:32.536177Z",
     "iopub.status.busy": "2023-06-24T03:08:32.535284Z",
     "iopub.status.idle": "2023-06-24T03:08:32.543139Z",
     "shell.execute_reply": "2023-06-24T03:08:32.542227Z"
    },
    "papermill": {
     "duration": 0.035472,
     "end_time": "2023-06-24T03:08:32.545090",
     "exception": false,
     "start_time": "2023-06-24T03:08:32.509618",
     "status": "completed"
    },
    "tags": []
   },
   "outputs": [
    {
     "data": {
      "text/plain": [
       "0      737137.0\n",
       "1           NaN\n",
       "2           NaN\n",
       "3           NaN\n",
       "4      737509.0\n",
       "         ...   \n",
       "612    737681.0\n",
       "613    737676.0\n",
       "614    737264.0\n",
       "615    737090.0\n",
       "616         NaN\n",
       "Name: Epsilon, Length: 617, dtype: object"
      ]
     },
     "execution_count": 22,
     "metadata": {},
     "output_type": "execute_result"
    }
   ],
   "source": [
    "times"
   ]
  },
  {
   "cell_type": "markdown",
   "id": "7c00bd3d",
   "metadata": {
    "papermill": {
     "duration": 0.024412,
     "end_time": "2023-06-24T03:08:32.595048",
     "exception": false,
     "start_time": "2023-06-24T03:08:32.570636",
     "status": "completed"
    },
    "tags": []
   },
   "source": [
    "The 'Epsilon' column in the 'train_df' DataFrame is updated with the values from the times variable. Then, the DataFrame columns are rearranged to move the 'Epsilon' column to the second-to-last position, just before the 'Class' column."
   ]
  },
  {
   "cell_type": "code",
   "execution_count": 23,
   "id": "5c01ec23",
   "metadata": {
    "execution": {
     "iopub.execute_input": "2023-06-24T03:08:32.647129Z",
     "iopub.status.busy": "2023-06-24T03:08:32.646502Z",
     "iopub.status.idle": "2023-06-24T03:08:32.677898Z",
     "shell.execute_reply": "2023-06-24T03:08:32.676967Z"
    },
    "papermill": {
     "duration": 0.060244,
     "end_time": "2023-06-24T03:08:32.679875",
     "exception": false,
     "start_time": "2023-06-24T03:08:32.619631",
     "status": "completed"
    },
    "tags": []
   },
   "outputs": [
    {
     "data": {
      "text/html": [
       "<div>\n",
       "<style scoped>\n",
       "    .dataframe tbody tr th:only-of-type {\n",
       "        vertical-align: middle;\n",
       "    }\n",
       "\n",
       "    .dataframe tbody tr th {\n",
       "        vertical-align: top;\n",
       "    }\n",
       "\n",
       "    .dataframe thead th {\n",
       "        text-align: right;\n",
       "    }\n",
       "</style>\n",
       "<table border=\"1\" class=\"dataframe\">\n",
       "  <thead>\n",
       "    <tr style=\"text-align: right;\">\n",
       "      <th></th>\n",
       "      <th>Id</th>\n",
       "      <th>AB</th>\n",
       "      <th>AF</th>\n",
       "      <th>AH</th>\n",
       "      <th>AM</th>\n",
       "      <th>AR</th>\n",
       "      <th>AX</th>\n",
       "      <th>AY</th>\n",
       "      <th>AZ</th>\n",
       "      <th>BC</th>\n",
       "      <th>...</th>\n",
       "      <th>FR</th>\n",
       "      <th>FS</th>\n",
       "      <th>GB</th>\n",
       "      <th>GE</th>\n",
       "      <th>GF</th>\n",
       "      <th>GH</th>\n",
       "      <th>GI</th>\n",
       "      <th>GL</th>\n",
       "      <th>Class</th>\n",
       "      <th>Epsilon</th>\n",
       "    </tr>\n",
       "  </thead>\n",
       "  <tbody>\n",
       "    <tr>\n",
       "      <th>0</th>\n",
       "      <td>000ff2bfdfe9</td>\n",
       "      <td>0.209377</td>\n",
       "      <td>3109.03329</td>\n",
       "      <td>85.200147</td>\n",
       "      <td>22.394407</td>\n",
       "      <td>8.138688</td>\n",
       "      <td>0.699861</td>\n",
       "      <td>0.025578</td>\n",
       "      <td>9.812214</td>\n",
       "      <td>5.555634</td>\n",
       "      <td>...</td>\n",
       "      <td>1.73855</td>\n",
       "      <td>0.094822</td>\n",
       "      <td>11.339138</td>\n",
       "      <td>72.611063</td>\n",
       "      <td>2003.810319</td>\n",
       "      <td>22.136229</td>\n",
       "      <td>69.834944</td>\n",
       "      <td>0.120343</td>\n",
       "      <td>1</td>\n",
       "      <td>737137.0</td>\n",
       "    </tr>\n",
       "    <tr>\n",
       "      <th>1</th>\n",
       "      <td>007255e47698</td>\n",
       "      <td>0.145282</td>\n",
       "      <td>978.76416</td>\n",
       "      <td>85.200147</td>\n",
       "      <td>36.968889</td>\n",
       "      <td>8.138688</td>\n",
       "      <td>3.632190</td>\n",
       "      <td>0.025578</td>\n",
       "      <td>13.517790</td>\n",
       "      <td>1.229900</td>\n",
       "      <td>...</td>\n",
       "      <td>0.49706</td>\n",
       "      <td>0.568932</td>\n",
       "      <td>9.292698</td>\n",
       "      <td>72.611063</td>\n",
       "      <td>27981.562750</td>\n",
       "      <td>29.135430</td>\n",
       "      <td>32.131996</td>\n",
       "      <td>21.978000</td>\n",
       "      <td>0</td>\n",
       "      <td>NaN</td>\n",
       "    </tr>\n",
       "    <tr>\n",
       "      <th>2</th>\n",
       "      <td>013f2bd269f5</td>\n",
       "      <td>0.470030</td>\n",
       "      <td>2635.10654</td>\n",
       "      <td>85.200147</td>\n",
       "      <td>32.360553</td>\n",
       "      <td>8.138688</td>\n",
       "      <td>6.732840</td>\n",
       "      <td>0.025578</td>\n",
       "      <td>12.824570</td>\n",
       "      <td>1.229900</td>\n",
       "      <td>...</td>\n",
       "      <td>0.97556</td>\n",
       "      <td>1.198821</td>\n",
       "      <td>37.077772</td>\n",
       "      <td>88.609437</td>\n",
       "      <td>13676.957810</td>\n",
       "      <td>28.022851</td>\n",
       "      <td>35.192676</td>\n",
       "      <td>0.196941</td>\n",
       "      <td>0</td>\n",
       "      <td>NaN</td>\n",
       "    </tr>\n",
       "    <tr>\n",
       "      <th>3</th>\n",
       "      <td>043ac50845d5</td>\n",
       "      <td>0.252107</td>\n",
       "      <td>3819.65177</td>\n",
       "      <td>120.201618</td>\n",
       "      <td>77.112203</td>\n",
       "      <td>8.138688</td>\n",
       "      <td>3.685344</td>\n",
       "      <td>0.025578</td>\n",
       "      <td>11.053708</td>\n",
       "      <td>1.229900</td>\n",
       "      <td>...</td>\n",
       "      <td>0.49706</td>\n",
       "      <td>0.284466</td>\n",
       "      <td>18.529584</td>\n",
       "      <td>82.416803</td>\n",
       "      <td>2094.262452</td>\n",
       "      <td>39.948656</td>\n",
       "      <td>90.493248</td>\n",
       "      <td>0.155829</td>\n",
       "      <td>0</td>\n",
       "      <td>NaN</td>\n",
       "    </tr>\n",
       "    <tr>\n",
       "      <th>4</th>\n",
       "      <td>044fb8a146ec</td>\n",
       "      <td>0.380297</td>\n",
       "      <td>3733.04844</td>\n",
       "      <td>85.200147</td>\n",
       "      <td>14.103738</td>\n",
       "      <td>8.138688</td>\n",
       "      <td>3.942255</td>\n",
       "      <td>0.054810</td>\n",
       "      <td>3.396778</td>\n",
       "      <td>102.151980</td>\n",
       "      <td>...</td>\n",
       "      <td>48.50134</td>\n",
       "      <td>0.121914</td>\n",
       "      <td>16.408728</td>\n",
       "      <td>146.109943</td>\n",
       "      <td>8524.370502</td>\n",
       "      <td>45.381316</td>\n",
       "      <td>36.262628</td>\n",
       "      <td>0.096614</td>\n",
       "      <td>1</td>\n",
       "      <td>737509.0</td>\n",
       "    </tr>\n",
       "    <tr>\n",
       "      <th>...</th>\n",
       "      <td>...</td>\n",
       "      <td>...</td>\n",
       "      <td>...</td>\n",
       "      <td>...</td>\n",
       "      <td>...</td>\n",
       "      <td>...</td>\n",
       "      <td>...</td>\n",
       "      <td>...</td>\n",
       "      <td>...</td>\n",
       "      <td>...</td>\n",
       "      <td>...</td>\n",
       "      <td>...</td>\n",
       "      <td>...</td>\n",
       "      <td>...</td>\n",
       "      <td>...</td>\n",
       "      <td>...</td>\n",
       "      <td>...</td>\n",
       "      <td>...</td>\n",
       "      <td>...</td>\n",
       "      <td>...</td>\n",
       "      <td>...</td>\n",
       "    </tr>\n",
       "    <tr>\n",
       "      <th>612</th>\n",
       "      <td>fd3dafe738fd</td>\n",
       "      <td>0.149555</td>\n",
       "      <td>3130.05946</td>\n",
       "      <td>123.763599</td>\n",
       "      <td>9.513984</td>\n",
       "      <td>13.020852</td>\n",
       "      <td>3.499305</td>\n",
       "      <td>0.077343</td>\n",
       "      <td>8.545512</td>\n",
       "      <td>2.804172</td>\n",
       "      <td>...</td>\n",
       "      <td>1.26092</td>\n",
       "      <td>0.067730</td>\n",
       "      <td>8.967128</td>\n",
       "      <td>217.148554</td>\n",
       "      <td>8095.932828</td>\n",
       "      <td>24.640462</td>\n",
       "      <td>69.191944</td>\n",
       "      <td>21.978000</td>\n",
       "      <td>0</td>\n",
       "      <td>737681.0</td>\n",
       "    </tr>\n",
       "    <tr>\n",
       "      <th>613</th>\n",
       "      <td>fd895603f071</td>\n",
       "      <td>0.435846</td>\n",
       "      <td>5462.03438</td>\n",
       "      <td>85.200147</td>\n",
       "      <td>46.551007</td>\n",
       "      <td>15.973224</td>\n",
       "      <td>5.979825</td>\n",
       "      <td>0.025882</td>\n",
       "      <td>12.622906</td>\n",
       "      <td>3.777550</td>\n",
       "      <td>...</td>\n",
       "      <td>1.24236</td>\n",
       "      <td>0.426699</td>\n",
       "      <td>35.896418</td>\n",
       "      <td>496.994214</td>\n",
       "      <td>3085.308063</td>\n",
       "      <td>29.648928</td>\n",
       "      <td>124.808872</td>\n",
       "      <td>0.145340</td>\n",
       "      <td>0</td>\n",
       "      <td>737676.0</td>\n",
       "    </tr>\n",
       "    <tr>\n",
       "      <th>614</th>\n",
       "      <td>fd8ef6377f76</td>\n",
       "      <td>0.427300</td>\n",
       "      <td>2459.10720</td>\n",
       "      <td>130.138587</td>\n",
       "      <td>55.355778</td>\n",
       "      <td>10.005552</td>\n",
       "      <td>8.070549</td>\n",
       "      <td>0.025578</td>\n",
       "      <td>15.408390</td>\n",
       "      <td>1.229900</td>\n",
       "      <td>...</td>\n",
       "      <td>0.49706</td>\n",
       "      <td>0.067730</td>\n",
       "      <td>19.962092</td>\n",
       "      <td>128.896894</td>\n",
       "      <td>6474.652866</td>\n",
       "      <td>26.166072</td>\n",
       "      <td>119.559420</td>\n",
       "      <td>21.978000</td>\n",
       "      <td>0</td>\n",
       "      <td>737264.0</td>\n",
       "    </tr>\n",
       "    <tr>\n",
       "      <th>615</th>\n",
       "      <td>fe1942975e40</td>\n",
       "      <td>0.363205</td>\n",
       "      <td>1263.53524</td>\n",
       "      <td>85.200147</td>\n",
       "      <td>23.685856</td>\n",
       "      <td>8.138688</td>\n",
       "      <td>7.981959</td>\n",
       "      <td>0.025578</td>\n",
       "      <td>7.524588</td>\n",
       "      <td>1.229900</td>\n",
       "      <td>...</td>\n",
       "      <td>0.78764</td>\n",
       "      <td>0.670527</td>\n",
       "      <td>24.594488</td>\n",
       "      <td>72.611063</td>\n",
       "      <td>1965.343176</td>\n",
       "      <td>25.116750</td>\n",
       "      <td>37.155112</td>\n",
       "      <td>0.184622</td>\n",
       "      <td>0</td>\n",
       "      <td>737090.0</td>\n",
       "    </tr>\n",
       "    <tr>\n",
       "      <th>616</th>\n",
       "      <td>ffcca4ded3bb</td>\n",
       "      <td>0.482849</td>\n",
       "      <td>2672.53426</td>\n",
       "      <td>546.663930</td>\n",
       "      <td>112.006102</td>\n",
       "      <td>8.138688</td>\n",
       "      <td>3.198099</td>\n",
       "      <td>0.116928</td>\n",
       "      <td>3.396778</td>\n",
       "      <td>7.948668</td>\n",
       "      <td>...</td>\n",
       "      <td>1.14492</td>\n",
       "      <td>0.149006</td>\n",
       "      <td>13.673940</td>\n",
       "      <td>72.611063</td>\n",
       "      <td>6850.484442</td>\n",
       "      <td>45.745974</td>\n",
       "      <td>114.842372</td>\n",
       "      <td>21.978000</td>\n",
       "      <td>0</td>\n",
       "      <td>NaN</td>\n",
       "    </tr>\n",
       "  </tbody>\n",
       "</table>\n",
       "<p>617 rows × 59 columns</p>\n",
       "</div>"
      ],
      "text/plain": [
       "               Id        AB          AF          AH          AM         AR  \\\n",
       "0    000ff2bfdfe9  0.209377  3109.03329   85.200147   22.394407   8.138688   \n",
       "1    007255e47698  0.145282   978.76416   85.200147   36.968889   8.138688   \n",
       "2    013f2bd269f5  0.470030  2635.10654   85.200147   32.360553   8.138688   \n",
       "3    043ac50845d5  0.252107  3819.65177  120.201618   77.112203   8.138688   \n",
       "4    044fb8a146ec  0.380297  3733.04844   85.200147   14.103738   8.138688   \n",
       "..            ...       ...         ...         ...         ...        ...   \n",
       "612  fd3dafe738fd  0.149555  3130.05946  123.763599    9.513984  13.020852   \n",
       "613  fd895603f071  0.435846  5462.03438   85.200147   46.551007  15.973224   \n",
       "614  fd8ef6377f76  0.427300  2459.10720  130.138587   55.355778  10.005552   \n",
       "615  fe1942975e40  0.363205  1263.53524   85.200147   23.685856   8.138688   \n",
       "616  ffcca4ded3bb  0.482849  2672.53426  546.663930  112.006102   8.138688   \n",
       "\n",
       "           AX        AY         AZ          BC  ...        FR        FS  \\\n",
       "0    0.699861  0.025578   9.812214    5.555634  ...   1.73855  0.094822   \n",
       "1    3.632190  0.025578  13.517790    1.229900  ...   0.49706  0.568932   \n",
       "2    6.732840  0.025578  12.824570    1.229900  ...   0.97556  1.198821   \n",
       "3    3.685344  0.025578  11.053708    1.229900  ...   0.49706  0.284466   \n",
       "4    3.942255  0.054810   3.396778  102.151980  ...  48.50134  0.121914   \n",
       "..        ...       ...        ...         ...  ...       ...       ...   \n",
       "612  3.499305  0.077343   8.545512    2.804172  ...   1.26092  0.067730   \n",
       "613  5.979825  0.025882  12.622906    3.777550  ...   1.24236  0.426699   \n",
       "614  8.070549  0.025578  15.408390    1.229900  ...   0.49706  0.067730   \n",
       "615  7.981959  0.025578   7.524588    1.229900  ...   0.78764  0.670527   \n",
       "616  3.198099  0.116928   3.396778    7.948668  ...   1.14492  0.149006   \n",
       "\n",
       "            GB          GE            GF         GH          GI         GL  \\\n",
       "0    11.339138   72.611063   2003.810319  22.136229   69.834944   0.120343   \n",
       "1     9.292698   72.611063  27981.562750  29.135430   32.131996  21.978000   \n",
       "2    37.077772   88.609437  13676.957810  28.022851   35.192676   0.196941   \n",
       "3    18.529584   82.416803   2094.262452  39.948656   90.493248   0.155829   \n",
       "4    16.408728  146.109943   8524.370502  45.381316   36.262628   0.096614   \n",
       "..         ...         ...           ...        ...         ...        ...   \n",
       "612   8.967128  217.148554   8095.932828  24.640462   69.191944  21.978000   \n",
       "613  35.896418  496.994214   3085.308063  29.648928  124.808872   0.145340   \n",
       "614  19.962092  128.896894   6474.652866  26.166072  119.559420  21.978000   \n",
       "615  24.594488   72.611063   1965.343176  25.116750   37.155112   0.184622   \n",
       "616  13.673940   72.611063   6850.484442  45.745974  114.842372  21.978000   \n",
       "\n",
       "     Class   Epsilon  \n",
       "0        1  737137.0  \n",
       "1        0       NaN  \n",
       "2        0       NaN  \n",
       "3        0       NaN  \n",
       "4        1  737509.0  \n",
       "..     ...       ...  \n",
       "612      0  737681.0  \n",
       "613      0  737676.0  \n",
       "614      0  737264.0  \n",
       "615      0  737090.0  \n",
       "616      0       NaN  \n",
       "\n",
       "[617 rows x 59 columns]"
      ]
     },
     "execution_count": 23,
     "metadata": {},
     "output_type": "execute_result"
    }
   ],
   "source": [
    "train_df['Epsilon'] = times\n",
    "train_df"
   ]
  },
  {
   "cell_type": "code",
   "execution_count": 24,
   "id": "e7967906",
   "metadata": {
    "execution": {
     "iopub.execute_input": "2023-06-24T03:08:32.732163Z",
     "iopub.status.busy": "2023-06-24T03:08:32.731572Z",
     "iopub.status.idle": "2023-06-24T03:08:32.763868Z",
     "shell.execute_reply": "2023-06-24T03:08:32.762859Z"
    },
    "papermill": {
     "duration": 0.061217,
     "end_time": "2023-06-24T03:08:32.766114",
     "exception": false,
     "start_time": "2023-06-24T03:08:32.704897",
     "status": "completed"
    },
    "tags": []
   },
   "outputs": [
    {
     "data": {
      "text/html": [
       "<div>\n",
       "<style scoped>\n",
       "    .dataframe tbody tr th:only-of-type {\n",
       "        vertical-align: middle;\n",
       "    }\n",
       "\n",
       "    .dataframe tbody tr th {\n",
       "        vertical-align: top;\n",
       "    }\n",
       "\n",
       "    .dataframe thead th {\n",
       "        text-align: right;\n",
       "    }\n",
       "</style>\n",
       "<table border=\"1\" class=\"dataframe\">\n",
       "  <thead>\n",
       "    <tr style=\"text-align: right;\">\n",
       "      <th></th>\n",
       "      <th>Id</th>\n",
       "      <th>AB</th>\n",
       "      <th>AF</th>\n",
       "      <th>AH</th>\n",
       "      <th>AM</th>\n",
       "      <th>AR</th>\n",
       "      <th>AX</th>\n",
       "      <th>AY</th>\n",
       "      <th>AZ</th>\n",
       "      <th>BC</th>\n",
       "      <th>...</th>\n",
       "      <th>FR</th>\n",
       "      <th>FS</th>\n",
       "      <th>GB</th>\n",
       "      <th>GE</th>\n",
       "      <th>GF</th>\n",
       "      <th>GH</th>\n",
       "      <th>GI</th>\n",
       "      <th>GL</th>\n",
       "      <th>Epsilon</th>\n",
       "      <th>Class</th>\n",
       "    </tr>\n",
       "  </thead>\n",
       "  <tbody>\n",
       "    <tr>\n",
       "      <th>0</th>\n",
       "      <td>000ff2bfdfe9</td>\n",
       "      <td>0.209377</td>\n",
       "      <td>3109.03329</td>\n",
       "      <td>85.200147</td>\n",
       "      <td>22.394407</td>\n",
       "      <td>8.138688</td>\n",
       "      <td>0.699861</td>\n",
       "      <td>0.025578</td>\n",
       "      <td>9.812214</td>\n",
       "      <td>5.555634</td>\n",
       "      <td>...</td>\n",
       "      <td>1.73855</td>\n",
       "      <td>0.094822</td>\n",
       "      <td>11.339138</td>\n",
       "      <td>72.611063</td>\n",
       "      <td>2003.810319</td>\n",
       "      <td>22.136229</td>\n",
       "      <td>69.834944</td>\n",
       "      <td>0.120343</td>\n",
       "      <td>737137.0</td>\n",
       "      <td>1</td>\n",
       "    </tr>\n",
       "    <tr>\n",
       "      <th>1</th>\n",
       "      <td>007255e47698</td>\n",
       "      <td>0.145282</td>\n",
       "      <td>978.76416</td>\n",
       "      <td>85.200147</td>\n",
       "      <td>36.968889</td>\n",
       "      <td>8.138688</td>\n",
       "      <td>3.632190</td>\n",
       "      <td>0.025578</td>\n",
       "      <td>13.517790</td>\n",
       "      <td>1.229900</td>\n",
       "      <td>...</td>\n",
       "      <td>0.49706</td>\n",
       "      <td>0.568932</td>\n",
       "      <td>9.292698</td>\n",
       "      <td>72.611063</td>\n",
       "      <td>27981.562750</td>\n",
       "      <td>29.135430</td>\n",
       "      <td>32.131996</td>\n",
       "      <td>21.978000</td>\n",
       "      <td>NaN</td>\n",
       "      <td>0</td>\n",
       "    </tr>\n",
       "    <tr>\n",
       "      <th>2</th>\n",
       "      <td>013f2bd269f5</td>\n",
       "      <td>0.470030</td>\n",
       "      <td>2635.10654</td>\n",
       "      <td>85.200147</td>\n",
       "      <td>32.360553</td>\n",
       "      <td>8.138688</td>\n",
       "      <td>6.732840</td>\n",
       "      <td>0.025578</td>\n",
       "      <td>12.824570</td>\n",
       "      <td>1.229900</td>\n",
       "      <td>...</td>\n",
       "      <td>0.97556</td>\n",
       "      <td>1.198821</td>\n",
       "      <td>37.077772</td>\n",
       "      <td>88.609437</td>\n",
       "      <td>13676.957810</td>\n",
       "      <td>28.022851</td>\n",
       "      <td>35.192676</td>\n",
       "      <td>0.196941</td>\n",
       "      <td>NaN</td>\n",
       "      <td>0</td>\n",
       "    </tr>\n",
       "    <tr>\n",
       "      <th>3</th>\n",
       "      <td>043ac50845d5</td>\n",
       "      <td>0.252107</td>\n",
       "      <td>3819.65177</td>\n",
       "      <td>120.201618</td>\n",
       "      <td>77.112203</td>\n",
       "      <td>8.138688</td>\n",
       "      <td>3.685344</td>\n",
       "      <td>0.025578</td>\n",
       "      <td>11.053708</td>\n",
       "      <td>1.229900</td>\n",
       "      <td>...</td>\n",
       "      <td>0.49706</td>\n",
       "      <td>0.284466</td>\n",
       "      <td>18.529584</td>\n",
       "      <td>82.416803</td>\n",
       "      <td>2094.262452</td>\n",
       "      <td>39.948656</td>\n",
       "      <td>90.493248</td>\n",
       "      <td>0.155829</td>\n",
       "      <td>NaN</td>\n",
       "      <td>0</td>\n",
       "    </tr>\n",
       "    <tr>\n",
       "      <th>4</th>\n",
       "      <td>044fb8a146ec</td>\n",
       "      <td>0.380297</td>\n",
       "      <td>3733.04844</td>\n",
       "      <td>85.200147</td>\n",
       "      <td>14.103738</td>\n",
       "      <td>8.138688</td>\n",
       "      <td>3.942255</td>\n",
       "      <td>0.054810</td>\n",
       "      <td>3.396778</td>\n",
       "      <td>102.151980</td>\n",
       "      <td>...</td>\n",
       "      <td>48.50134</td>\n",
       "      <td>0.121914</td>\n",
       "      <td>16.408728</td>\n",
       "      <td>146.109943</td>\n",
       "      <td>8524.370502</td>\n",
       "      <td>45.381316</td>\n",
       "      <td>36.262628</td>\n",
       "      <td>0.096614</td>\n",
       "      <td>737509.0</td>\n",
       "      <td>1</td>\n",
       "    </tr>\n",
       "    <tr>\n",
       "      <th>...</th>\n",
       "      <td>...</td>\n",
       "      <td>...</td>\n",
       "      <td>...</td>\n",
       "      <td>...</td>\n",
       "      <td>...</td>\n",
       "      <td>...</td>\n",
       "      <td>...</td>\n",
       "      <td>...</td>\n",
       "      <td>...</td>\n",
       "      <td>...</td>\n",
       "      <td>...</td>\n",
       "      <td>...</td>\n",
       "      <td>...</td>\n",
       "      <td>...</td>\n",
       "      <td>...</td>\n",
       "      <td>...</td>\n",
       "      <td>...</td>\n",
       "      <td>...</td>\n",
       "      <td>...</td>\n",
       "      <td>...</td>\n",
       "      <td>...</td>\n",
       "    </tr>\n",
       "    <tr>\n",
       "      <th>612</th>\n",
       "      <td>fd3dafe738fd</td>\n",
       "      <td>0.149555</td>\n",
       "      <td>3130.05946</td>\n",
       "      <td>123.763599</td>\n",
       "      <td>9.513984</td>\n",
       "      <td>13.020852</td>\n",
       "      <td>3.499305</td>\n",
       "      <td>0.077343</td>\n",
       "      <td>8.545512</td>\n",
       "      <td>2.804172</td>\n",
       "      <td>...</td>\n",
       "      <td>1.26092</td>\n",
       "      <td>0.067730</td>\n",
       "      <td>8.967128</td>\n",
       "      <td>217.148554</td>\n",
       "      <td>8095.932828</td>\n",
       "      <td>24.640462</td>\n",
       "      <td>69.191944</td>\n",
       "      <td>21.978000</td>\n",
       "      <td>737681.0</td>\n",
       "      <td>0</td>\n",
       "    </tr>\n",
       "    <tr>\n",
       "      <th>613</th>\n",
       "      <td>fd895603f071</td>\n",
       "      <td>0.435846</td>\n",
       "      <td>5462.03438</td>\n",
       "      <td>85.200147</td>\n",
       "      <td>46.551007</td>\n",
       "      <td>15.973224</td>\n",
       "      <td>5.979825</td>\n",
       "      <td>0.025882</td>\n",
       "      <td>12.622906</td>\n",
       "      <td>3.777550</td>\n",
       "      <td>...</td>\n",
       "      <td>1.24236</td>\n",
       "      <td>0.426699</td>\n",
       "      <td>35.896418</td>\n",
       "      <td>496.994214</td>\n",
       "      <td>3085.308063</td>\n",
       "      <td>29.648928</td>\n",
       "      <td>124.808872</td>\n",
       "      <td>0.145340</td>\n",
       "      <td>737676.0</td>\n",
       "      <td>0</td>\n",
       "    </tr>\n",
       "    <tr>\n",
       "      <th>614</th>\n",
       "      <td>fd8ef6377f76</td>\n",
       "      <td>0.427300</td>\n",
       "      <td>2459.10720</td>\n",
       "      <td>130.138587</td>\n",
       "      <td>55.355778</td>\n",
       "      <td>10.005552</td>\n",
       "      <td>8.070549</td>\n",
       "      <td>0.025578</td>\n",
       "      <td>15.408390</td>\n",
       "      <td>1.229900</td>\n",
       "      <td>...</td>\n",
       "      <td>0.49706</td>\n",
       "      <td>0.067730</td>\n",
       "      <td>19.962092</td>\n",
       "      <td>128.896894</td>\n",
       "      <td>6474.652866</td>\n",
       "      <td>26.166072</td>\n",
       "      <td>119.559420</td>\n",
       "      <td>21.978000</td>\n",
       "      <td>737264.0</td>\n",
       "      <td>0</td>\n",
       "    </tr>\n",
       "    <tr>\n",
       "      <th>615</th>\n",
       "      <td>fe1942975e40</td>\n",
       "      <td>0.363205</td>\n",
       "      <td>1263.53524</td>\n",
       "      <td>85.200147</td>\n",
       "      <td>23.685856</td>\n",
       "      <td>8.138688</td>\n",
       "      <td>7.981959</td>\n",
       "      <td>0.025578</td>\n",
       "      <td>7.524588</td>\n",
       "      <td>1.229900</td>\n",
       "      <td>...</td>\n",
       "      <td>0.78764</td>\n",
       "      <td>0.670527</td>\n",
       "      <td>24.594488</td>\n",
       "      <td>72.611063</td>\n",
       "      <td>1965.343176</td>\n",
       "      <td>25.116750</td>\n",
       "      <td>37.155112</td>\n",
       "      <td>0.184622</td>\n",
       "      <td>737090.0</td>\n",
       "      <td>0</td>\n",
       "    </tr>\n",
       "    <tr>\n",
       "      <th>616</th>\n",
       "      <td>ffcca4ded3bb</td>\n",
       "      <td>0.482849</td>\n",
       "      <td>2672.53426</td>\n",
       "      <td>546.663930</td>\n",
       "      <td>112.006102</td>\n",
       "      <td>8.138688</td>\n",
       "      <td>3.198099</td>\n",
       "      <td>0.116928</td>\n",
       "      <td>3.396778</td>\n",
       "      <td>7.948668</td>\n",
       "      <td>...</td>\n",
       "      <td>1.14492</td>\n",
       "      <td>0.149006</td>\n",
       "      <td>13.673940</td>\n",
       "      <td>72.611063</td>\n",
       "      <td>6850.484442</td>\n",
       "      <td>45.745974</td>\n",
       "      <td>114.842372</td>\n",
       "      <td>21.978000</td>\n",
       "      <td>NaN</td>\n",
       "      <td>0</td>\n",
       "    </tr>\n",
       "  </tbody>\n",
       "</table>\n",
       "<p>617 rows × 59 columns</p>\n",
       "</div>"
      ],
      "text/plain": [
       "               Id        AB          AF          AH          AM         AR  \\\n",
       "0    000ff2bfdfe9  0.209377  3109.03329   85.200147   22.394407   8.138688   \n",
       "1    007255e47698  0.145282   978.76416   85.200147   36.968889   8.138688   \n",
       "2    013f2bd269f5  0.470030  2635.10654   85.200147   32.360553   8.138688   \n",
       "3    043ac50845d5  0.252107  3819.65177  120.201618   77.112203   8.138688   \n",
       "4    044fb8a146ec  0.380297  3733.04844   85.200147   14.103738   8.138688   \n",
       "..            ...       ...         ...         ...         ...        ...   \n",
       "612  fd3dafe738fd  0.149555  3130.05946  123.763599    9.513984  13.020852   \n",
       "613  fd895603f071  0.435846  5462.03438   85.200147   46.551007  15.973224   \n",
       "614  fd8ef6377f76  0.427300  2459.10720  130.138587   55.355778  10.005552   \n",
       "615  fe1942975e40  0.363205  1263.53524   85.200147   23.685856   8.138688   \n",
       "616  ffcca4ded3bb  0.482849  2672.53426  546.663930  112.006102   8.138688   \n",
       "\n",
       "           AX        AY         AZ          BC  ...        FR        FS  \\\n",
       "0    0.699861  0.025578   9.812214    5.555634  ...   1.73855  0.094822   \n",
       "1    3.632190  0.025578  13.517790    1.229900  ...   0.49706  0.568932   \n",
       "2    6.732840  0.025578  12.824570    1.229900  ...   0.97556  1.198821   \n",
       "3    3.685344  0.025578  11.053708    1.229900  ...   0.49706  0.284466   \n",
       "4    3.942255  0.054810   3.396778  102.151980  ...  48.50134  0.121914   \n",
       "..        ...       ...        ...         ...  ...       ...       ...   \n",
       "612  3.499305  0.077343   8.545512    2.804172  ...   1.26092  0.067730   \n",
       "613  5.979825  0.025882  12.622906    3.777550  ...   1.24236  0.426699   \n",
       "614  8.070549  0.025578  15.408390    1.229900  ...   0.49706  0.067730   \n",
       "615  7.981959  0.025578   7.524588    1.229900  ...   0.78764  0.670527   \n",
       "616  3.198099  0.116928   3.396778    7.948668  ...   1.14492  0.149006   \n",
       "\n",
       "            GB          GE            GF         GH          GI         GL  \\\n",
       "0    11.339138   72.611063   2003.810319  22.136229   69.834944   0.120343   \n",
       "1     9.292698   72.611063  27981.562750  29.135430   32.131996  21.978000   \n",
       "2    37.077772   88.609437  13676.957810  28.022851   35.192676   0.196941   \n",
       "3    18.529584   82.416803   2094.262452  39.948656   90.493248   0.155829   \n",
       "4    16.408728  146.109943   8524.370502  45.381316   36.262628   0.096614   \n",
       "..         ...         ...           ...        ...         ...        ...   \n",
       "612   8.967128  217.148554   8095.932828  24.640462   69.191944  21.978000   \n",
       "613  35.896418  496.994214   3085.308063  29.648928  124.808872   0.145340   \n",
       "614  19.962092  128.896894   6474.652866  26.166072  119.559420  21.978000   \n",
       "615  24.594488   72.611063   1965.343176  25.116750   37.155112   0.184622   \n",
       "616  13.673940   72.611063   6850.484442  45.745974  114.842372  21.978000   \n",
       "\n",
       "      Epsilon  Class  \n",
       "0    737137.0      1  \n",
       "1         NaN      0  \n",
       "2         NaN      0  \n",
       "3         NaN      0  \n",
       "4    737509.0      1  \n",
       "..        ...    ...  \n",
       "612  737681.0      0  \n",
       "613  737676.0      0  \n",
       "614  737264.0      0  \n",
       "615  737090.0      0  \n",
       "616       NaN      0  \n",
       "\n",
       "[617 rows x 59 columns]"
      ]
     },
     "execution_count": 24,
     "metadata": {},
     "output_type": "execute_result"
    }
   ],
   "source": [
    "class_col = train_df.pop('Class')\n",
    "train_df['Class'] = class_col\n",
    "train_df"
   ]
  },
  {
   "cell_type": "markdown",
   "id": "5c6d3e53",
   "metadata": {
    "papermill": {
     "duration": 0.024946,
     "end_time": "2023-06-24T03:08:32.816790",
     "exception": false,
     "start_time": "2023-06-24T03:08:32.791844",
     "status": "completed"
    },
    "tags": []
   },
   "source": [
    "Note that **all of the data in the test set was collected after the training set was collected**. Thus, **Epsilon in test_df must be larger than the maximum of Epsilon in train_df**."
   ]
  },
  {
   "cell_type": "code",
   "execution_count": 25,
   "id": "81df2e38",
   "metadata": {
    "execution": {
     "iopub.execute_input": "2023-06-24T03:08:32.868998Z",
     "iopub.status.busy": "2023-06-24T03:08:32.868685Z",
     "iopub.status.idle": "2023-06-24T03:08:32.899426Z",
     "shell.execute_reply": "2023-06-24T03:08:32.898779Z"
    },
    "papermill": {
     "duration": 0.058871,
     "end_time": "2023-06-24T03:08:32.901258",
     "exception": false,
     "start_time": "2023-06-24T03:08:32.842387",
     "status": "completed"
    },
    "tags": []
   },
   "outputs": [
    {
     "data": {
      "text/html": [
       "<div>\n",
       "<style scoped>\n",
       "    .dataframe tbody tr th:only-of-type {\n",
       "        vertical-align: middle;\n",
       "    }\n",
       "\n",
       "    .dataframe tbody tr th {\n",
       "        vertical-align: top;\n",
       "    }\n",
       "\n",
       "    .dataframe thead th {\n",
       "        text-align: right;\n",
       "    }\n",
       "</style>\n",
       "<table border=\"1\" class=\"dataframe\">\n",
       "  <thead>\n",
       "    <tr style=\"text-align: right;\">\n",
       "      <th></th>\n",
       "      <th>Id</th>\n",
       "      <th>AB</th>\n",
       "      <th>AF</th>\n",
       "      <th>AH</th>\n",
       "      <th>AM</th>\n",
       "      <th>AR</th>\n",
       "      <th>AX</th>\n",
       "      <th>AY</th>\n",
       "      <th>AZ</th>\n",
       "      <th>BC</th>\n",
       "      <th>...</th>\n",
       "      <th>FL</th>\n",
       "      <th>FR</th>\n",
       "      <th>FS</th>\n",
       "      <th>GB</th>\n",
       "      <th>GE</th>\n",
       "      <th>GF</th>\n",
       "      <th>GH</th>\n",
       "      <th>GI</th>\n",
       "      <th>GL</th>\n",
       "      <th>Epsilon</th>\n",
       "    </tr>\n",
       "  </thead>\n",
       "  <tbody>\n",
       "    <tr>\n",
       "      <th>0</th>\n",
       "      <td>00eed32682bb</td>\n",
       "      <td>0.0</td>\n",
       "      <td>0.0</td>\n",
       "      <td>0.0</td>\n",
       "      <td>0.0</td>\n",
       "      <td>0.0</td>\n",
       "      <td>0.0</td>\n",
       "      <td>0.0</td>\n",
       "      <td>0.0</td>\n",
       "      <td>0.0</td>\n",
       "      <td>...</td>\n",
       "      <td>0.0</td>\n",
       "      <td>0.0</td>\n",
       "      <td>0.0</td>\n",
       "      <td>0.0</td>\n",
       "      <td>0.0</td>\n",
       "      <td>0.0</td>\n",
       "      <td>0.0</td>\n",
       "      <td>0.0</td>\n",
       "      <td>0.0</td>\n",
       "      <td>737698.0</td>\n",
       "    </tr>\n",
       "    <tr>\n",
       "      <th>1</th>\n",
       "      <td>010ebe33f668</td>\n",
       "      <td>0.0</td>\n",
       "      <td>0.0</td>\n",
       "      <td>0.0</td>\n",
       "      <td>0.0</td>\n",
       "      <td>0.0</td>\n",
       "      <td>0.0</td>\n",
       "      <td>0.0</td>\n",
       "      <td>0.0</td>\n",
       "      <td>0.0</td>\n",
       "      <td>...</td>\n",
       "      <td>0.0</td>\n",
       "      <td>0.0</td>\n",
       "      <td>0.0</td>\n",
       "      <td>0.0</td>\n",
       "      <td>0.0</td>\n",
       "      <td>0.0</td>\n",
       "      <td>0.0</td>\n",
       "      <td>0.0</td>\n",
       "      <td>0.0</td>\n",
       "      <td>737698.0</td>\n",
       "    </tr>\n",
       "    <tr>\n",
       "      <th>2</th>\n",
       "      <td>02fa521e1838</td>\n",
       "      <td>0.0</td>\n",
       "      <td>0.0</td>\n",
       "      <td>0.0</td>\n",
       "      <td>0.0</td>\n",
       "      <td>0.0</td>\n",
       "      <td>0.0</td>\n",
       "      <td>0.0</td>\n",
       "      <td>0.0</td>\n",
       "      <td>0.0</td>\n",
       "      <td>...</td>\n",
       "      <td>0.0</td>\n",
       "      <td>0.0</td>\n",
       "      <td>0.0</td>\n",
       "      <td>0.0</td>\n",
       "      <td>0.0</td>\n",
       "      <td>0.0</td>\n",
       "      <td>0.0</td>\n",
       "      <td>0.0</td>\n",
       "      <td>0.0</td>\n",
       "      <td>737698.0</td>\n",
       "    </tr>\n",
       "    <tr>\n",
       "      <th>3</th>\n",
       "      <td>040e15f562a2</td>\n",
       "      <td>0.0</td>\n",
       "      <td>0.0</td>\n",
       "      <td>0.0</td>\n",
       "      <td>0.0</td>\n",
       "      <td>0.0</td>\n",
       "      <td>0.0</td>\n",
       "      <td>0.0</td>\n",
       "      <td>0.0</td>\n",
       "      <td>0.0</td>\n",
       "      <td>...</td>\n",
       "      <td>0.0</td>\n",
       "      <td>0.0</td>\n",
       "      <td>0.0</td>\n",
       "      <td>0.0</td>\n",
       "      <td>0.0</td>\n",
       "      <td>0.0</td>\n",
       "      <td>0.0</td>\n",
       "      <td>0.0</td>\n",
       "      <td>0.0</td>\n",
       "      <td>737698.0</td>\n",
       "    </tr>\n",
       "    <tr>\n",
       "      <th>4</th>\n",
       "      <td>046e85c7cc7f</td>\n",
       "      <td>0.0</td>\n",
       "      <td>0.0</td>\n",
       "      <td>0.0</td>\n",
       "      <td>0.0</td>\n",
       "      <td>0.0</td>\n",
       "      <td>0.0</td>\n",
       "      <td>0.0</td>\n",
       "      <td>0.0</td>\n",
       "      <td>0.0</td>\n",
       "      <td>...</td>\n",
       "      <td>0.0</td>\n",
       "      <td>0.0</td>\n",
       "      <td>0.0</td>\n",
       "      <td>0.0</td>\n",
       "      <td>0.0</td>\n",
       "      <td>0.0</td>\n",
       "      <td>0.0</td>\n",
       "      <td>0.0</td>\n",
       "      <td>0.0</td>\n",
       "      <td>737698.0</td>\n",
       "    </tr>\n",
       "  </tbody>\n",
       "</table>\n",
       "<p>5 rows × 58 columns</p>\n",
       "</div>"
      ],
      "text/plain": [
       "             Id   AB   AF   AH   AM   AR   AX   AY   AZ   BC  ...   FL   FR  \\\n",
       "0  00eed32682bb  0.0  0.0  0.0  0.0  0.0  0.0  0.0  0.0  0.0  ...  0.0  0.0   \n",
       "1  010ebe33f668  0.0  0.0  0.0  0.0  0.0  0.0  0.0  0.0  0.0  ...  0.0  0.0   \n",
       "2  02fa521e1838  0.0  0.0  0.0  0.0  0.0  0.0  0.0  0.0  0.0  ...  0.0  0.0   \n",
       "3  040e15f562a2  0.0  0.0  0.0  0.0  0.0  0.0  0.0  0.0  0.0  ...  0.0  0.0   \n",
       "4  046e85c7cc7f  0.0  0.0  0.0  0.0  0.0  0.0  0.0  0.0  0.0  ...  0.0  0.0   \n",
       "\n",
       "    FS   GB   GE   GF   GH   GI   GL   Epsilon  \n",
       "0  0.0  0.0  0.0  0.0  0.0  0.0  0.0  737698.0  \n",
       "1  0.0  0.0  0.0  0.0  0.0  0.0  0.0  737698.0  \n",
       "2  0.0  0.0  0.0  0.0  0.0  0.0  0.0  737698.0  \n",
       "3  0.0  0.0  0.0  0.0  0.0  0.0  0.0  737698.0  \n",
       "4  0.0  0.0  0.0  0.0  0.0  0.0  0.0  737698.0  \n",
       "\n",
       "[5 rows x 58 columns]"
      ]
     },
     "execution_count": 25,
     "metadata": {},
     "output_type": "execute_result"
    }
   ],
   "source": [
    "test_df['Epsilon'] = max(times) + 1\n",
    "test_df"
   ]
  },
  {
   "cell_type": "code",
   "execution_count": 26,
   "id": "aa3c1420",
   "metadata": {
    "execution": {
     "iopub.execute_input": "2023-06-24T03:08:32.953722Z",
     "iopub.status.busy": "2023-06-24T03:08:32.952926Z",
     "iopub.status.idle": "2023-06-24T03:08:32.962346Z",
     "shell.execute_reply": "2023-06-24T03:08:32.961747Z"
    },
    "papermill": {
     "duration": 0.037534,
     "end_time": "2023-06-24T03:08:32.964181",
     "exception": false,
     "start_time": "2023-06-24T03:08:32.926647",
     "status": "completed"
    },
    "tags": []
   },
   "outputs": [
    {
     "data": {
      "text/html": [
       "<div>\n",
       "<style scoped>\n",
       "    .dataframe tbody tr th:only-of-type {\n",
       "        vertical-align: middle;\n",
       "    }\n",
       "\n",
       "    .dataframe tbody tr th {\n",
       "        vertical-align: top;\n",
       "    }\n",
       "\n",
       "    .dataframe thead th {\n",
       "        text-align: right;\n",
       "    }\n",
       "</style>\n",
       "<table border=\"1\" class=\"dataframe\">\n",
       "  <thead>\n",
       "    <tr style=\"text-align: right;\">\n",
       "      <th></th>\n",
       "      <th>Id</th>\n",
       "      <th>class_0</th>\n",
       "      <th>class_1</th>\n",
       "    </tr>\n",
       "  </thead>\n",
       "  <tbody>\n",
       "    <tr>\n",
       "      <th>0</th>\n",
       "      <td>00eed32682bb</td>\n",
       "      <td>0.5</td>\n",
       "      <td>0.5</td>\n",
       "    </tr>\n",
       "    <tr>\n",
       "      <th>1</th>\n",
       "      <td>010ebe33f668</td>\n",
       "      <td>0.5</td>\n",
       "      <td>0.5</td>\n",
       "    </tr>\n",
       "    <tr>\n",
       "      <th>2</th>\n",
       "      <td>02fa521e1838</td>\n",
       "      <td>0.5</td>\n",
       "      <td>0.5</td>\n",
       "    </tr>\n",
       "    <tr>\n",
       "      <th>3</th>\n",
       "      <td>040e15f562a2</td>\n",
       "      <td>0.5</td>\n",
       "      <td>0.5</td>\n",
       "    </tr>\n",
       "    <tr>\n",
       "      <th>4</th>\n",
       "      <td>046e85c7cc7f</td>\n",
       "      <td>0.5</td>\n",
       "      <td>0.5</td>\n",
       "    </tr>\n",
       "  </tbody>\n",
       "</table>\n",
       "</div>"
      ],
      "text/plain": [
       "             Id  class_0  class_1\n",
       "0  00eed32682bb      0.5      0.5\n",
       "1  010ebe33f668      0.5      0.5\n",
       "2  02fa521e1838      0.5      0.5\n",
       "3  040e15f562a2      0.5      0.5\n",
       "4  046e85c7cc7f      0.5      0.5"
      ]
     },
     "execution_count": 26,
     "metadata": {},
     "output_type": "execute_result"
    }
   ],
   "source": [
    "sample_submission_df"
   ]
  },
  {
   "cell_type": "markdown",
   "id": "71e8c137",
   "metadata": {
    "papermill": {
     "duration": 0.025733,
     "end_time": "2023-06-24T03:08:33.014785",
     "exception": false,
     "start_time": "2023-06-24T03:08:32.989052",
     "status": "completed"
    },
    "tags": []
   },
   "source": [
    "The sample_submission_df DataFrame represents the sample submission format for the competition. It includes three columns: 'Id', 'class_0', and 'class_1'. The 'Id' column contains the unique identifiers for each sample, and the 'class_0' and 'class_1' columns contain the predicted probabilities for the corresponding classes.\n",
    "\n",
    "The sample submission DataFrame provided here has '0.5' as the predicted probability for both 'class_0' and 'class_1' for all the samples.\n",
    "\n",
    "To submit our actual predictions, we have to **replace the '0.5' values with the respective probabilities we obtain from our model**. Ensure that **the 'Id' column matches the identifiers** in the test dataset, and **the probabilities in 'class_0' and 'class_1' sum up to 1 for each sample**."
   ]
  },
  {
   "cell_type": "markdown",
   "id": "969e24c9",
   "metadata": {
    "papermill": {
     "duration": 0.025006,
     "end_time": "2023-06-24T03:08:33.065124",
     "exception": false,
     "start_time": "2023-06-24T03:08:33.040118",
     "status": "completed"
    },
    "tags": []
   },
   "source": [
    "# Create Dataset without Features Selection"
   ]
  },
  {
   "cell_type": "code",
   "execution_count": 27,
   "id": "44c9b62e",
   "metadata": {
    "execution": {
     "iopub.execute_input": "2023-06-24T03:08:33.117464Z",
     "iopub.status.busy": "2023-06-24T03:08:33.116911Z",
     "iopub.status.idle": "2023-06-24T03:08:33.121411Z",
     "shell.execute_reply": "2023-06-24T03:08:33.120766Z"
    },
    "papermill": {
     "duration": 0.032533,
     "end_time": "2023-06-24T03:08:33.123261",
     "exception": false,
     "start_time": "2023-06-24T03:08:33.090728",
     "status": "completed"
    },
    "tags": []
   },
   "outputs": [],
   "source": [
    "# X represents the feature data, and y represents the target variable data.\n",
    "X = train_df.iloc[:, 1:-1]\n",
    "y = train_df.iloc[:, -1]"
   ]
  },
  {
   "cell_type": "code",
   "execution_count": 28,
   "id": "3a4b0e5e",
   "metadata": {
    "execution": {
     "iopub.execute_input": "2023-06-24T03:08:33.175524Z",
     "iopub.status.busy": "2023-06-24T03:08:33.175041Z",
     "iopub.status.idle": "2023-06-24T03:08:33.397761Z",
     "shell.execute_reply": "2023-06-24T03:08:33.396930Z"
    },
    "papermill": {
     "duration": 0.251538,
     "end_time": "2023-06-24T03:08:33.400157",
     "exception": false,
     "start_time": "2023-06-24T03:08:33.148619",
     "status": "completed"
    },
    "tags": []
   },
   "outputs": [],
   "source": [
    "# We can split the data into training and testing sets using the train_test_split function from scikit-learn.\n",
    "from sklearn.model_selection import train_test_split\n",
    "\n",
    "X_train, X_test, y_train, y_test = train_test_split(X, y, test_size = 0.2, random_state = 42)"
   ]
  },
  {
   "cell_type": "code",
   "execution_count": 29,
   "id": "cb63f0b8",
   "metadata": {
    "execution": {
     "iopub.execute_input": "2023-06-24T03:08:33.454540Z",
     "iopub.status.busy": "2023-06-24T03:08:33.454228Z",
     "iopub.status.idle": "2023-06-24T03:08:33.475882Z",
     "shell.execute_reply": "2023-06-24T03:08:33.474709Z"
    },
    "papermill": {
     "duration": 0.050658,
     "end_time": "2023-06-24T03:08:33.478023",
     "exception": false,
     "start_time": "2023-06-24T03:08:33.427365",
     "status": "completed"
    },
    "tags": []
   },
   "outputs": [],
   "source": [
    "from sklearn.preprocessing import StandardScaler\n",
    "\n",
    "# Standardize the independent variables.\n",
    "scaler = StandardScaler()\n",
    "X_train = scaler.fit_transform(X_train)\n",
    "X_test = scaler.transform(X_test)"
   ]
  },
  {
   "cell_type": "markdown",
   "id": "c973a94f",
   "metadata": {
    "papermill": {
     "duration": 0.025776,
     "end_time": "2023-06-24T03:08:33.529641",
     "exception": false,
     "start_time": "2023-06-24T03:08:33.503865",
     "status": "completed"
    },
    "tags": []
   },
   "source": [
    "# Create, Train, and Evaluate Model without Features Selection"
   ]
  },
  {
   "cell_type": "code",
   "execution_count": 30,
   "id": "e0e3458f",
   "metadata": {
    "execution": {
     "iopub.execute_input": "2023-06-24T03:08:33.582402Z",
     "iopub.status.busy": "2023-06-24T03:08:33.582066Z",
     "iopub.status.idle": "2023-06-24T03:08:33.864176Z",
     "shell.execute_reply": "2023-06-24T03:08:33.863282Z"
    },
    "papermill": {
     "duration": 0.311459,
     "end_time": "2023-06-24T03:08:33.866593",
     "exception": false,
     "start_time": "2023-06-24T03:08:33.555134",
     "status": "completed"
    },
    "tags": []
   },
   "outputs": [
    {
     "name": "stdout",
     "output_type": "stream",
     "text": [
      "Accuracy: 0.9516129032258065\n"
     ]
    }
   ],
   "source": [
    "from xgboost import XGBClassifier\n",
    "\n",
    "# Create the XGBClassifier model.\n",
    "model = XGBClassifier()\n",
    "\n",
    "# Train the model on the training data.\n",
    "model.fit(X_train, y_train)\n",
    "\n",
    "# Evaluate the model on the test data.\n",
    "print('Accuracy:', model.score(X_test, y_test))"
   ]
  },
  {
   "cell_type": "code",
   "execution_count": 31,
   "id": "14d8d83a",
   "metadata": {
    "execution": {
     "iopub.execute_input": "2023-06-24T03:08:33.919777Z",
     "iopub.status.busy": "2023-06-24T03:08:33.919468Z",
     "iopub.status.idle": "2023-06-24T03:08:33.936657Z",
     "shell.execute_reply": "2023-06-24T03:08:33.936008Z"
    },
    "papermill": {
     "duration": 0.044637,
     "end_time": "2023-06-24T03:08:33.938662",
     "exception": false,
     "start_time": "2023-06-24T03:08:33.894025",
     "status": "completed"
    },
    "tags": []
   },
   "outputs": [
    {
     "name": "stdout",
     "output_type": "stream",
     "text": [
      "Classification Report:\n",
      "              precision    recall  f1-score   support\n",
      "\n",
      "           0       0.94      1.00      0.97       101\n",
      "           1       1.00      0.74      0.85        23\n",
      "\n",
      "    accuracy                           0.95       124\n",
      "   macro avg       0.97      0.87      0.91       124\n",
      "weighted avg       0.95      0.95      0.95       124\n",
      "\n",
      "Confusion Matrix:\n",
      "[[101   0]\n",
      " [  6  17]]\n"
     ]
    }
   ],
   "source": [
    "from sklearn.metrics import classification_report, confusion_matrix\n",
    "\n",
    "# Get the predictions using the model on the test data.\n",
    "y_pred = model.predict(X_test)\n",
    "\n",
    "# Create a classification report for the model.\n",
    "print('Classification Report:')\n",
    "print(classification_report(y_test, y_pred))\n",
    "\n",
    "# Create a confusion matrix for the model.\n",
    "print('Confusion Matrix:')\n",
    "print(confusion_matrix(y_test, y_pred))"
   ]
  },
  {
   "cell_type": "code",
   "execution_count": 32,
   "id": "a9d1cec6",
   "metadata": {
    "execution": {
     "iopub.execute_input": "2023-06-24T03:08:33.989277Z",
     "iopub.status.busy": "2023-06-24T03:08:33.989017Z",
     "iopub.status.idle": "2023-06-24T03:08:34.296722Z",
     "shell.execute_reply": "2023-06-24T03:08:34.295720Z"
    },
    "papermill": {
     "duration": 0.335404,
     "end_time": "2023-06-24T03:08:34.298930",
     "exception": false,
     "start_time": "2023-06-24T03:08:33.963526",
     "status": "completed"
    },
    "tags": []
   },
   "outputs": [
    {
     "data": {
      "text/plain": [
       "Text(50.722222222222214, 0.5, 'Truth')"
      ]
     },
     "execution_count": 32,
     "metadata": {},
     "output_type": "execute_result"
    },
    {
     "data": {
      "image/png": "[encoded data removed]",
      "text/plain": [
       "<Figure size 640x480 with 2 Axes>"
      ]
     },
     "metadata": {},
     "output_type": "display_data"
    }
   ],
   "source": [
    "cm = confusion_matrix(y_test, y_pred)\n",
    "\n",
    "# Define the class names.\n",
    "class_names = ['Normal', 'Diseased']\n",
    "\n",
    "# Create the heatmap with class names as tick labels.\n",
    "ax = sns.heatmap(cm, annot = True, fmt = '.0f', cmap = \"Blues\", annot_kws = {\"size\": 16},\\\n",
    "           xticklabels = class_names, yticklabels = class_names)\n",
    "\n",
    "# Set the axis labels.\n",
    "ax.set_xlabel(\"Prediction\")\n",
    "ax.set_ylabel(\"Truth\")"
   ]
  },
  {
   "cell_type": "markdown",
   "id": "0e8c8b0f",
   "metadata": {
    "papermill": {
     "duration": 0.028974,
     "end_time": "2023-06-24T03:08:34.354581",
     "exception": false,
     "start_time": "2023-06-24T03:08:34.325607",
     "status": "completed"
    },
    "tags": []
   },
   "source": [
    "## Calculate a Balanced Logarithmic Loss\n",
    "\n",
    "To evaluate the submissions using a balanced logarithmic loss, we need to provide a probability for each class (0 and 1) for each observation. The formula for calculating the loss is as follows:\n",
    "\n",
    "**log_loss = -(1/N) * sum(N_c * (y_c * log(p_c) + (1 - y_c) * log(1 - p_c)))**\n",
    "\n",
    "Where:\n",
    "\n",
    "    N is the total number of observations\n",
    "    N_c is the number of observations of class c\n",
    "    y_c is 1 if the observation belongs to class c and 0 otherwise\n",
    "    p_c is the predicted probability that the observation belongs to class c\n",
    "    log is the natural logarithm\n",
    "\n",
    "To calculate the log loss, we need to sum over all observations and classes, taking into account the actual class labels (y_c) and the predicted probabilities (p_c) for each class. The log loss penalizes the model more for confident wrong predictions and rewards the model for confident correct predictions.\n",
    "\n",
    "We can use this formula to evaluate our submission by comparing the predicted probabilities for each class with the actual class labels. **The lower the log loss, the better the model's performance.**"
   ]
  },
  {
   "cell_type": "code",
   "execution_count": 33,
   "id": "cc123cc4",
   "metadata": {
    "execution": {
     "iopub.execute_input": "2023-06-24T03:08:34.409651Z",
     "iopub.status.busy": "2023-06-24T03:08:34.408977Z",
     "iopub.status.idle": "2023-06-24T03:08:34.437127Z",
     "shell.execute_reply": "2023-06-24T03:08:34.435343Z"
    },
    "papermill": {
     "duration": 0.057891,
     "end_time": "2023-06-24T03:08:34.438949",
     "exception": false,
     "start_time": "2023-06-24T03:08:34.381058",
     "status": "completed"
    },
    "tags": []
   },
   "outputs": [
    {
     "data": {
      "text/html": [
       "<div>\n",
       "<style scoped>\n",
       "    .dataframe tbody tr th:only-of-type {\n",
       "        vertical-align: middle;\n",
       "    }\n",
       "\n",
       "    .dataframe tbody tr th {\n",
       "        vertical-align: top;\n",
       "    }\n",
       "\n",
       "    .dataframe thead th {\n",
       "        text-align: right;\n",
       "    }\n",
       "</style>\n",
       "<table border=\"1\" class=\"dataframe\">\n",
       "  <thead>\n",
       "    <tr style=\"text-align: right;\">\n",
       "      <th></th>\n",
       "      <th>class_0</th>\n",
       "      <th>class_1</th>\n",
       "      <th>class</th>\n",
       "    </tr>\n",
       "  </thead>\n",
       "  <tbody>\n",
       "    <tr>\n",
       "      <th>0</th>\n",
       "      <td>0.010968</td>\n",
       "      <td>0.989032</td>\n",
       "      <td>1.0</td>\n",
       "    </tr>\n",
       "    <tr>\n",
       "      <th>1</th>\n",
       "      <td>0.991731</td>\n",
       "      <td>0.008269</td>\n",
       "      <td>0.0</td>\n",
       "    </tr>\n",
       "    <tr>\n",
       "      <th>2</th>\n",
       "      <td>0.993234</td>\n",
       "      <td>0.006766</td>\n",
       "      <td>0.0</td>\n",
       "    </tr>\n",
       "    <tr>\n",
       "      <th>3</th>\n",
       "      <td>0.047751</td>\n",
       "      <td>0.952249</td>\n",
       "      <td>1.0</td>\n",
       "    </tr>\n",
       "    <tr>\n",
       "      <th>4</th>\n",
       "      <td>0.239599</td>\n",
       "      <td>0.760401</td>\n",
       "      <td>1.0</td>\n",
       "    </tr>\n",
       "    <tr>\n",
       "      <th>...</th>\n",
       "      <td>...</td>\n",
       "      <td>...</td>\n",
       "      <td>...</td>\n",
       "    </tr>\n",
       "    <tr>\n",
       "      <th>119</th>\n",
       "      <td>0.987838</td>\n",
       "      <td>0.012162</td>\n",
       "      <td>0.0</td>\n",
       "    </tr>\n",
       "    <tr>\n",
       "      <th>120</th>\n",
       "      <td>0.991644</td>\n",
       "      <td>0.008356</td>\n",
       "      <td>0.0</td>\n",
       "    </tr>\n",
       "    <tr>\n",
       "      <th>121</th>\n",
       "      <td>0.999443</td>\n",
       "      <td>0.000557</td>\n",
       "      <td>0.0</td>\n",
       "    </tr>\n",
       "    <tr>\n",
       "      <th>122</th>\n",
       "      <td>0.868670</td>\n",
       "      <td>0.131330</td>\n",
       "      <td>0.0</td>\n",
       "    </tr>\n",
       "    <tr>\n",
       "      <th>123</th>\n",
       "      <td>0.674908</td>\n",
       "      <td>0.325092</td>\n",
       "      <td>1.0</td>\n",
       "    </tr>\n",
       "  </tbody>\n",
       "</table>\n",
       "<p>124 rows × 3 columns</p>\n",
       "</div>"
      ],
      "text/plain": [
       "      class_0   class_1  class\n",
       "0    0.010968  0.989032    1.0\n",
       "1    0.991731  0.008269    0.0\n",
       "2    0.993234  0.006766    0.0\n",
       "3    0.047751  0.952249    1.0\n",
       "4    0.239599  0.760401    1.0\n",
       "..        ...       ...    ...\n",
       "119  0.987838  0.012162    0.0\n",
       "120  0.991644  0.008356    0.0\n",
       "121  0.999443  0.000557    0.0\n",
       "122  0.868670  0.131330    0.0\n",
       "123  0.674908  0.325092    1.0\n",
       "\n",
       "[124 rows x 3 columns]"
      ]
     },
     "execution_count": 33,
     "metadata": {},
     "output_type": "execute_result"
    }
   ],
   "source": [
    "# Get the predictions using the model on the test data.\n",
    "y_pred = model.predict_proba(X_test)\n",
    "\n",
    "# Create a table to show the predictions and the truth.\n",
    "y_pred_df = pd.DataFrame(y_pred)\n",
    "y_test_df = pd.DataFrame(y_test)\n",
    "\n",
    "X_test_df = np.concatenate((y_pred_df, y_test_df), 1)\n",
    "X_test_df = pd.DataFrame(X_test_df, columns = ['class_0', 'class_1', 'class'])\n",
    "X_test_df"
   ]
  },
  {
   "cell_type": "code",
   "execution_count": 34,
   "id": "dad3ab58",
   "metadata": {
    "execution": {
     "iopub.execute_input": "2023-06-24T03:08:34.494283Z",
     "iopub.status.busy": "2023-06-24T03:08:34.493657Z",
     "iopub.status.idle": "2023-06-24T03:08:34.503300Z",
     "shell.execute_reply": "2023-06-24T03:08:34.502244Z"
    },
    "papermill": {
     "duration": 0.039691,
     "end_time": "2023-06-24T03:08:34.505266",
     "exception": false,
     "start_time": "2023-06-24T03:08:34.465575",
     "status": "completed"
    },
    "tags": []
   },
   "outputs": [
    {
     "name": "stdout",
     "output_type": "stream",
     "text": [
      "Log Loss: 4.82664828148803\n"
     ]
    }
   ],
   "source": [
    "# Get the actual labels.\n",
    "actual_labels = X_test_df['class'].values\n",
    "\n",
    "# Get the predicted probabilities for class 0 and class 1.\n",
    "predicted_probs = X_test_df[['class_0', 'class_1']].values\n",
    "\n",
    "# Define a small epsilon value.\n",
    "epsilon = 1e-15\n",
    "\n",
    "# Initialize the log loss value.\n",
    "log_loss_value = 0\n",
    "\n",
    "# Iterate over each observation.\n",
    "for i in range(len(actual_labels)):\n",
    "    # Get the actual label and predicted probabilities for the observation.\n",
    "    y_c = actual_labels[i]\n",
    "    p_c = predicted_probs[i][1 if y_c else 0]  # Use 1 if y_c is 1, otherwise use 0.\n",
    "    \n",
    "    # Apply the transformation to the predicted probability.\n",
    "    p_c_transformed = max(min(p_c, 1 - epsilon), epsilon)\n",
    "    \n",
    "    # Calculate the log loss contribution for the observation.\n",
    "    log_loss_value += y_c * np.log(p_c_transformed) + (1 - y_c) * np.log(1 - p_c_transformed)\n",
    "\n",
    "# Calculate the average log loss.\n",
    "log_loss_value /= len(actual_labels)\n",
    "log_loss_value = -log_loss_value\n",
    "\n",
    "print(\"Log Loss:\", log_loss_value)"
   ]
  },
  {
   "cell_type": "markdown",
   "id": "abe1c54c",
   "metadata": {
    "papermill": {
     "duration": 0.027271,
     "end_time": "2023-06-24T03:08:34.561511",
     "exception": false,
     "start_time": "2023-06-24T03:08:34.534240",
     "status": "completed"
    },
    "tags": []
   },
   "source": [
    "# Create Dataset with Univariate Feature Selection\n",
    "\n",
    "To perform Univariate Feature Selection, we can use **the SelectKBest class from the scikit-learn library**. we are using **the F-test score (f_regression)** as the scoring function **to rank the features**. We are **selecting the top 10 features** based on this score (k=10). Once we fit the selector on the independent variables and target variable, we can get the indices and names of the selected features using the get_support and columns methods, respectively."
   ]
  },
  {
   "cell_type": "code",
   "execution_count": 35,
   "id": "d30cf5f6",
   "metadata": {
    "execution": {
     "iopub.execute_input": "2023-06-24T03:08:34.617350Z",
     "iopub.status.busy": "2023-06-24T03:08:34.616446Z",
     "iopub.status.idle": "2023-06-24T03:08:34.621383Z",
     "shell.execute_reply": "2023-06-24T03:08:34.620749Z"
    },
    "papermill": {
     "duration": 0.035522,
     "end_time": "2023-06-24T03:08:34.623473",
     "exception": false,
     "start_time": "2023-06-24T03:08:34.587951",
     "status": "completed"
    },
    "tags": []
   },
   "outputs": [],
   "source": [
    "# X represents the feature data, and y represents the target variable data.\n",
    "X = train_df.iloc[:, 1:-1]\n",
    "y = train_df.iloc[:, -1]"
   ]
  },
  {
   "cell_type": "code",
   "execution_count": 36,
   "id": "0515c115",
   "metadata": {
    "execution": {
     "iopub.execute_input": "2023-06-24T03:08:34.680181Z",
     "iopub.status.busy": "2023-06-24T03:08:34.679632Z",
     "iopub.status.idle": "2023-06-24T03:08:34.908164Z",
     "shell.execute_reply": "2023-06-24T03:08:34.906973Z"
    },
    "papermill": {
     "duration": 0.261043,
     "end_time": "2023-06-24T03:08:34.912335",
     "exception": false,
     "start_time": "2023-06-24T03:08:34.651292",
     "status": "completed"
    },
    "tags": []
   },
   "outputs": [],
   "source": [
    "from sklearn.feature_selection import SelectKBest, f_regression\n",
    "\n",
    "# Select the top 10 features based on the F-test score.\n",
    "selector = SelectKBest(score_func = f_regression, k = 10)\n",
    "\n",
    "# Fit the selector on the independent variables and target variable.\n",
    "X.fillna(method = 'ffill', inplace = True)\n",
    "X_new = selector.fit_transform(X, y)\n",
    "\n",
    "# Get the indices of the selected features.\n",
    "selected_indices = selector.get_support(indices = True)\n",
    "\n",
    "# Get the names of the selected features.\n",
    "selected_X = X.columns[selected_indices]"
   ]
  },
  {
   "cell_type": "code",
   "execution_count": 37,
   "id": "04dbaac0",
   "metadata": {
    "execution": {
     "iopub.execute_input": "2023-06-24T03:08:35.023391Z",
     "iopub.status.busy": "2023-06-24T03:08:35.023039Z",
     "iopub.status.idle": "2023-06-24T03:08:35.029761Z",
     "shell.execute_reply": "2023-06-24T03:08:35.028819Z"
    },
    "papermill": {
     "duration": 0.061539,
     "end_time": "2023-06-24T03:08:35.031794",
     "exception": false,
     "start_time": "2023-06-24T03:08:34.970255",
     "status": "completed"
    },
    "tags": []
   },
   "outputs": [
    {
     "data": {
      "text/plain": [
       "array([[2.09377000e-01, 3.10903329e+03, 2.23944070e+01, ...,\n",
       "        5.31069000e+00, 9.02829192e+03, 7.29816194e+00],\n",
       "       [1.45282000e-01, 9.78764160e+02, 3.69688890e+01, ...,\n",
       "        5.51760000e-03, 6.78500347e+03, 1.73229000e-01],\n",
       "       [4.70030000e-01, 2.63510654e+03, 3.23605530e+01, ...,\n",
       "        1.28973900e+00, 8.33890618e+03, 7.70956011e+00],\n",
       "       ...,\n",
       "       [4.27300000e-01, 2.45910720e+03, 5.53557780e+01, ...,\n",
       "        5.51760000e-03, 5.08892291e+03, 1.73229000e-01],\n",
       "       [3.63205000e-01, 1.26353524e+03, 2.36858560e+01, ...,\n",
       "        5.10378000e-01, 6.46425083e+03, 9.25699588e+00],\n",
       "       [4.82849000e-01, 2.67253426e+03, 1.12006102e+02, ...,\n",
       "        5.51760000e-03, 5.89535226e+03, 1.73229000e-01]])"
      ]
     },
     "execution_count": 37,
     "metadata": {},
     "output_type": "execute_result"
    }
   ],
   "source": [
    "# the selected features\n",
    "X_new"
   ]
  },
  {
   "cell_type": "code",
   "execution_count": 38,
   "id": "ad0f4943",
   "metadata": {
    "execution": {
     "iopub.execute_input": "2023-06-24T03:08:35.088824Z",
     "iopub.status.busy": "2023-06-24T03:08:35.087879Z",
     "iopub.status.idle": "2023-06-24T03:08:35.094460Z",
     "shell.execute_reply": "2023-06-24T03:08:35.093665Z"
    },
    "papermill": {
     "duration": 0.037056,
     "end_time": "2023-06-24T03:08:35.096368",
     "exception": false,
     "start_time": "2023-06-24T03:08:35.059312",
     "status": "completed"
    },
    "tags": []
   },
   "outputs": [
    {
     "data": {
      "text/plain": [
       "Index(['AB', 'AF', 'AM', 'BQ', 'CR', 'DH', 'DI', 'DU', 'FE', 'FL'], dtype='object')"
      ]
     },
     "execution_count": 38,
     "metadata": {},
     "output_type": "execute_result"
    }
   ],
   "source": [
    "# the selected features\n",
    "selected_X"
   ]
  },
  {
   "cell_type": "code",
   "execution_count": 39,
   "id": "42841dc4",
   "metadata": {
    "execution": {
     "iopub.execute_input": "2023-06-24T03:08:35.152551Z",
     "iopub.status.busy": "2023-06-24T03:08:35.151524Z",
     "iopub.status.idle": "2023-06-24T03:08:35.158123Z",
     "shell.execute_reply": "2023-06-24T03:08:35.157300Z"
    },
    "papermill": {
     "duration": 0.036735,
     "end_time": "2023-06-24T03:08:35.160213",
     "exception": false,
     "start_time": "2023-06-24T03:08:35.123478",
     "status": "completed"
    },
    "tags": []
   },
   "outputs": [
    {
     "data": {
      "text/plain": [
       "array(['AB', 'AF', 'AM', 'BQ', 'CR', 'DH', 'DI', 'DU', 'FE', 'FL'],\n",
       "      dtype=object)"
      ]
     },
     "execution_count": 39,
     "metadata": {},
     "output_type": "execute_result"
    }
   ],
   "source": [
    "# the selected features\n",
    "selected_X.values"
   ]
  },
  {
   "cell_type": "code",
   "execution_count": 40,
   "id": "a8eb57e6",
   "metadata": {
    "execution": {
     "iopub.execute_input": "2023-06-24T03:08:35.217934Z",
     "iopub.status.busy": "2023-06-24T03:08:35.217306Z",
     "iopub.status.idle": "2023-06-24T03:08:35.223185Z",
     "shell.execute_reply": "2023-06-24T03:08:35.222520Z"
    },
    "papermill": {
     "duration": 0.037093,
     "end_time": "2023-06-24T03:08:35.225182",
     "exception": false,
     "start_time": "2023-06-24T03:08:35.188089",
     "status": "completed"
    },
    "tags": []
   },
   "outputs": [],
   "source": [
    "# We can split the data into training and testing sets using the train_test_split function from scikit-learn.\n",
    "from sklearn.model_selection import train_test_split\n",
    "\n",
    "X_train, X_test, y_train, y_test = train_test_split(X_new, y, test_size = 0.2, random_state = 42)"
   ]
  },
  {
   "cell_type": "code",
   "execution_count": 41,
   "id": "62ff07bd",
   "metadata": {
    "execution": {
     "iopub.execute_input": "2023-06-24T03:08:35.281207Z",
     "iopub.status.busy": "2023-06-24T03:08:35.280902Z",
     "iopub.status.idle": "2023-06-24T03:08:35.287182Z",
     "shell.execute_reply": "2023-06-24T03:08:35.286411Z"
    },
    "papermill": {
     "duration": 0.036057,
     "end_time": "2023-06-24T03:08:35.289164",
     "exception": false,
     "start_time": "2023-06-24T03:08:35.253107",
     "status": "completed"
    },
    "tags": []
   },
   "outputs": [],
   "source": [
    "from sklearn.preprocessing import StandardScaler\n",
    "\n",
    "# Standardize the independent variables.\n",
    "scaler = StandardScaler()\n",
    "X_train = scaler.fit_transform(X_train)\n",
    "X_test = scaler.transform(X_test)"
   ]
  },
  {
   "cell_type": "markdown",
   "id": "0c9903a9",
   "metadata": {
    "papermill": {
     "duration": 0.027081,
     "end_time": "2023-06-24T03:08:35.342778",
     "exception": false,
     "start_time": "2023-06-24T03:08:35.315697",
     "status": "completed"
    },
    "tags": []
   },
   "source": [
    "# Create, Train, and Evaluate Model with Univariate Feature Selection"
   ]
  },
  {
   "cell_type": "code",
   "execution_count": 42,
   "id": "8108c8e0",
   "metadata": {
    "execution": {
     "iopub.execute_input": "2023-06-24T03:08:35.399102Z",
     "iopub.status.busy": "2023-06-24T03:08:35.398239Z",
     "iopub.status.idle": "2023-06-24T03:08:35.472646Z",
     "shell.execute_reply": "2023-06-24T03:08:35.471400Z"
    },
    "papermill": {
     "duration": 0.104636,
     "end_time": "2023-06-24T03:08:35.474678",
     "exception": false,
     "start_time": "2023-06-24T03:08:35.370042",
     "status": "completed"
    },
    "tags": []
   },
   "outputs": [
    {
     "name": "stdout",
     "output_type": "stream",
     "text": [
      "Accuracy: 0.9516129032258065\n"
     ]
    }
   ],
   "source": [
    "from xgboost import XGBClassifier\n",
    "\n",
    "# Create the XGBClassifier model.\n",
    "model = XGBClassifier()\n",
    "\n",
    "# Train the model on the training data.\n",
    "model.fit(X_train, y_train)\n",
    "\n",
    "# Evaluate the model on the test data.\n",
    "print('Accuracy:', model.score(X_test, y_test))"
   ]
  },
  {
   "cell_type": "code",
   "execution_count": 43,
   "id": "a29b857c",
   "metadata": {
    "execution": {
     "iopub.execute_input": "2023-06-24T03:08:35.532789Z",
     "iopub.status.busy": "2023-06-24T03:08:35.532458Z",
     "iopub.status.idle": "2023-06-24T03:08:35.549014Z",
     "shell.execute_reply": "2023-06-24T03:08:35.547752Z"
    },
    "papermill": {
     "duration": 0.048391,
     "end_time": "2023-06-24T03:08:35.551072",
     "exception": false,
     "start_time": "2023-06-24T03:08:35.502681",
     "status": "completed"
    },
    "tags": []
   },
   "outputs": [
    {
     "name": "stdout",
     "output_type": "stream",
     "text": [
      "Classification Report:\n",
      "              precision    recall  f1-score   support\n",
      "\n",
      "           0       0.96      0.98      0.97       101\n",
      "           1       0.90      0.83      0.86        23\n",
      "\n",
      "    accuracy                           0.95       124\n",
      "   macro avg       0.93      0.90      0.92       124\n",
      "weighted avg       0.95      0.95      0.95       124\n",
      "\n",
      "Confusion Matrix:\n",
      "[[99  2]\n",
      " [ 4 19]]\n"
     ]
    }
   ],
   "source": [
    "from sklearn.metrics import classification_report, confusion_matrix\n",
    "\n",
    "# Get the predictions using the model on the test data.\n",
    "y_pred = model.predict(X_test)\n",
    "\n",
    "# Create a classification report for the model.\n",
    "print('Classification Report:')\n",
    "print(classification_report(y_test, y_pred))\n",
    "\n",
    "# Create a confusion matrix for the model.\n",
    "print('Confusion Matrix:')\n",
    "print(confusion_matrix(y_test, y_pred))"
   ]
  },
  {
   "cell_type": "code",
   "execution_count": 44,
   "id": "5b73653d",
   "metadata": {
    "execution": {
     "iopub.execute_input": "2023-06-24T03:08:35.608074Z",
     "iopub.status.busy": "2023-06-24T03:08:35.607515Z",
     "iopub.status.idle": "2023-06-24T03:08:35.884989Z",
     "shell.execute_reply": "2023-06-24T03:08:35.884028Z"
    },
    "papermill": {
     "duration": 0.307885,
     "end_time": "2023-06-24T03:08:35.887088",
     "exception": false,
     "start_time": "2023-06-24T03:08:35.579203",
     "status": "completed"
    },
    "tags": []
   },
   "outputs": [
    {
     "data": {
      "text/plain": [
       "Text(50.722222222222214, 0.5, 'Truth')"
      ]
     },
     "execution_count": 44,
     "metadata": {},
     "output_type": "execute_result"
    },
    {
     "data": {
      "image/png": "[encoded data removed]",
      "text/plain": [
       "<Figure size 640x480 with 2 Axes>"
      ]
     },
     "metadata": {},
     "output_type": "display_data"
    }
   ],
   "source": [
    "cm = confusion_matrix(y_test, y_pred)\n",
    "\n",
    "# Define the class names.\n",
    "class_names = ['Normal', 'Diseased']\n",
    "\n",
    "# Create the heatmap with class names as tick labels.\n",
    "ax = sns.heatmap(cm, annot = True, fmt = '.0f', cmap = \"Blues\", annot_kws = {\"size\": 16},\\\n",
    "           xticklabels = class_names, yticklabels = class_names)\n",
    "\n",
    "# Set the axis labels.\n",
    "ax.set_xlabel(\"Prediction\")\n",
    "ax.set_ylabel(\"Truth\")"
   ]
  },
  {
   "cell_type": "markdown",
   "id": "a4f4c49b",
   "metadata": {
    "papermill": {
     "duration": 0.026973,
     "end_time": "2023-06-24T03:08:35.941932",
     "exception": false,
     "start_time": "2023-06-24T03:08:35.914959",
     "status": "completed"
    },
    "tags": []
   },
   "source": [
    "## Calculate a Balanced Logarithmic Loss"
   ]
  },
  {
   "cell_type": "code",
   "execution_count": 45,
   "id": "110e15fd",
   "metadata": {
    "execution": {
     "iopub.execute_input": "2023-06-24T03:08:35.998597Z",
     "iopub.status.busy": "2023-06-24T03:08:35.998108Z",
     "iopub.status.idle": "2023-06-24T03:08:36.016394Z",
     "shell.execute_reply": "2023-06-24T03:08:36.015548Z"
    },
    "papermill": {
     "duration": 0.05072,
     "end_time": "2023-06-24T03:08:36.020545",
     "exception": false,
     "start_time": "2023-06-24T03:08:35.969825",
     "status": "completed"
    },
    "tags": []
   },
   "outputs": [
    {
     "data": {
      "text/html": [
       "<div>\n",
       "<style scoped>\n",
       "    .dataframe tbody tr th:only-of-type {\n",
       "        vertical-align: middle;\n",
       "    }\n",
       "\n",
       "    .dataframe tbody tr th {\n",
       "        vertical-align: top;\n",
       "    }\n",
       "\n",
       "    .dataframe thead th {\n",
       "        text-align: right;\n",
       "    }\n",
       "</style>\n",
       "<table border=\"1\" class=\"dataframe\">\n",
       "  <thead>\n",
       "    <tr style=\"text-align: right;\">\n",
       "      <th></th>\n",
       "      <th>class_0</th>\n",
       "      <th>class_1</th>\n",
       "      <th>class</th>\n",
       "    </tr>\n",
       "  </thead>\n",
       "  <tbody>\n",
       "    <tr>\n",
       "      <th>0</th>\n",
       "      <td>0.103837</td>\n",
       "      <td>0.896163</td>\n",
       "      <td>1.0</td>\n",
       "    </tr>\n",
       "    <tr>\n",
       "      <th>1</th>\n",
       "      <td>0.938927</td>\n",
       "      <td>0.061073</td>\n",
       "      <td>0.0</td>\n",
       "    </tr>\n",
       "    <tr>\n",
       "      <th>2</th>\n",
       "      <td>0.999378</td>\n",
       "      <td>0.000622</td>\n",
       "      <td>0.0</td>\n",
       "    </tr>\n",
       "    <tr>\n",
       "      <th>3</th>\n",
       "      <td>0.089237</td>\n",
       "      <td>0.910763</td>\n",
       "      <td>1.0</td>\n",
       "    </tr>\n",
       "    <tr>\n",
       "      <th>4</th>\n",
       "      <td>0.027784</td>\n",
       "      <td>0.972216</td>\n",
       "      <td>1.0</td>\n",
       "    </tr>\n",
       "    <tr>\n",
       "      <th>...</th>\n",
       "      <td>...</td>\n",
       "      <td>...</td>\n",
       "      <td>...</td>\n",
       "    </tr>\n",
       "    <tr>\n",
       "      <th>119</th>\n",
       "      <td>0.999620</td>\n",
       "      <td>0.000380</td>\n",
       "      <td>0.0</td>\n",
       "    </tr>\n",
       "    <tr>\n",
       "      <th>120</th>\n",
       "      <td>0.976667</td>\n",
       "      <td>0.023333</td>\n",
       "      <td>0.0</td>\n",
       "    </tr>\n",
       "    <tr>\n",
       "      <th>121</th>\n",
       "      <td>0.999741</td>\n",
       "      <td>0.000259</td>\n",
       "      <td>0.0</td>\n",
       "    </tr>\n",
       "    <tr>\n",
       "      <th>122</th>\n",
       "      <td>0.853941</td>\n",
       "      <td>0.146059</td>\n",
       "      <td>0.0</td>\n",
       "    </tr>\n",
       "    <tr>\n",
       "      <th>123</th>\n",
       "      <td>0.424949</td>\n",
       "      <td>0.575051</td>\n",
       "      <td>1.0</td>\n",
       "    </tr>\n",
       "  </tbody>\n",
       "</table>\n",
       "<p>124 rows × 3 columns</p>\n",
       "</div>"
      ],
      "text/plain": [
       "      class_0   class_1  class\n",
       "0    0.103837  0.896163    1.0\n",
       "1    0.938927  0.061073    0.0\n",
       "2    0.999378  0.000622    0.0\n",
       "3    0.089237  0.910763    1.0\n",
       "4    0.027784  0.972216    1.0\n",
       "..        ...       ...    ...\n",
       "119  0.999620  0.000380    0.0\n",
       "120  0.976667  0.023333    0.0\n",
       "121  0.999741  0.000259    0.0\n",
       "122  0.853941  0.146059    0.0\n",
       "123  0.424949  0.575051    1.0\n",
       "\n",
       "[124 rows x 3 columns]"
      ]
     },
     "execution_count": 45,
     "metadata": {},
     "output_type": "execute_result"
    }
   ],
   "source": [
    "# Get the predictions using the model on the test data.\n",
    "y_pred = model.predict_proba(X_test)\n",
    "\n",
    "# Create a table to show the predictions and the truth.\n",
    "y_pred_df = pd.DataFrame(y_pred)\n",
    "y_test_df = pd.DataFrame(y_test)\n",
    "\n",
    "X_test_df = np.concatenate((y_pred_df, y_test_df), 1)\n",
    "X_test_df = pd.DataFrame(X_test_df, columns = ['class_0', 'class_1', 'class'])\n",
    "X_test_df"
   ]
  },
  {
   "cell_type": "code",
   "execution_count": 46,
   "id": "3e985e0e",
   "metadata": {
    "execution": {
     "iopub.execute_input": "2023-06-24T03:08:36.076993Z",
     "iopub.status.busy": "2023-06-24T03:08:36.076561Z",
     "iopub.status.idle": "2023-06-24T03:08:36.086275Z",
     "shell.execute_reply": "2023-06-24T03:08:36.085328Z"
    },
    "papermill": {
     "duration": 0.040015,
     "end_time": "2023-06-24T03:08:36.088174",
     "exception": false,
     "start_time": "2023-06-24T03:08:36.048159",
     "status": "completed"
    },
    "tags": []
   },
   "outputs": [
    {
     "name": "stdout",
     "output_type": "stream",
     "text": [
      "Log Loss: 4.794035938152245\n"
     ]
    }
   ],
   "source": [
    "# Get the actual labels.\n",
    "actual_labels = X_test_df['class'].values\n",
    "\n",
    "# Get the predicted probabilities for class 0 and class 1.\n",
    "predicted_probs = X_test_df[['class_0', 'class_1']].values\n",
    "\n",
    "# Define a small epsilon value.\n",
    "epsilon = 1e-15\n",
    "\n",
    "# Initialize the log loss value.\n",
    "log_loss_value = 0\n",
    "\n",
    "# Iterate over each observation.\n",
    "for i in range(len(actual_labels)):\n",
    "    # Get the actual label and predicted probabilities for the observation.\n",
    "    y_c = actual_labels[i]\n",
    "    p_c = predicted_probs[i][1 if y_c else 0]  # Use 1 if y_c is 1, otherwise use 0.\n",
    "    \n",
    "    # Apply the transformation to the predicted probability.\n",
    "    p_c_transformed = max(min(p_c, 1 - epsilon), epsilon)\n",
    "    \n",
    "    # Calculate the log loss contribution for the observation.\n",
    "    log_loss_value += y_c * np.log(p_c_transformed) + (1 - y_c) * np.log(1 - p_c_transformed)\n",
    "\n",
    "# Calculate the average log loss.\n",
    "log_loss_value /= len(actual_labels)\n",
    "log_loss_value = -log_loss_value\n",
    "\n",
    "print(\"Log Loss:\", log_loss_value)"
   ]
  },
  {
   "cell_type": "markdown",
   "id": "3093535c",
   "metadata": {
    "papermill": {
     "duration": 0.026748,
     "end_time": "2023-06-24T03:08:36.142559",
     "exception": false,
     "start_time": "2023-06-24T03:08:36.115811",
     "status": "completed"
    },
    "tags": []
   },
   "source": [
    "**The model performance after the features selection is not so better than that without the features selection. Thus, it might not be better to conduct features selection in this case.**"
   ]
  },
  {
   "cell_type": "markdown",
   "id": "81ec00d3",
   "metadata": {
    "papermill": {
     "duration": 0.02712,
     "end_time": "2023-06-24T03:08:36.197325",
     "exception": false,
     "start_time": "2023-06-24T03:08:36.170205",
     "status": "completed"
    },
    "tags": []
   },
   "source": [
    "# Train the Model for Submission without Univariate Feature Selection\n",
    "\n",
    "**This time we will submit without Univariate Feature Selection.**"
   ]
  },
  {
   "cell_type": "code",
   "execution_count": 47,
   "id": "10db1da9",
   "metadata": {
    "execution": {
     "iopub.execute_input": "2023-06-24T03:08:36.254196Z",
     "iopub.status.busy": "2023-06-24T03:08:36.253613Z",
     "iopub.status.idle": "2023-06-24T03:08:36.257540Z",
     "shell.execute_reply": "2023-06-24T03:08:36.256896Z"
    },
    "papermill": {
     "duration": 0.03449,
     "end_time": "2023-06-24T03:08:36.259381",
     "exception": false,
     "start_time": "2023-06-24T03:08:36.224891",
     "status": "completed"
    },
    "tags": []
   },
   "outputs": [],
   "source": [
    "# with Univariate Feature Selection\n",
    "# Replace with the actual column names.\n",
    "#selected_indices = [test_df.columns.get_loc(col) for col in selected_X]\n",
    "#X_df = train_df.iloc[:, selected_indices]\n",
    "#X = X_df.values\n",
    "#X_df.head()"
   ]
  },
  {
   "cell_type": "markdown",
   "id": "8c690c3f",
   "metadata": {
    "papermill": {
     "duration": 0.027303,
     "end_time": "2023-06-24T03:08:36.314150",
     "exception": false,
     "start_time": "2023-06-24T03:08:36.286847",
     "status": "completed"
    },
    "tags": []
   },
   "source": [
    "This time we use **StratifiedKFold** for training and evaluating the model."
   ]
  },
  {
   "cell_type": "code",
   "execution_count": 48,
   "id": "413802ce",
   "metadata": {
    "execution": {
     "iopub.execute_input": "2023-06-24T03:08:36.370614Z",
     "iopub.status.busy": "2023-06-24T03:08:36.369952Z",
     "iopub.status.idle": "2023-06-24T03:08:36.374141Z",
     "shell.execute_reply": "2023-06-24T03:08:36.373357Z"
    },
    "papermill": {
     "duration": 0.034442,
     "end_time": "2023-06-24T03:08:36.376025",
     "exception": false,
     "start_time": "2023-06-24T03:08:36.341583",
     "status": "completed"
    },
    "tags": []
   },
   "outputs": [],
   "source": [
    "# Standardize the independent variables.\n",
    "#scaler = StandardScaler()\n",
    "#X = scaler.fit_transform(X)\n",
    "\n",
    "# Create the XGBClassifier model.\n",
    "#model = XGBClassifier()\n",
    "\n",
    "# Train the model on the training data.\n",
    "#model.fit(X, y)"
   ]
  },
  {
   "cell_type": "markdown",
   "id": "17664360",
   "metadata": {
    "papermill": {
     "duration": 0.027461,
     "end_time": "2023-06-24T03:08:36.430531",
     "exception": false,
     "start_time": "2023-06-24T03:08:36.403070",
     "status": "completed"
    },
    "tags": []
   },
   "source": [
    "This time we use **StratifiedKFold** for training and evaluating the model."
   ]
  },
  {
   "cell_type": "code",
   "execution_count": 49,
   "id": "32dacbda",
   "metadata": {
    "execution": {
     "iopub.execute_input": "2023-06-24T03:08:36.490292Z",
     "iopub.status.busy": "2023-06-24T03:08:36.489774Z",
     "iopub.status.idle": "2023-06-24T03:08:37.160634Z",
     "shell.execute_reply": "2023-06-24T03:08:37.159704Z"
    },
    "papermill": {
     "duration": 0.701558,
     "end_time": "2023-06-24T03:08:37.162731",
     "exception": false,
     "start_time": "2023-06-24T03:08:36.461173",
     "status": "completed"
    },
    "tags": []
   },
   "outputs": [
    {
     "name": "stdout",
     "output_type": "stream",
     "text": [
      "Accuracy: 0.9354838709677419\n",
      "Accuracy: 0.9274193548387096\n",
      "Accuracy: 0.9512195121951219\n",
      "Accuracy: 0.9105691056910569\n",
      "Accuracy: 0.926829268292683\n"
     ]
    }
   ],
   "source": [
    "from sklearn.model_selection import StratifiedKFold\n",
    "\n",
    "# Standardize the independent variables.\n",
    "scaler = StandardScaler()\n",
    "X = scaler.fit_transform(X)\n",
    "\n",
    "# Create the XGBClassifier model.\n",
    "model = XGBClassifier()\n",
    "\n",
    "# Create the StratifiedKFold object.\n",
    "skf = StratifiedKFold(n_splits = 5, random_state = 42, shuffle = True)\n",
    "\n",
    "# Iterate over the splits and train/evaluate the model.\n",
    "for train_index, test_index in skf.split(X, y):\n",
    "    X_train, X_test = X[train_index], X[test_index]\n",
    "    y_train, y_test = y[train_index], y[test_index]\n",
    "\n",
    "    # Train the model on the training data.\n",
    "    model.fit(X_train, y_train)\n",
    "\n",
    "    # Evaluate the model on the test data.\n",
    "    accuracy = model.score(X_test, y_test)\n",
    "    print(\"Accuracy:\", accuracy)"
   ]
  },
  {
   "cell_type": "markdown",
   "id": "a749e4b7",
   "metadata": {
    "papermill": {
     "duration": 0.027959,
     "end_time": "2023-06-24T03:08:37.220783",
     "exception": false,
     "start_time": "2023-06-24T03:08:37.192824",
     "status": "completed"
    },
    "tags": []
   },
   "source": [
    "In this example, StratifiedKFold is used with 5 splits (n_splits=5) and a random state of 42 (random_state=42). The data is shuffled (shuffle=True) before splitting. The model is trained and evaluated on each split, and the accuracy of the model on the test data is printed. We can modify this code as per our requirements."
   ]
  },
  {
   "cell_type": "markdown",
   "id": "c4997ad7",
   "metadata": {
    "papermill": {
     "duration": 0.027843,
     "end_time": "2023-06-24T03:08:37.276990",
     "exception": false,
     "start_time": "2023-06-24T03:08:37.249147",
     "status": "completed"
    },
    "tags": []
   },
   "source": [
    "# Prediction without Univariate Feature Selection"
   ]
  },
  {
   "cell_type": "code",
   "execution_count": 50,
   "id": "bd849dac",
   "metadata": {
    "execution": {
     "iopub.execute_input": "2023-06-24T03:08:37.335726Z",
     "iopub.status.busy": "2023-06-24T03:08:37.335391Z",
     "iopub.status.idle": "2023-06-24T03:08:37.344957Z",
     "shell.execute_reply": "2023-06-24T03:08:37.344190Z"
    },
    "papermill": {
     "duration": 0.043973,
     "end_time": "2023-06-24T03:08:37.349238",
     "exception": false,
     "start_time": "2023-06-24T03:08:37.305265",
     "status": "completed"
    },
    "tags": []
   },
   "outputs": [],
   "source": [
    "# Create the test dataset.\n",
    "X_test = test_df.iloc[:, 1:] # without Univariate Feature Selection\n",
    "#X_test_df = test_df.iloc[:, selected_indices] # with Univariate Feature Selection\n",
    "#X_test = X_test_df.values # with Univariate Feature Selection\n",
    "\n",
    "# Standardize the independent variables.\n",
    "X_test = scaler.transform(X_test)\n",
    "\n",
    "# Predict the results.\n",
    "y_pred = model.predict_proba(X_test)"
   ]
  },
  {
   "cell_type": "code",
   "execution_count": 51,
   "id": "b52e6644",
   "metadata": {
    "execution": {
     "iopub.execute_input": "2023-06-24T03:08:37.408776Z",
     "iopub.status.busy": "2023-06-24T03:08:37.408423Z",
     "iopub.status.idle": "2023-06-24T03:08:37.412421Z",
     "shell.execute_reply": "2023-06-24T03:08:37.411545Z"
    },
    "papermill": {
     "duration": 0.035281,
     "end_time": "2023-06-24T03:08:37.414424",
     "exception": false,
     "start_time": "2023-06-24T03:08:37.379143",
     "status": "completed"
    },
    "tags": []
   },
   "outputs": [],
   "source": [
    "# with Univariate Feature Selection\n",
    "#X_test_df"
   ]
  },
  {
   "cell_type": "code",
   "execution_count": 52,
   "id": "e3cdf31f",
   "metadata": {
    "execution": {
     "iopub.execute_input": "2023-06-24T03:08:37.471839Z",
     "iopub.status.busy": "2023-06-24T03:08:37.471499Z",
     "iopub.status.idle": "2023-06-24T03:08:37.477947Z",
     "shell.execute_reply": "2023-06-24T03:08:37.477058Z"
    },
    "papermill": {
     "duration": 0.037669,
     "end_time": "2023-06-24T03:08:37.479945",
     "exception": false,
     "start_time": "2023-06-24T03:08:37.442276",
     "status": "completed"
    },
    "tags": []
   },
   "outputs": [
    {
     "data": {
      "text/plain": [
       "array([[0.9559094, 0.0440906],\n",
       "       [0.9559094, 0.0440906],\n",
       "       [0.9559094, 0.0440906],\n",
       "       [0.9559094, 0.0440906],\n",
       "       [0.9559094, 0.0440906]], dtype=float32)"
      ]
     },
     "execution_count": 52,
     "metadata": {},
     "output_type": "execute_result"
    }
   ],
   "source": [
    "y_pred"
   ]
  },
  {
   "cell_type": "code",
   "execution_count": 53,
   "id": "d7ad903b",
   "metadata": {
    "execution": {
     "iopub.execute_input": "2023-06-24T03:08:37.538169Z",
     "iopub.status.busy": "2023-06-24T03:08:37.537118Z",
     "iopub.status.idle": "2023-06-24T03:08:37.548492Z",
     "shell.execute_reply": "2023-06-24T03:08:37.547866Z"
    },
    "papermill": {
     "duration": 0.042283,
     "end_time": "2023-06-24T03:08:37.550459",
     "exception": false,
     "start_time": "2023-06-24T03:08:37.508176",
     "status": "completed"
    },
    "tags": []
   },
   "outputs": [
    {
     "data": {
      "text/html": [
       "<div>\n",
       "<style scoped>\n",
       "    .dataframe tbody tr th:only-of-type {\n",
       "        vertical-align: middle;\n",
       "    }\n",
       "\n",
       "    .dataframe tbody tr th {\n",
       "        vertical-align: top;\n",
       "    }\n",
       "\n",
       "    .dataframe thead th {\n",
       "        text-align: right;\n",
       "    }\n",
       "</style>\n",
       "<table border=\"1\" class=\"dataframe\">\n",
       "  <thead>\n",
       "    <tr style=\"text-align: right;\">\n",
       "      <th></th>\n",
       "      <th>0</th>\n",
       "      <th>1</th>\n",
       "    </tr>\n",
       "  </thead>\n",
       "  <tbody>\n",
       "    <tr>\n",
       "      <th>0</th>\n",
       "      <td>0.955909</td>\n",
       "      <td>0.044091</td>\n",
       "    </tr>\n",
       "    <tr>\n",
       "      <th>1</th>\n",
       "      <td>0.955909</td>\n",
       "      <td>0.044091</td>\n",
       "    </tr>\n",
       "    <tr>\n",
       "      <th>2</th>\n",
       "      <td>0.955909</td>\n",
       "      <td>0.044091</td>\n",
       "    </tr>\n",
       "    <tr>\n",
       "      <th>3</th>\n",
       "      <td>0.955909</td>\n",
       "      <td>0.044091</td>\n",
       "    </tr>\n",
       "    <tr>\n",
       "      <th>4</th>\n",
       "      <td>0.955909</td>\n",
       "      <td>0.044091</td>\n",
       "    </tr>\n",
       "  </tbody>\n",
       "</table>\n",
       "</div>"
      ],
      "text/plain": [
       "          0         1\n",
       "0  0.955909  0.044091\n",
       "1  0.955909  0.044091\n",
       "2  0.955909  0.044091\n",
       "3  0.955909  0.044091\n",
       "4  0.955909  0.044091"
      ]
     },
     "execution_count": 53,
     "metadata": {},
     "output_type": "execute_result"
    }
   ],
   "source": [
    "y_pred_df = pd.DataFrame(y_pred, columns = ['0', '1'])\n",
    "y_pred_df"
   ]
  },
  {
   "cell_type": "markdown",
   "id": "d2ab9f2c",
   "metadata": {
    "papermill": {
     "duration": 0.028358,
     "end_time": "2023-06-24T03:08:37.607777",
     "exception": false,
     "start_time": "2023-06-24T03:08:37.579419",
     "status": "completed"
    },
    "tags": []
   },
   "source": [
    "# Submission"
   ]
  },
  {
   "cell_type": "code",
   "execution_count": 54,
   "id": "331ee5b8",
   "metadata": {
    "execution": {
     "iopub.execute_input": "2023-06-24T03:08:37.669698Z",
     "iopub.status.busy": "2023-06-24T03:08:37.669036Z",
     "iopub.status.idle": "2023-06-24T03:08:37.674746Z",
     "shell.execute_reply": "2023-06-24T03:08:37.674033Z"
    },
    "papermill": {
     "duration": 0.039224,
     "end_time": "2023-06-24T03:08:37.676693",
     "exception": false,
     "start_time": "2023-06-24T03:08:37.637469",
     "status": "completed"
    },
    "tags": []
   },
   "outputs": [],
   "source": [
    "submission = pd.DataFrame(test_df[\"Id\"], columns = [\"Id\"])"
   ]
  },
  {
   "cell_type": "code",
   "execution_count": 55,
   "id": "a1f76315",
   "metadata": {
    "execution": {
     "iopub.execute_input": "2023-06-24T03:08:37.738761Z",
     "iopub.status.busy": "2023-06-24T03:08:37.738139Z",
     "iopub.status.idle": "2023-06-24T03:08:37.744069Z",
     "shell.execute_reply": "2023-06-24T03:08:37.743072Z"
    },
    "papermill": {
     "duration": 0.039531,
     "end_time": "2023-06-24T03:08:37.746160",
     "exception": false,
     "start_time": "2023-06-24T03:08:37.706629",
     "status": "completed"
    },
    "tags": []
   },
   "outputs": [],
   "source": [
    "submission[\"class_0\"] = y_pred_df['0']\n",
    "submission[\"class_1\"] = y_pred_df['1']"
   ]
  },
  {
   "cell_type": "code",
   "execution_count": 56,
   "id": "4f4c5a49",
   "metadata": {
    "execution": {
     "iopub.execute_input": "2023-06-24T03:08:37.807659Z",
     "iopub.status.busy": "2023-06-24T03:08:37.807356Z",
     "iopub.status.idle": "2023-06-24T03:08:37.816393Z",
     "shell.execute_reply": "2023-06-24T03:08:37.815745Z"
    },
    "papermill": {
     "duration": 0.041138,
     "end_time": "2023-06-24T03:08:37.818189",
     "exception": false,
     "start_time": "2023-06-24T03:08:37.777051",
     "status": "completed"
    },
    "tags": []
   },
   "outputs": [
    {
     "data": {
      "text/html": [
       "<div>\n",
       "<style scoped>\n",
       "    .dataframe tbody tr th:only-of-type {\n",
       "        vertical-align: middle;\n",
       "    }\n",
       "\n",
       "    .dataframe tbody tr th {\n",
       "        vertical-align: top;\n",
       "    }\n",
       "\n",
       "    .dataframe thead th {\n",
       "        text-align: right;\n",
       "    }\n",
       "</style>\n",
       "<table border=\"1\" class=\"dataframe\">\n",
       "  <thead>\n",
       "    <tr style=\"text-align: right;\">\n",
       "      <th></th>\n",
       "      <th>Id</th>\n",
       "      <th>class_0</th>\n",
       "      <th>class_1</th>\n",
       "    </tr>\n",
       "  </thead>\n",
       "  <tbody>\n",
       "    <tr>\n",
       "      <th>0</th>\n",
       "      <td>00eed32682bb</td>\n",
       "      <td>0.955909</td>\n",
       "      <td>0.044091</td>\n",
       "    </tr>\n",
       "    <tr>\n",
       "      <th>1</th>\n",
       "      <td>010ebe33f668</td>\n",
       "      <td>0.955909</td>\n",
       "      <td>0.044091</td>\n",
       "    </tr>\n",
       "    <tr>\n",
       "      <th>2</th>\n",
       "      <td>02fa521e1838</td>\n",
       "      <td>0.955909</td>\n",
       "      <td>0.044091</td>\n",
       "    </tr>\n",
       "    <tr>\n",
       "      <th>3</th>\n",
       "      <td>040e15f562a2</td>\n",
       "      <td>0.955909</td>\n",
       "      <td>0.044091</td>\n",
       "    </tr>\n",
       "    <tr>\n",
       "      <th>4</th>\n",
       "      <td>046e85c7cc7f</td>\n",
       "      <td>0.955909</td>\n",
       "      <td>0.044091</td>\n",
       "    </tr>\n",
       "  </tbody>\n",
       "</table>\n",
       "</div>"
      ],
      "text/plain": [
       "             Id   class_0   class_1\n",
       "0  00eed32682bb  0.955909  0.044091\n",
       "1  010ebe33f668  0.955909  0.044091\n",
       "2  02fa521e1838  0.955909  0.044091\n",
       "3  040e15f562a2  0.955909  0.044091\n",
       "4  046e85c7cc7f  0.955909  0.044091"
      ]
     },
     "execution_count": 56,
     "metadata": {},
     "output_type": "execute_result"
    }
   ],
   "source": [
    "submission"
   ]
  },
  {
   "cell_type": "code",
   "execution_count": 57,
   "id": "5e6bedf4",
   "metadata": {
    "execution": {
     "iopub.execute_input": "2023-06-24T03:08:37.881145Z",
     "iopub.status.busy": "2023-06-24T03:08:37.880576Z",
     "iopub.status.idle": "2023-06-24T03:08:37.889733Z",
     "shell.execute_reply": "2023-06-24T03:08:37.888997Z"
    },
    "papermill": {
     "duration": 0.042327,
     "end_time": "2023-06-24T03:08:37.891646",
     "exception": false,
     "start_time": "2023-06-24T03:08:37.849319",
     "status": "completed"
    },
    "tags": []
   },
   "outputs": [],
   "source": [
    "submission.to_csv('submission.csv',index = False)"
   ]
  },
  {
   "cell_type": "markdown",
   "id": "5c58689d",
   "metadata": {
    "papermill": {
     "duration": 0.029388,
     "end_time": "2023-06-24T03:08:37.950382",
     "exception": false,
     "start_time": "2023-06-24T03:08:37.920994",
     "status": "completed"
    },
    "tags": []
   },
   "source": [
    "# Save, Load, and Use the Model¶\n",
    "\n",
    "To save the trained model, we can use the joblib library from the sklearn.externals module. This will save the model to a file in the current working directory. **To load the saved model later**, we can use the joblib.load() function.\n"
   ]
  },
  {
   "cell_type": "code",
   "execution_count": 58,
   "id": "ea2f3860",
   "metadata": {
    "execution": {
     "iopub.execute_input": "2023-06-24T03:08:38.012287Z",
     "iopub.status.busy": "2023-06-24T03:08:38.011632Z",
     "iopub.status.idle": "2023-06-24T03:08:38.029756Z",
     "shell.execute_reply": "2023-06-24T03:08:38.026334Z"
    },
    "papermill": {
     "duration": 0.051896,
     "end_time": "2023-06-24T03:08:38.032200",
     "exception": false,
     "start_time": "2023-06-24T03:08:37.980304",
     "status": "completed"
    },
    "tags": []
   },
   "outputs": [],
   "source": [
    "import joblib\n",
    "\n",
    "# Save the model to disk.\n",
    "joblib.dump(model, 'model.joblib')\n",
    "\n",
    "# Load the saved model from disk.\n",
    "model_loaded = joblib.load('model.joblib')\n",
    "\n",
    "# Use the loaded model to make predictions on test data.\n",
    "y_pred_loaded = model_loaded.predict(X_test)"
   ]
  },
  {
   "cell_type": "markdown",
   "id": "9ed9c4ae",
   "metadata": {
    "papermill": {
     "duration": 0.029263,
     "end_time": "2023-06-24T03:08:38.092323",
     "exception": false,
     "start_time": "2023-06-24T03:08:38.063060",
     "status": "completed"
    },
    "tags": []
   },
   "source": [
    "# Conclusion\n",
    "\n",
    "For the train dataset, this model performed very well, but did not get a good score for the test dataset. Therefore, there must be some difference between the train and test datasets and overfitting is observed to the train dataset."
   ]
  },
  {
   "cell_type": "markdown",
   "id": "7261fc0b",
   "metadata": {
    "papermill": {
     "duration": 0.029472,
     "end_time": "2023-06-24T03:08:38.151201",
     "exception": false,
     "start_time": "2023-06-24T03:08:38.121729",
     "status": "completed"
    },
    "tags": []
   },
   "source": [
    "I am a medical doctor working on **artificial intelligence (AI) for medicine**. At present AI is also widely used in the medical field. Particularly, AI performs in the healthcare sector following tasks: **image classification, object detection, semantic segmentation, GANs, text classification, etc**. **If you are interested in AI for medicine, please see my other notebooks.**"
   ]
  }
 ],
 "metadata": {
  "kernelspec": {
   "display_name": "Python 3",
   "language": "python",
   "name": "python3"
  },
  "language_info": {
   "codemirror_mode": {
    "name": "ipython",
    "version": 3
   },
   "file_extension": ".py",
   "mimetype": "text/x-python",
   "name": "python",
   "nbconvert_exporter": "python",
   "pygments_lexer": "ipython3",
   "version": "3.10.10"
  },
  "papermill": {
   "default_parameters": {},
   "duration": 20.616035,
   "end_time": "2023-06-24T03:08:39.000037",
   "environment_variables": {},
   "exception": null,
   "input_path": "__notebook__.ipynb",
   "output_path": "__notebook__.ipynb",
   "parameters": {},
   "start_time": "2023-06-24T03:08:18.384002",
   "version": "2.4.0"
  }
 },
 "nbformat": 4,
 "nbformat_minor": 5
}

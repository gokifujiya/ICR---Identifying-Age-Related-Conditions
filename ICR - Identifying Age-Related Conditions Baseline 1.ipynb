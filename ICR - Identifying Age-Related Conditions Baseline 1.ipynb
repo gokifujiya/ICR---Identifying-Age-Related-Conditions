{
 "cells": [
  {
   "cell_type": "markdown",
   "id": "be5e50ec",
   "metadata": {
    "papermill": {
     "duration": 0.020307,
     "end_time": "2023-06-04T02:39:55.604010",
     "exception": false,
     "start_time": "2023-06-04T02:39:55.583703",
     "status": "completed"
    },
    "tags": []
   },
   "source": [
    "# Introduction\n",
    "\n",
    "We have to create a model trained on measurements of health characteristics to predict if the person has one or more of any of the three medical conditions (Class 1), or none of the three medical conditions (Class 0).\n",
    "\n",
    "# Import Libraries"
   ]
  },
  {
   "cell_type": "code",
   "execution_count": 1,
   "id": "bedc4d66",
   "metadata": {
    "execution": {
     "iopub.execute_input": "2023-06-04T02:39:55.646238Z",
     "iopub.status.busy": "2023-06-04T02:39:55.645844Z",
     "iopub.status.idle": "2023-06-04T02:39:57.288155Z",
     "shell.execute_reply": "2023-06-04T02:39:57.287072Z"
    },
    "papermill": {
     "duration": 1.667157,
     "end_time": "2023-06-04T02:39:57.290968",
     "exception": false,
     "start_time": "2023-06-04T02:39:55.623811",
     "status": "completed"
    },
    "tags": []
   },
   "outputs": [],
   "source": [
    "import numpy as np\n",
    "import pandas as pd\n",
    "import matplotlib.pyplot as plt\n",
    "import seaborn as sns"
   ]
  },
  {
   "cell_type": "markdown",
   "id": "c9cd76d4",
   "metadata": {
    "papermill": {
     "duration": 0.020087,
     "end_time": "2023-06-04T02:39:57.331807",
     "exception": false,
     "start_time": "2023-06-04T02:39:57.311720",
     "status": "completed"
    },
    "tags": []
   },
   "source": [
    "# Read CSV Files"
   ]
  },
  {
   "cell_type": "code",
   "execution_count": 2,
   "id": "4194a39d",
   "metadata": {
    "execution": {
     "iopub.execute_input": "2023-06-04T02:39:57.375471Z",
     "iopub.status.busy": "2023-06-04T02:39:57.374479Z",
     "iopub.status.idle": "2023-06-04T02:39:57.453616Z",
     "shell.execute_reply": "2023-06-04T02:39:57.452238Z"
    },
    "papermill": {
     "duration": 0.10384,
     "end_time": "2023-06-04T02:39:57.456452",
     "exception": false,
     "start_time": "2023-06-04T02:39:57.352612",
     "status": "completed"
    },
    "tags": []
   },
   "outputs": [],
   "source": [
    "# Load the data.\n",
    "train_df = pd.read_csv('/kaggle/input/icr-identify-age-related-conditions/train.csv')\n",
    "test_df = pd.read_csv('/kaggle/input/icr-identify-age-related-conditions/test.csv')\n",
    "greeks_df = pd.read_csv('/kaggle/input/icr-identify-age-related-conditions/greeks.csv')\n",
    "sample_submission_df = pd.read_csv('/kaggle/input/icr-identify-age-related-conditions/sample_submission.csv')"
   ]
  },
  {
   "cell_type": "code",
   "execution_count": 3,
   "id": "d9a7cfa8",
   "metadata": {
    "execution": {
     "iopub.execute_input": "2023-06-04T02:39:57.498028Z",
     "iopub.status.busy": "2023-06-04T02:39:57.497600Z",
     "iopub.status.idle": "2023-06-04T02:39:57.555769Z",
     "shell.execute_reply": "2023-06-04T02:39:57.554579Z"
    },
    "papermill": {
     "duration": 0.082124,
     "end_time": "2023-06-04T02:39:57.558495",
     "exception": false,
     "start_time": "2023-06-04T02:39:57.476371",
     "status": "completed"
    },
    "tags": []
   },
   "outputs": [
    {
     "data": {
      "text/html": [
       "<div>\n",
       "<style scoped>\n",
       "    .dataframe tbody tr th:only-of-type {\n",
       "        vertical-align: middle;\n",
       "    }\n",
       "\n",
       "    .dataframe tbody tr th {\n",
       "        vertical-align: top;\n",
       "    }\n",
       "\n",
       "    .dataframe thead th {\n",
       "        text-align: right;\n",
       "    }\n",
       "</style>\n",
       "<table border=\"1\" class=\"dataframe\">\n",
       "  <thead>\n",
       "    <tr style=\"text-align: right;\">\n",
       "      <th></th>\n",
       "      <th>Id</th>\n",
       "      <th>AB</th>\n",
       "      <th>AF</th>\n",
       "      <th>AH</th>\n",
       "      <th>AM</th>\n",
       "      <th>AR</th>\n",
       "      <th>AX</th>\n",
       "      <th>AY</th>\n",
       "      <th>AZ</th>\n",
       "      <th>BC</th>\n",
       "      <th>...</th>\n",
       "      <th>FL</th>\n",
       "      <th>FR</th>\n",
       "      <th>FS</th>\n",
       "      <th>GB</th>\n",
       "      <th>GE</th>\n",
       "      <th>GF</th>\n",
       "      <th>GH</th>\n",
       "      <th>GI</th>\n",
       "      <th>GL</th>\n",
       "      <th>Class</th>\n",
       "    </tr>\n",
       "  </thead>\n",
       "  <tbody>\n",
       "    <tr>\n",
       "      <th>0</th>\n",
       "      <td>000ff2bfdfe9</td>\n",
       "      <td>0.209377</td>\n",
       "      <td>3109.03329</td>\n",
       "      <td>85.200147</td>\n",
       "      <td>22.394407</td>\n",
       "      <td>8.138688</td>\n",
       "      <td>0.699861</td>\n",
       "      <td>0.025578</td>\n",
       "      <td>9.812214</td>\n",
       "      <td>5.555634</td>\n",
       "      <td>...</td>\n",
       "      <td>7.298162</td>\n",
       "      <td>1.73855</td>\n",
       "      <td>0.094822</td>\n",
       "      <td>11.339138</td>\n",
       "      <td>72.611063</td>\n",
       "      <td>2003.810319</td>\n",
       "      <td>22.136229</td>\n",
       "      <td>69.834944</td>\n",
       "      <td>0.120343</td>\n",
       "      <td>1</td>\n",
       "    </tr>\n",
       "    <tr>\n",
       "      <th>1</th>\n",
       "      <td>007255e47698</td>\n",
       "      <td>0.145282</td>\n",
       "      <td>978.76416</td>\n",
       "      <td>85.200147</td>\n",
       "      <td>36.968889</td>\n",
       "      <td>8.138688</td>\n",
       "      <td>3.632190</td>\n",
       "      <td>0.025578</td>\n",
       "      <td>13.517790</td>\n",
       "      <td>1.229900</td>\n",
       "      <td>...</td>\n",
       "      <td>0.173229</td>\n",
       "      <td>0.49706</td>\n",
       "      <td>0.568932</td>\n",
       "      <td>9.292698</td>\n",
       "      <td>72.611063</td>\n",
       "      <td>27981.562750</td>\n",
       "      <td>29.135430</td>\n",
       "      <td>32.131996</td>\n",
       "      <td>21.978000</td>\n",
       "      <td>0</td>\n",
       "    </tr>\n",
       "    <tr>\n",
       "      <th>2</th>\n",
       "      <td>013f2bd269f5</td>\n",
       "      <td>0.470030</td>\n",
       "      <td>2635.10654</td>\n",
       "      <td>85.200147</td>\n",
       "      <td>32.360553</td>\n",
       "      <td>8.138688</td>\n",
       "      <td>6.732840</td>\n",
       "      <td>0.025578</td>\n",
       "      <td>12.824570</td>\n",
       "      <td>1.229900</td>\n",
       "      <td>...</td>\n",
       "      <td>7.709560</td>\n",
       "      <td>0.97556</td>\n",
       "      <td>1.198821</td>\n",
       "      <td>37.077772</td>\n",
       "      <td>88.609437</td>\n",
       "      <td>13676.957810</td>\n",
       "      <td>28.022851</td>\n",
       "      <td>35.192676</td>\n",
       "      <td>0.196941</td>\n",
       "      <td>0</td>\n",
       "    </tr>\n",
       "    <tr>\n",
       "      <th>3</th>\n",
       "      <td>043ac50845d5</td>\n",
       "      <td>0.252107</td>\n",
       "      <td>3819.65177</td>\n",
       "      <td>120.201618</td>\n",
       "      <td>77.112203</td>\n",
       "      <td>8.138688</td>\n",
       "      <td>3.685344</td>\n",
       "      <td>0.025578</td>\n",
       "      <td>11.053708</td>\n",
       "      <td>1.229900</td>\n",
       "      <td>...</td>\n",
       "      <td>6.122162</td>\n",
       "      <td>0.49706</td>\n",
       "      <td>0.284466</td>\n",
       "      <td>18.529584</td>\n",
       "      <td>82.416803</td>\n",
       "      <td>2094.262452</td>\n",
       "      <td>39.948656</td>\n",
       "      <td>90.493248</td>\n",
       "      <td>0.155829</td>\n",
       "      <td>0</td>\n",
       "    </tr>\n",
       "    <tr>\n",
       "      <th>4</th>\n",
       "      <td>044fb8a146ec</td>\n",
       "      <td>0.380297</td>\n",
       "      <td>3733.04844</td>\n",
       "      <td>85.200147</td>\n",
       "      <td>14.103738</td>\n",
       "      <td>8.138688</td>\n",
       "      <td>3.942255</td>\n",
       "      <td>0.054810</td>\n",
       "      <td>3.396778</td>\n",
       "      <td>102.151980</td>\n",
       "      <td>...</td>\n",
       "      <td>8.153058</td>\n",
       "      <td>48.50134</td>\n",
       "      <td>0.121914</td>\n",
       "      <td>16.408728</td>\n",
       "      <td>146.109943</td>\n",
       "      <td>8524.370502</td>\n",
       "      <td>45.381316</td>\n",
       "      <td>36.262628</td>\n",
       "      <td>0.096614</td>\n",
       "      <td>1</td>\n",
       "    </tr>\n",
       "    <tr>\n",
       "      <th>...</th>\n",
       "      <td>...</td>\n",
       "      <td>...</td>\n",
       "      <td>...</td>\n",
       "      <td>...</td>\n",
       "      <td>...</td>\n",
       "      <td>...</td>\n",
       "      <td>...</td>\n",
       "      <td>...</td>\n",
       "      <td>...</td>\n",
       "      <td>...</td>\n",
       "      <td>...</td>\n",
       "      <td>...</td>\n",
       "      <td>...</td>\n",
       "      <td>...</td>\n",
       "      <td>...</td>\n",
       "      <td>...</td>\n",
       "      <td>...</td>\n",
       "      <td>...</td>\n",
       "      <td>...</td>\n",
       "      <td>...</td>\n",
       "      <td>...</td>\n",
       "    </tr>\n",
       "    <tr>\n",
       "      <th>612</th>\n",
       "      <td>fd3dafe738fd</td>\n",
       "      <td>0.149555</td>\n",
       "      <td>3130.05946</td>\n",
       "      <td>123.763599</td>\n",
       "      <td>9.513984</td>\n",
       "      <td>13.020852</td>\n",
       "      <td>3.499305</td>\n",
       "      <td>0.077343</td>\n",
       "      <td>8.545512</td>\n",
       "      <td>2.804172</td>\n",
       "      <td>...</td>\n",
       "      <td>0.173229</td>\n",
       "      <td>1.26092</td>\n",
       "      <td>0.067730</td>\n",
       "      <td>8.967128</td>\n",
       "      <td>217.148554</td>\n",
       "      <td>8095.932828</td>\n",
       "      <td>24.640462</td>\n",
       "      <td>69.191944</td>\n",
       "      <td>21.978000</td>\n",
       "      <td>0</td>\n",
       "    </tr>\n",
       "    <tr>\n",
       "      <th>613</th>\n",
       "      <td>fd895603f071</td>\n",
       "      <td>0.435846</td>\n",
       "      <td>5462.03438</td>\n",
       "      <td>85.200147</td>\n",
       "      <td>46.551007</td>\n",
       "      <td>15.973224</td>\n",
       "      <td>5.979825</td>\n",
       "      <td>0.025882</td>\n",
       "      <td>12.622906</td>\n",
       "      <td>3.777550</td>\n",
       "      <td>...</td>\n",
       "      <td>10.223150</td>\n",
       "      <td>1.24236</td>\n",
       "      <td>0.426699</td>\n",
       "      <td>35.896418</td>\n",
       "      <td>496.994214</td>\n",
       "      <td>3085.308063</td>\n",
       "      <td>29.648928</td>\n",
       "      <td>124.808872</td>\n",
       "      <td>0.145340</td>\n",
       "      <td>0</td>\n",
       "    </tr>\n",
       "    <tr>\n",
       "      <th>614</th>\n",
       "      <td>fd8ef6377f76</td>\n",
       "      <td>0.427300</td>\n",
       "      <td>2459.10720</td>\n",
       "      <td>130.138587</td>\n",
       "      <td>55.355778</td>\n",
       "      <td>10.005552</td>\n",
       "      <td>8.070549</td>\n",
       "      <td>0.025578</td>\n",
       "      <td>15.408390</td>\n",
       "      <td>1.229900</td>\n",
       "      <td>...</td>\n",
       "      <td>0.173229</td>\n",
       "      <td>0.49706</td>\n",
       "      <td>0.067730</td>\n",
       "      <td>19.962092</td>\n",
       "      <td>128.896894</td>\n",
       "      <td>6474.652866</td>\n",
       "      <td>26.166072</td>\n",
       "      <td>119.559420</td>\n",
       "      <td>21.978000</td>\n",
       "      <td>0</td>\n",
       "    </tr>\n",
       "    <tr>\n",
       "      <th>615</th>\n",
       "      <td>fe1942975e40</td>\n",
       "      <td>0.363205</td>\n",
       "      <td>1263.53524</td>\n",
       "      <td>85.200147</td>\n",
       "      <td>23.685856</td>\n",
       "      <td>8.138688</td>\n",
       "      <td>7.981959</td>\n",
       "      <td>0.025578</td>\n",
       "      <td>7.524588</td>\n",
       "      <td>1.229900</td>\n",
       "      <td>...</td>\n",
       "      <td>9.256996</td>\n",
       "      <td>0.78764</td>\n",
       "      <td>0.670527</td>\n",
       "      <td>24.594488</td>\n",
       "      <td>72.611063</td>\n",
       "      <td>1965.343176</td>\n",
       "      <td>25.116750</td>\n",
       "      <td>37.155112</td>\n",
       "      <td>0.184622</td>\n",
       "      <td>0</td>\n",
       "    </tr>\n",
       "    <tr>\n",
       "      <th>616</th>\n",
       "      <td>ffcca4ded3bb</td>\n",
       "      <td>0.482849</td>\n",
       "      <td>2672.53426</td>\n",
       "      <td>546.663930</td>\n",
       "      <td>112.006102</td>\n",
       "      <td>8.138688</td>\n",
       "      <td>3.198099</td>\n",
       "      <td>0.116928</td>\n",
       "      <td>3.396778</td>\n",
       "      <td>7.948668</td>\n",
       "      <td>...</td>\n",
       "      <td>0.173229</td>\n",
       "      <td>1.14492</td>\n",
       "      <td>0.149006</td>\n",
       "      <td>13.673940</td>\n",
       "      <td>72.611063</td>\n",
       "      <td>6850.484442</td>\n",
       "      <td>45.745974</td>\n",
       "      <td>114.842372</td>\n",
       "      <td>21.978000</td>\n",
       "      <td>0</td>\n",
       "    </tr>\n",
       "  </tbody>\n",
       "</table>\n",
       "<p>617 rows × 58 columns</p>\n",
       "</div>"
      ],
      "text/plain": [
       "               Id        AB          AF          AH          AM         AR  \\\n",
       "0    000ff2bfdfe9  0.209377  3109.03329   85.200147   22.394407   8.138688   \n",
       "1    007255e47698  0.145282   978.76416   85.200147   36.968889   8.138688   \n",
       "2    013f2bd269f5  0.470030  2635.10654   85.200147   32.360553   8.138688   \n",
       "3    043ac50845d5  0.252107  3819.65177  120.201618   77.112203   8.138688   \n",
       "4    044fb8a146ec  0.380297  3733.04844   85.200147   14.103738   8.138688   \n",
       "..            ...       ...         ...         ...         ...        ...   \n",
       "612  fd3dafe738fd  0.149555  3130.05946  123.763599    9.513984  13.020852   \n",
       "613  fd895603f071  0.435846  5462.03438   85.200147   46.551007  15.973224   \n",
       "614  fd8ef6377f76  0.427300  2459.10720  130.138587   55.355778  10.005552   \n",
       "615  fe1942975e40  0.363205  1263.53524   85.200147   23.685856   8.138688   \n",
       "616  ffcca4ded3bb  0.482849  2672.53426  546.663930  112.006102   8.138688   \n",
       "\n",
       "           AX        AY         AZ          BC  ...         FL        FR  \\\n",
       "0    0.699861  0.025578   9.812214    5.555634  ...   7.298162   1.73855   \n",
       "1    3.632190  0.025578  13.517790    1.229900  ...   0.173229   0.49706   \n",
       "2    6.732840  0.025578  12.824570    1.229900  ...   7.709560   0.97556   \n",
       "3    3.685344  0.025578  11.053708    1.229900  ...   6.122162   0.49706   \n",
       "4    3.942255  0.054810   3.396778  102.151980  ...   8.153058  48.50134   \n",
       "..        ...       ...        ...         ...  ...        ...       ...   \n",
       "612  3.499305  0.077343   8.545512    2.804172  ...   0.173229   1.26092   \n",
       "613  5.979825  0.025882  12.622906    3.777550  ...  10.223150   1.24236   \n",
       "614  8.070549  0.025578  15.408390    1.229900  ...   0.173229   0.49706   \n",
       "615  7.981959  0.025578   7.524588    1.229900  ...   9.256996   0.78764   \n",
       "616  3.198099  0.116928   3.396778    7.948668  ...   0.173229   1.14492   \n",
       "\n",
       "           FS         GB          GE            GF         GH          GI  \\\n",
       "0    0.094822  11.339138   72.611063   2003.810319  22.136229   69.834944   \n",
       "1    0.568932   9.292698   72.611063  27981.562750  29.135430   32.131996   \n",
       "2    1.198821  37.077772   88.609437  13676.957810  28.022851   35.192676   \n",
       "3    0.284466  18.529584   82.416803   2094.262452  39.948656   90.493248   \n",
       "4    0.121914  16.408728  146.109943   8524.370502  45.381316   36.262628   \n",
       "..        ...        ...         ...           ...        ...         ...   \n",
       "612  0.067730   8.967128  217.148554   8095.932828  24.640462   69.191944   \n",
       "613  0.426699  35.896418  496.994214   3085.308063  29.648928  124.808872   \n",
       "614  0.067730  19.962092  128.896894   6474.652866  26.166072  119.559420   \n",
       "615  0.670527  24.594488   72.611063   1965.343176  25.116750   37.155112   \n",
       "616  0.149006  13.673940   72.611063   6850.484442  45.745974  114.842372   \n",
       "\n",
       "            GL  Class  \n",
       "0     0.120343      1  \n",
       "1    21.978000      0  \n",
       "2     0.196941      0  \n",
       "3     0.155829      0  \n",
       "4     0.096614      1  \n",
       "..         ...    ...  \n",
       "612  21.978000      0  \n",
       "613   0.145340      0  \n",
       "614  21.978000      0  \n",
       "615   0.184622      0  \n",
       "616  21.978000      0  \n",
       "\n",
       "[617 rows x 58 columns]"
      ]
     },
     "execution_count": 3,
     "metadata": {},
     "output_type": "execute_result"
    }
   ],
   "source": [
    "train_df"
   ]
  },
  {
   "cell_type": "markdown",
   "id": "f438136d",
   "metadata": {
    "papermill": {
     "duration": 0.020046,
     "end_time": "2023-06-04T02:39:57.600141",
     "exception": false,
     "start_time": "2023-06-04T02:39:57.580095",
     "status": "completed"
    },
    "tags": []
   },
   "source": [
    "It appears to be a tabular dataset with 617 rows and 58 columns. Each row represents a sample, and the columns represent different features or attributes of the samples."
   ]
  },
  {
   "cell_type": "code",
   "execution_count": 4,
   "id": "735275c6",
   "metadata": {
    "execution": {
     "iopub.execute_input": "2023-06-04T02:39:57.643668Z",
     "iopub.status.busy": "2023-06-04T02:39:57.643241Z",
     "iopub.status.idle": "2023-06-04T02:39:57.823864Z",
     "shell.execute_reply": "2023-06-04T02:39:57.822669Z"
    },
    "papermill": {
     "duration": 0.205423,
     "end_time": "2023-06-04T02:39:57.826452",
     "exception": false,
     "start_time": "2023-06-04T02:39:57.621029",
     "status": "completed"
    },
    "tags": []
   },
   "outputs": [
    {
     "data": {
      "text/html": [
       "<div>\n",
       "<style scoped>\n",
       "    .dataframe tbody tr th:only-of-type {\n",
       "        vertical-align: middle;\n",
       "    }\n",
       "\n",
       "    .dataframe tbody tr th {\n",
       "        vertical-align: top;\n",
       "    }\n",
       "\n",
       "    .dataframe thead th {\n",
       "        text-align: right;\n",
       "    }\n",
       "</style>\n",
       "<table border=\"1\" class=\"dataframe\">\n",
       "  <thead>\n",
       "    <tr style=\"text-align: right;\">\n",
       "      <th></th>\n",
       "      <th>AB</th>\n",
       "      <th>AF</th>\n",
       "      <th>AH</th>\n",
       "      <th>AM</th>\n",
       "      <th>AR</th>\n",
       "      <th>AX</th>\n",
       "      <th>AY</th>\n",
       "      <th>AZ</th>\n",
       "      <th>BC</th>\n",
       "      <th>BD</th>\n",
       "      <th>...</th>\n",
       "      <th>FL</th>\n",
       "      <th>FR</th>\n",
       "      <th>FS</th>\n",
       "      <th>GB</th>\n",
       "      <th>GE</th>\n",
       "      <th>GF</th>\n",
       "      <th>GH</th>\n",
       "      <th>GI</th>\n",
       "      <th>GL</th>\n",
       "      <th>Class</th>\n",
       "    </tr>\n",
       "  </thead>\n",
       "  <tbody>\n",
       "    <tr>\n",
       "      <th>count</th>\n",
       "      <td>617.000000</td>\n",
       "      <td>617.000000</td>\n",
       "      <td>617.000000</td>\n",
       "      <td>617.000000</td>\n",
       "      <td>617.000000</td>\n",
       "      <td>617.000000</td>\n",
       "      <td>617.000000</td>\n",
       "      <td>617.000000</td>\n",
       "      <td>617.000000</td>\n",
       "      <td>617.000000</td>\n",
       "      <td>...</td>\n",
       "      <td>616.000000</td>\n",
       "      <td>617.000000</td>\n",
       "      <td>615.000000</td>\n",
       "      <td>617.000000</td>\n",
       "      <td>617.000000</td>\n",
       "      <td>617.000000</td>\n",
       "      <td>617.000000</td>\n",
       "      <td>617.000000</td>\n",
       "      <td>616.000000</td>\n",
       "      <td>617.000000</td>\n",
       "    </tr>\n",
       "    <tr>\n",
       "      <th>mean</th>\n",
       "      <td>0.477149</td>\n",
       "      <td>3502.013221</td>\n",
       "      <td>118.624513</td>\n",
       "      <td>38.968552</td>\n",
       "      <td>10.128242</td>\n",
       "      <td>5.545576</td>\n",
       "      <td>0.060320</td>\n",
       "      <td>10.566447</td>\n",
       "      <td>8.053012</td>\n",
       "      <td>5350.388655</td>\n",
       "      <td>...</td>\n",
       "      <td>5.433199</td>\n",
       "      <td>3.533905</td>\n",
       "      <td>0.421501</td>\n",
       "      <td>20.724856</td>\n",
       "      <td>131.714987</td>\n",
       "      <td>14679.595398</td>\n",
       "      <td>31.489716</td>\n",
       "      <td>50.584437</td>\n",
       "      <td>8.530961</td>\n",
       "      <td>0.175041</td>\n",
       "    </tr>\n",
       "    <tr>\n",
       "      <th>std</th>\n",
       "      <td>0.468388</td>\n",
       "      <td>2300.322717</td>\n",
       "      <td>127.838950</td>\n",
       "      <td>69.728226</td>\n",
       "      <td>10.518877</td>\n",
       "      <td>2.551696</td>\n",
       "      <td>0.416817</td>\n",
       "      <td>4.350645</td>\n",
       "      <td>65.166943</td>\n",
       "      <td>3021.326641</td>\n",
       "      <td>...</td>\n",
       "      <td>11.496257</td>\n",
       "      <td>50.181948</td>\n",
       "      <td>1.305365</td>\n",
       "      <td>9.991907</td>\n",
       "      <td>144.181524</td>\n",
       "      <td>19352.959387</td>\n",
       "      <td>9.864239</td>\n",
       "      <td>36.266251</td>\n",
       "      <td>10.327010</td>\n",
       "      <td>0.380310</td>\n",
       "    </tr>\n",
       "    <tr>\n",
       "      <th>min</th>\n",
       "      <td>0.081187</td>\n",
       "      <td>192.593280</td>\n",
       "      <td>85.200147</td>\n",
       "      <td>3.177522</td>\n",
       "      <td>8.138688</td>\n",
       "      <td>0.699861</td>\n",
       "      <td>0.025578</td>\n",
       "      <td>3.396778</td>\n",
       "      <td>1.229900</td>\n",
       "      <td>1693.624320</td>\n",
       "      <td>...</td>\n",
       "      <td>0.173229</td>\n",
       "      <td>0.497060</td>\n",
       "      <td>0.067730</td>\n",
       "      <td>4.102182</td>\n",
       "      <td>72.611063</td>\n",
       "      <td>13.038894</td>\n",
       "      <td>9.432735</td>\n",
       "      <td>0.897628</td>\n",
       "      <td>0.001129</td>\n",
       "      <td>0.000000</td>\n",
       "    </tr>\n",
       "    <tr>\n",
       "      <th>25%</th>\n",
       "      <td>0.252107</td>\n",
       "      <td>2197.345480</td>\n",
       "      <td>85.200147</td>\n",
       "      <td>12.270314</td>\n",
       "      <td>8.138688</td>\n",
       "      <td>4.128294</td>\n",
       "      <td>0.025578</td>\n",
       "      <td>8.129580</td>\n",
       "      <td>1.229900</td>\n",
       "      <td>4155.702870</td>\n",
       "      <td>...</td>\n",
       "      <td>0.173229</td>\n",
       "      <td>0.497060</td>\n",
       "      <td>0.067730</td>\n",
       "      <td>14.036718</td>\n",
       "      <td>72.611063</td>\n",
       "      <td>2798.992584</td>\n",
       "      <td>25.034888</td>\n",
       "      <td>23.011684</td>\n",
       "      <td>0.124392</td>\n",
       "      <td>0.000000</td>\n",
       "    </tr>\n",
       "    <tr>\n",
       "      <th>50%</th>\n",
       "      <td>0.354659</td>\n",
       "      <td>3120.318960</td>\n",
       "      <td>85.200147</td>\n",
       "      <td>20.533110</td>\n",
       "      <td>8.138688</td>\n",
       "      <td>5.031912</td>\n",
       "      <td>0.025578</td>\n",
       "      <td>10.461320</td>\n",
       "      <td>1.229900</td>\n",
       "      <td>4997.960730</td>\n",
       "      <td>...</td>\n",
       "      <td>3.028141</td>\n",
       "      <td>1.131000</td>\n",
       "      <td>0.250601</td>\n",
       "      <td>18.771436</td>\n",
       "      <td>72.611063</td>\n",
       "      <td>7838.273610</td>\n",
       "      <td>30.608946</td>\n",
       "      <td>41.007968</td>\n",
       "      <td>0.337827</td>\n",
       "      <td>0.000000</td>\n",
       "    </tr>\n",
       "    <tr>\n",
       "      <th>75%</th>\n",
       "      <td>0.559763</td>\n",
       "      <td>4361.637390</td>\n",
       "      <td>113.739540</td>\n",
       "      <td>39.139886</td>\n",
       "      <td>8.138688</td>\n",
       "      <td>6.431634</td>\n",
       "      <td>0.036845</td>\n",
       "      <td>12.969516</td>\n",
       "      <td>5.081244</td>\n",
       "      <td>6035.885700</td>\n",
       "      <td>...</td>\n",
       "      <td>6.238814</td>\n",
       "      <td>1.512060</td>\n",
       "      <td>0.535067</td>\n",
       "      <td>25.608406</td>\n",
       "      <td>127.591671</td>\n",
       "      <td>19035.709240</td>\n",
       "      <td>36.863947</td>\n",
       "      <td>67.931664</td>\n",
       "      <td>21.978000</td>\n",
       "      <td>0.000000</td>\n",
       "    </tr>\n",
       "    <tr>\n",
       "      <th>max</th>\n",
       "      <td>6.161666</td>\n",
       "      <td>28688.187660</td>\n",
       "      <td>1910.123198</td>\n",
       "      <td>630.518230</td>\n",
       "      <td>178.943634</td>\n",
       "      <td>38.270880</td>\n",
       "      <td>10.315851</td>\n",
       "      <td>38.971568</td>\n",
       "      <td>1463.693448</td>\n",
       "      <td>53060.599240</td>\n",
       "      <td>...</td>\n",
       "      <td>137.932739</td>\n",
       "      <td>1244.227020</td>\n",
       "      <td>31.365763</td>\n",
       "      <td>135.781294</td>\n",
       "      <td>1497.351958</td>\n",
       "      <td>143790.071200</td>\n",
       "      <td>81.210825</td>\n",
       "      <td>191.194764</td>\n",
       "      <td>21.978000</td>\n",
       "      <td>1.000000</td>\n",
       "    </tr>\n",
       "  </tbody>\n",
       "</table>\n",
       "<p>8 rows × 56 columns</p>\n",
       "</div>"
      ],
      "text/plain": [
       "               AB            AF           AH          AM          AR  \\\n",
       "count  617.000000    617.000000   617.000000  617.000000  617.000000   \n",
       "mean     0.477149   3502.013221   118.624513   38.968552   10.128242   \n",
       "std      0.468388   2300.322717   127.838950   69.728226   10.518877   \n",
       "min      0.081187    192.593280    85.200147    3.177522    8.138688   \n",
       "25%      0.252107   2197.345480    85.200147   12.270314    8.138688   \n",
       "50%      0.354659   3120.318960    85.200147   20.533110    8.138688   \n",
       "75%      0.559763   4361.637390   113.739540   39.139886    8.138688   \n",
       "max      6.161666  28688.187660  1910.123198  630.518230  178.943634   \n",
       "\n",
       "               AX          AY          AZ           BC           BD   ...  \\\n",
       "count  617.000000  617.000000  617.000000   617.000000    617.000000  ...   \n",
       "mean     5.545576    0.060320   10.566447     8.053012   5350.388655  ...   \n",
       "std      2.551696    0.416817    4.350645    65.166943   3021.326641  ...   \n",
       "min      0.699861    0.025578    3.396778     1.229900   1693.624320  ...   \n",
       "25%      4.128294    0.025578    8.129580     1.229900   4155.702870  ...   \n",
       "50%      5.031912    0.025578   10.461320     1.229900   4997.960730  ...   \n",
       "75%      6.431634    0.036845   12.969516     5.081244   6035.885700  ...   \n",
       "max     38.270880   10.315851   38.971568  1463.693448  53060.599240  ...   \n",
       "\n",
       "               FL           FR          FS          GB           GE  \\\n",
       "count  616.000000   617.000000  615.000000  617.000000   617.000000   \n",
       "mean     5.433199     3.533905    0.421501   20.724856   131.714987   \n",
       "std     11.496257    50.181948    1.305365    9.991907   144.181524   \n",
       "min      0.173229     0.497060    0.067730    4.102182    72.611063   \n",
       "25%      0.173229     0.497060    0.067730   14.036718    72.611063   \n",
       "50%      3.028141     1.131000    0.250601   18.771436    72.611063   \n",
       "75%      6.238814     1.512060    0.535067   25.608406   127.591671   \n",
       "max    137.932739  1244.227020   31.365763  135.781294  1497.351958   \n",
       "\n",
       "                  GF          GH          GI          GL       Class  \n",
       "count     617.000000  617.000000  617.000000  616.000000  617.000000  \n",
       "mean    14679.595398   31.489716   50.584437    8.530961    0.175041  \n",
       "std     19352.959387    9.864239   36.266251   10.327010    0.380310  \n",
       "min        13.038894    9.432735    0.897628    0.001129    0.000000  \n",
       "25%      2798.992584   25.034888   23.011684    0.124392    0.000000  \n",
       "50%      7838.273610   30.608946   41.007968    0.337827    0.000000  \n",
       "75%     19035.709240   36.863947   67.931664   21.978000    0.000000  \n",
       "max    143790.071200   81.210825  191.194764   21.978000    1.000000  \n",
       "\n",
       "[8 rows x 56 columns]"
      ]
     },
     "execution_count": 4,
     "metadata": {},
     "output_type": "execute_result"
    }
   ],
   "source": [
    "train_df.describe()"
   ]
  },
  {
   "cell_type": "code",
   "execution_count": 5,
   "id": "ce6127b9",
   "metadata": {
    "execution": {
     "iopub.execute_input": "2023-06-04T02:39:57.870718Z",
     "iopub.status.busy": "2023-06-04T02:39:57.869927Z",
     "iopub.status.idle": "2023-06-04T02:39:57.897506Z",
     "shell.execute_reply": "2023-06-04T02:39:57.896352Z"
    },
    "papermill": {
     "duration": 0.053026,
     "end_time": "2023-06-04T02:39:57.900391",
     "exception": false,
     "start_time": "2023-06-04T02:39:57.847365",
     "status": "completed"
    },
    "tags": []
   },
   "outputs": [
    {
     "name": "stdout",
     "output_type": "stream",
     "text": [
      "<class 'pandas.core.frame.DataFrame'>\n",
      "RangeIndex: 617 entries, 0 to 616\n",
      "Data columns (total 58 columns):\n",
      " #   Column  Non-Null Count  Dtype  \n",
      "---  ------  --------------  -----  \n",
      " 0   Id      617 non-null    object \n",
      " 1   AB      617 non-null    float64\n",
      " 2   AF      617 non-null    float64\n",
      " 3   AH      617 non-null    float64\n",
      " 4   AM      617 non-null    float64\n",
      " 5   AR      617 non-null    float64\n",
      " 6   AX      617 non-null    float64\n",
      " 7   AY      617 non-null    float64\n",
      " 8   AZ      617 non-null    float64\n",
      " 9   BC      617 non-null    float64\n",
      " 10  BD      617 non-null    float64\n",
      " 11  BN      617 non-null    float64\n",
      " 12  BP      617 non-null    float64\n",
      " 13  BQ      557 non-null    float64\n",
      " 14  BR      617 non-null    float64\n",
      " 15  BZ      617 non-null    float64\n",
      " 16  CB      615 non-null    float64\n",
      " 17  CC      614 non-null    float64\n",
      " 18  CD      617 non-null    float64\n",
      " 19  CF      617 non-null    float64\n",
      " 20  CH      617 non-null    float64\n",
      " 21  CL      617 non-null    float64\n",
      " 22  CR      617 non-null    float64\n",
      " 23  CS      617 non-null    float64\n",
      " 24  CU      617 non-null    float64\n",
      " 25  CW      617 non-null    float64\n",
      " 26  DA      617 non-null    float64\n",
      " 27  DE      617 non-null    float64\n",
      " 28  DF      617 non-null    float64\n",
      " 29  DH      617 non-null    float64\n",
      " 30  DI      617 non-null    float64\n",
      " 31  DL      617 non-null    float64\n",
      " 32  DN      617 non-null    float64\n",
      " 33  DU      616 non-null    float64\n",
      " 34  DV      617 non-null    float64\n",
      " 35  DY      617 non-null    float64\n",
      " 36  EB      617 non-null    float64\n",
      " 37  EE      617 non-null    float64\n",
      " 38  EG      617 non-null    float64\n",
      " 39  EH      617 non-null    float64\n",
      " 40  EJ      617 non-null    object \n",
      " 41  EL      557 non-null    float64\n",
      " 42  EP      617 non-null    float64\n",
      " 43  EU      617 non-null    float64\n",
      " 44  FC      616 non-null    float64\n",
      " 45  FD      617 non-null    float64\n",
      " 46  FE      617 non-null    float64\n",
      " 47  FI      617 non-null    float64\n",
      " 48  FL      616 non-null    float64\n",
      " 49  FR      617 non-null    float64\n",
      " 50  FS      615 non-null    float64\n",
      " 51  GB      617 non-null    float64\n",
      " 52  GE      617 non-null    float64\n",
      " 53  GF      617 non-null    float64\n",
      " 54  GH      617 non-null    float64\n",
      " 55  GI      617 non-null    float64\n",
      " 56  GL      616 non-null    float64\n",
      " 57  Class   617 non-null    int64  \n",
      "dtypes: float64(55), int64(1), object(2)\n",
      "memory usage: 279.7+ KB\n"
     ]
    }
   ],
   "source": [
    "train_df.info()"
   ]
  },
  {
   "cell_type": "markdown",
   "id": "e6828a92",
   "metadata": {
    "papermill": {
     "duration": 0.020904,
     "end_time": "2023-06-04T02:39:57.942202",
     "exception": false,
     "start_time": "2023-06-04T02:39:57.921298",
     "status": "completed"
    },
    "tags": []
   },
   "source": [
    "The provided DataFrame has 617 rows and 58 columns. Here is a summary of the columns and their data types:\n",
    "\n",
    "    Columns 0 to 57: They contain various numeric features represented as float64 data type.\n",
    "    Column 58: It contains the target variable, represented as an int64 data type.\n",
    "    Columns \"Id\" (column 0) and \"EJ\" (column 40): They are object data types, which might contain string or categorical values.\n",
    "\n",
    "The DataFrame contains some missing values in several columns, indicated by the non-null counts that are less than the total number of rows (617). The columns with missing values include \"BQ,\" \"CB,\" \"CC,\" \"DU,\" \"EL,\" \"FL,\" \"FS,\" and \"GL.\""
   ]
  },
  {
   "cell_type": "code",
   "execution_count": 6,
   "id": "6373e883",
   "metadata": {
    "execution": {
     "iopub.execute_input": "2023-06-04T02:39:57.986838Z",
     "iopub.status.busy": "2023-06-04T02:39:57.986419Z",
     "iopub.status.idle": "2023-06-04T02:39:57.994664Z",
     "shell.execute_reply": "2023-06-04T02:39:57.993236Z"
    },
    "papermill": {
     "duration": 0.033577,
     "end_time": "2023-06-04T02:39:57.997207",
     "exception": false,
     "start_time": "2023-06-04T02:39:57.963630",
     "status": "completed"
    },
    "tags": []
   },
   "outputs": [],
   "source": [
    "# It maps the value 'A' to 0 and the value 'B' to 1 using the replace() function. \n",
    "train_df['EJ'] = train_df['EJ'].replace({'A': 0, 'B': 1})"
   ]
  },
  {
   "cell_type": "markdown",
   "id": "01abb540",
   "metadata": {
    "papermill": {
     "duration": 0.021068,
     "end_time": "2023-06-04T02:39:58.039288",
     "exception": false,
     "start_time": "2023-06-04T02:39:58.018220",
     "status": "completed"
    },
    "tags": []
   },
   "source": [
    "The fillna() function is used to **replace missing values with a specified method or value**.\n",
    "\n",
    "In this case, **the method='ffill' argument specifies that missing values should be filled using the last known non-null value in each column**. This means that missing values will be **replaced with the most recent non-null value in the column**.\n",
    "\n",
    "After executing this code, the train_df DataFrame will have all missing values filled with the corresponding non-null values from the previous row."
   ]
  },
  {
   "cell_type": "code",
   "execution_count": 7,
   "id": "511af3c5",
   "metadata": {
    "execution": {
     "iopub.execute_input": "2023-06-04T02:39:58.084672Z",
     "iopub.status.busy": "2023-06-04T02:39:58.083948Z",
     "iopub.status.idle": "2023-06-04T02:39:58.092196Z",
     "shell.execute_reply": "2023-06-04T02:39:58.091228Z"
    },
    "papermill": {
     "duration": 0.033719,
     "end_time": "2023-06-04T02:39:58.094676",
     "exception": false,
     "start_time": "2023-06-04T02:39:58.060957",
     "status": "completed"
    },
    "tags": []
   },
   "outputs": [],
   "source": [
    "# Replace missing values with the most recent non-null value in the column.\n",
    "train_df = train_df.fillna(method = 'ffill')"
   ]
  },
  {
   "cell_type": "code",
   "execution_count": 8,
   "id": "9284a0f0",
   "metadata": {
    "execution": {
     "iopub.execute_input": "2023-06-04T02:39:58.141583Z",
     "iopub.status.busy": "2023-06-04T02:39:58.140899Z",
     "iopub.status.idle": "2023-06-04T02:39:58.157947Z",
     "shell.execute_reply": "2023-06-04T02:39:58.156731Z"
    },
    "papermill": {
     "duration": 0.044309,
     "end_time": "2023-06-04T02:39:58.161254",
     "exception": false,
     "start_time": "2023-06-04T02:39:58.116945",
     "status": "completed"
    },
    "tags": []
   },
   "outputs": [
    {
     "name": "stdout",
     "output_type": "stream",
     "text": [
      "<class 'pandas.core.frame.DataFrame'>\n",
      "RangeIndex: 617 entries, 0 to 616\n",
      "Data columns (total 58 columns):\n",
      " #   Column  Non-Null Count  Dtype  \n",
      "---  ------  --------------  -----  \n",
      " 0   Id      617 non-null    object \n",
      " 1   AB      617 non-null    float64\n",
      " 2   AF      617 non-null    float64\n",
      " 3   AH      617 non-null    float64\n",
      " 4   AM      617 non-null    float64\n",
      " 5   AR      617 non-null    float64\n",
      " 6   AX      617 non-null    float64\n",
      " 7   AY      617 non-null    float64\n",
      " 8   AZ      617 non-null    float64\n",
      " 9   BC      617 non-null    float64\n",
      " 10  BD      617 non-null    float64\n",
      " 11  BN      617 non-null    float64\n",
      " 12  BP      617 non-null    float64\n",
      " 13  BQ      617 non-null    float64\n",
      " 14  BR      617 non-null    float64\n",
      " 15  BZ      617 non-null    float64\n",
      " 16  CB      617 non-null    float64\n",
      " 17  CC      617 non-null    float64\n",
      " 18  CD      617 non-null    float64\n",
      " 19  CF      617 non-null    float64\n",
      " 20  CH      617 non-null    float64\n",
      " 21  CL      617 non-null    float64\n",
      " 22  CR      617 non-null    float64\n",
      " 23  CS      617 non-null    float64\n",
      " 24  CU      617 non-null    float64\n",
      " 25  CW      617 non-null    float64\n",
      " 26  DA      617 non-null    float64\n",
      " 27  DE      617 non-null    float64\n",
      " 28  DF      617 non-null    float64\n",
      " 29  DH      617 non-null    float64\n",
      " 30  DI      617 non-null    float64\n",
      " 31  DL      617 non-null    float64\n",
      " 32  DN      617 non-null    float64\n",
      " 33  DU      617 non-null    float64\n",
      " 34  DV      617 non-null    float64\n",
      " 35  DY      617 non-null    float64\n",
      " 36  EB      617 non-null    float64\n",
      " 37  EE      617 non-null    float64\n",
      " 38  EG      617 non-null    float64\n",
      " 39  EH      617 non-null    float64\n",
      " 40  EJ      617 non-null    int64  \n",
      " 41  EL      617 non-null    float64\n",
      " 42  EP      617 non-null    float64\n",
      " 43  EU      617 non-null    float64\n",
      " 44  FC      617 non-null    float64\n",
      " 45  FD      617 non-null    float64\n",
      " 46  FE      617 non-null    float64\n",
      " 47  FI      617 non-null    float64\n",
      " 48  FL      617 non-null    float64\n",
      " 49  FR      617 non-null    float64\n",
      " 50  FS      617 non-null    float64\n",
      " 51  GB      617 non-null    float64\n",
      " 52  GE      617 non-null    float64\n",
      " 53  GF      617 non-null    float64\n",
      " 54  GH      617 non-null    float64\n",
      " 55  GI      617 non-null    float64\n",
      " 56  GL      617 non-null    float64\n",
      " 57  Class   617 non-null    int64  \n",
      "dtypes: float64(55), int64(2), object(1)\n",
      "memory usage: 279.7+ KB\n"
     ]
    }
   ],
   "source": [
    "train_df.info()"
   ]
  },
  {
   "cell_type": "code",
   "execution_count": 9,
   "id": "f4b2ca5e",
   "metadata": {
    "execution": {
     "iopub.execute_input": "2023-06-04T02:39:58.207778Z",
     "iopub.status.busy": "2023-06-04T02:39:58.207103Z",
     "iopub.status.idle": "2023-06-04T02:39:58.216623Z",
     "shell.execute_reply": "2023-06-04T02:39:58.214938Z"
    },
    "papermill": {
     "duration": 0.036048,
     "end_time": "2023-06-04T02:39:58.219626",
     "exception": false,
     "start_time": "2023-06-04T02:39:58.183578",
     "status": "completed"
    },
    "tags": []
   },
   "outputs": [
    {
     "data": {
      "text/plain": [
       "0    509\n",
       "1    108\n",
       "Name: Class, dtype: int64"
      ]
     },
     "execution_count": 9,
     "metadata": {},
     "output_type": "execute_result"
    }
   ],
   "source": [
    "train_df['Class'].value_counts()"
   ]
  },
  {
   "cell_type": "markdown",
   "id": "054860d2",
   "metadata": {
    "papermill": {
     "duration": 0.026123,
     "end_time": "2023-06-04T02:39:58.269852",
     "exception": false,
     "start_time": "2023-06-04T02:39:58.243729",
     "status": "completed"
    },
    "tags": []
   },
   "source": [
    "The output shows that there are 509 instances with the value 0 and 108 instances with the value 1 in the 'Class' column."
   ]
  },
  {
   "cell_type": "code",
   "execution_count": 10,
   "id": "82ceba6b",
   "metadata": {
    "execution": {
     "iopub.execute_input": "2023-06-04T02:39:58.316459Z",
     "iopub.status.busy": "2023-06-04T02:39:58.316078Z",
     "iopub.status.idle": "2023-06-04T02:39:58.353672Z",
     "shell.execute_reply": "2023-06-04T02:39:58.352464Z"
    },
    "papermill": {
     "duration": 0.063325,
     "end_time": "2023-06-04T02:39:58.356124",
     "exception": false,
     "start_time": "2023-06-04T02:39:58.292799",
     "status": "completed"
    },
    "tags": []
   },
   "outputs": [
    {
     "data": {
      "text/html": [
       "<div>\n",
       "<style scoped>\n",
       "    .dataframe tbody tr th:only-of-type {\n",
       "        vertical-align: middle;\n",
       "    }\n",
       "\n",
       "    .dataframe tbody tr th {\n",
       "        vertical-align: top;\n",
       "    }\n",
       "\n",
       "    .dataframe thead th {\n",
       "        text-align: right;\n",
       "    }\n",
       "</style>\n",
       "<table border=\"1\" class=\"dataframe\">\n",
       "  <thead>\n",
       "    <tr style=\"text-align: right;\">\n",
       "      <th></th>\n",
       "      <th>Id</th>\n",
       "      <th>AB</th>\n",
       "      <th>AF</th>\n",
       "      <th>AH</th>\n",
       "      <th>AM</th>\n",
       "      <th>AR</th>\n",
       "      <th>AX</th>\n",
       "      <th>AY</th>\n",
       "      <th>AZ</th>\n",
       "      <th>BC</th>\n",
       "      <th>...</th>\n",
       "      <th>FI</th>\n",
       "      <th>FL</th>\n",
       "      <th>FR</th>\n",
       "      <th>FS</th>\n",
       "      <th>GB</th>\n",
       "      <th>GE</th>\n",
       "      <th>GF</th>\n",
       "      <th>GH</th>\n",
       "      <th>GI</th>\n",
       "      <th>GL</th>\n",
       "    </tr>\n",
       "  </thead>\n",
       "  <tbody>\n",
       "    <tr>\n",
       "      <th>0</th>\n",
       "      <td>00eed32682bb</td>\n",
       "      <td>0.0</td>\n",
       "      <td>0.0</td>\n",
       "      <td>0.0</td>\n",
       "      <td>0.0</td>\n",
       "      <td>0.0</td>\n",
       "      <td>0.0</td>\n",
       "      <td>0.0</td>\n",
       "      <td>0.0</td>\n",
       "      <td>0.0</td>\n",
       "      <td>...</td>\n",
       "      <td>0.0</td>\n",
       "      <td>0.0</td>\n",
       "      <td>0.0</td>\n",
       "      <td>0.0</td>\n",
       "      <td>0.0</td>\n",
       "      <td>0.0</td>\n",
       "      <td>0.0</td>\n",
       "      <td>0.0</td>\n",
       "      <td>0.0</td>\n",
       "      <td>0.0</td>\n",
       "    </tr>\n",
       "    <tr>\n",
       "      <th>1</th>\n",
       "      <td>010ebe33f668</td>\n",
       "      <td>0.0</td>\n",
       "      <td>0.0</td>\n",
       "      <td>0.0</td>\n",
       "      <td>0.0</td>\n",
       "      <td>0.0</td>\n",
       "      <td>0.0</td>\n",
       "      <td>0.0</td>\n",
       "      <td>0.0</td>\n",
       "      <td>0.0</td>\n",
       "      <td>...</td>\n",
       "      <td>0.0</td>\n",
       "      <td>0.0</td>\n",
       "      <td>0.0</td>\n",
       "      <td>0.0</td>\n",
       "      <td>0.0</td>\n",
       "      <td>0.0</td>\n",
       "      <td>0.0</td>\n",
       "      <td>0.0</td>\n",
       "      <td>0.0</td>\n",
       "      <td>0.0</td>\n",
       "    </tr>\n",
       "    <tr>\n",
       "      <th>2</th>\n",
       "      <td>02fa521e1838</td>\n",
       "      <td>0.0</td>\n",
       "      <td>0.0</td>\n",
       "      <td>0.0</td>\n",
       "      <td>0.0</td>\n",
       "      <td>0.0</td>\n",
       "      <td>0.0</td>\n",
       "      <td>0.0</td>\n",
       "      <td>0.0</td>\n",
       "      <td>0.0</td>\n",
       "      <td>...</td>\n",
       "      <td>0.0</td>\n",
       "      <td>0.0</td>\n",
       "      <td>0.0</td>\n",
       "      <td>0.0</td>\n",
       "      <td>0.0</td>\n",
       "      <td>0.0</td>\n",
       "      <td>0.0</td>\n",
       "      <td>0.0</td>\n",
       "      <td>0.0</td>\n",
       "      <td>0.0</td>\n",
       "    </tr>\n",
       "    <tr>\n",
       "      <th>3</th>\n",
       "      <td>040e15f562a2</td>\n",
       "      <td>0.0</td>\n",
       "      <td>0.0</td>\n",
       "      <td>0.0</td>\n",
       "      <td>0.0</td>\n",
       "      <td>0.0</td>\n",
       "      <td>0.0</td>\n",
       "      <td>0.0</td>\n",
       "      <td>0.0</td>\n",
       "      <td>0.0</td>\n",
       "      <td>...</td>\n",
       "      <td>0.0</td>\n",
       "      <td>0.0</td>\n",
       "      <td>0.0</td>\n",
       "      <td>0.0</td>\n",
       "      <td>0.0</td>\n",
       "      <td>0.0</td>\n",
       "      <td>0.0</td>\n",
       "      <td>0.0</td>\n",
       "      <td>0.0</td>\n",
       "      <td>0.0</td>\n",
       "    </tr>\n",
       "    <tr>\n",
       "      <th>4</th>\n",
       "      <td>046e85c7cc7f</td>\n",
       "      <td>0.0</td>\n",
       "      <td>0.0</td>\n",
       "      <td>0.0</td>\n",
       "      <td>0.0</td>\n",
       "      <td>0.0</td>\n",
       "      <td>0.0</td>\n",
       "      <td>0.0</td>\n",
       "      <td>0.0</td>\n",
       "      <td>0.0</td>\n",
       "      <td>...</td>\n",
       "      <td>0.0</td>\n",
       "      <td>0.0</td>\n",
       "      <td>0.0</td>\n",
       "      <td>0.0</td>\n",
       "      <td>0.0</td>\n",
       "      <td>0.0</td>\n",
       "      <td>0.0</td>\n",
       "      <td>0.0</td>\n",
       "      <td>0.0</td>\n",
       "      <td>0.0</td>\n",
       "    </tr>\n",
       "  </tbody>\n",
       "</table>\n",
       "<p>5 rows × 57 columns</p>\n",
       "</div>"
      ],
      "text/plain": [
       "             Id   AB   AF   AH   AM   AR   AX   AY   AZ   BC  ...   FI   FL  \\\n",
       "0  00eed32682bb  0.0  0.0  0.0  0.0  0.0  0.0  0.0  0.0  0.0  ...  0.0  0.0   \n",
       "1  010ebe33f668  0.0  0.0  0.0  0.0  0.0  0.0  0.0  0.0  0.0  ...  0.0  0.0   \n",
       "2  02fa521e1838  0.0  0.0  0.0  0.0  0.0  0.0  0.0  0.0  0.0  ...  0.0  0.0   \n",
       "3  040e15f562a2  0.0  0.0  0.0  0.0  0.0  0.0  0.0  0.0  0.0  ...  0.0  0.0   \n",
       "4  046e85c7cc7f  0.0  0.0  0.0  0.0  0.0  0.0  0.0  0.0  0.0  ...  0.0  0.0   \n",
       "\n",
       "    FR   FS   GB   GE   GF   GH   GI   GL  \n",
       "0  0.0  0.0  0.0  0.0  0.0  0.0  0.0  0.0  \n",
       "1  0.0  0.0  0.0  0.0  0.0  0.0  0.0  0.0  \n",
       "2  0.0  0.0  0.0  0.0  0.0  0.0  0.0  0.0  \n",
       "3  0.0  0.0  0.0  0.0  0.0  0.0  0.0  0.0  \n",
       "4  0.0  0.0  0.0  0.0  0.0  0.0  0.0  0.0  \n",
       "\n",
       "[5 rows x 57 columns]"
      ]
     },
     "execution_count": 10,
     "metadata": {},
     "output_type": "execute_result"
    }
   ],
   "source": [
    "test_df"
   ]
  },
  {
   "cell_type": "markdown",
   "id": "f31b593d",
   "metadata": {
    "papermill": {
     "duration": 0.021652,
     "end_time": "2023-06-04T02:39:58.399558",
     "exception": false,
     "start_time": "2023-06-04T02:39:58.377906",
     "status": "completed"
    },
    "tags": []
   },
   "source": [
    "The DataFrame 'test_df' contains 5 rows and 57 columns. Each row represents a sample, and each column represents a feature.\n",
    "\n",
    "Here is a summary of the columns in 'test_df':\n",
    "\n",
    "    Id: The unique identifier for each sample.\n",
    "    AB, AF, AH, AM, AR, AX, AY, AZ, BC, ...: Numerical features.\n",
    "    FI, FL, FR, FS, GB, GE, GF, GH, GI, GL: Numerical features.\n",
    "    There is no 'Class' column in the 'test_df' DataFrame."
   ]
  },
  {
   "cell_type": "code",
   "execution_count": 11,
   "id": "d944aec5",
   "metadata": {
    "execution": {
     "iopub.execute_input": "2023-06-04T02:39:58.446050Z",
     "iopub.status.busy": "2023-06-04T02:39:58.445299Z",
     "iopub.status.idle": "2023-06-04T02:39:58.619881Z",
     "shell.execute_reply": "2023-06-04T02:39:58.618602Z"
    },
    "papermill": {
     "duration": 0.200521,
     "end_time": "2023-06-04T02:39:58.622578",
     "exception": false,
     "start_time": "2023-06-04T02:39:58.422057",
     "status": "completed"
    },
    "tags": []
   },
   "outputs": [
    {
     "data": {
      "text/html": [
       "<div>\n",
       "<style scoped>\n",
       "    .dataframe tbody tr th:only-of-type {\n",
       "        vertical-align: middle;\n",
       "    }\n",
       "\n",
       "    .dataframe tbody tr th {\n",
       "        vertical-align: top;\n",
       "    }\n",
       "\n",
       "    .dataframe thead th {\n",
       "        text-align: right;\n",
       "    }\n",
       "</style>\n",
       "<table border=\"1\" class=\"dataframe\">\n",
       "  <thead>\n",
       "    <tr style=\"text-align: right;\">\n",
       "      <th></th>\n",
       "      <th>AB</th>\n",
       "      <th>AF</th>\n",
       "      <th>AH</th>\n",
       "      <th>AM</th>\n",
       "      <th>AR</th>\n",
       "      <th>AX</th>\n",
       "      <th>AY</th>\n",
       "      <th>AZ</th>\n",
       "      <th>BC</th>\n",
       "      <th>BD</th>\n",
       "      <th>...</th>\n",
       "      <th>FI</th>\n",
       "      <th>FL</th>\n",
       "      <th>FR</th>\n",
       "      <th>FS</th>\n",
       "      <th>GB</th>\n",
       "      <th>GE</th>\n",
       "      <th>GF</th>\n",
       "      <th>GH</th>\n",
       "      <th>GI</th>\n",
       "      <th>GL</th>\n",
       "    </tr>\n",
       "  </thead>\n",
       "  <tbody>\n",
       "    <tr>\n",
       "      <th>count</th>\n",
       "      <td>5.0</td>\n",
       "      <td>5.0</td>\n",
       "      <td>5.0</td>\n",
       "      <td>5.0</td>\n",
       "      <td>5.0</td>\n",
       "      <td>5.0</td>\n",
       "      <td>5.0</td>\n",
       "      <td>5.0</td>\n",
       "      <td>5.0</td>\n",
       "      <td>5.0</td>\n",
       "      <td>...</td>\n",
       "      <td>5.0</td>\n",
       "      <td>5.0</td>\n",
       "      <td>5.0</td>\n",
       "      <td>5.0</td>\n",
       "      <td>5.0</td>\n",
       "      <td>5.0</td>\n",
       "      <td>5.0</td>\n",
       "      <td>5.0</td>\n",
       "      <td>5.0</td>\n",
       "      <td>5.0</td>\n",
       "    </tr>\n",
       "    <tr>\n",
       "      <th>mean</th>\n",
       "      <td>0.0</td>\n",
       "      <td>0.0</td>\n",
       "      <td>0.0</td>\n",
       "      <td>0.0</td>\n",
       "      <td>0.0</td>\n",
       "      <td>0.0</td>\n",
       "      <td>0.0</td>\n",
       "      <td>0.0</td>\n",
       "      <td>0.0</td>\n",
       "      <td>0.0</td>\n",
       "      <td>...</td>\n",
       "      <td>0.0</td>\n",
       "      <td>0.0</td>\n",
       "      <td>0.0</td>\n",
       "      <td>0.0</td>\n",
       "      <td>0.0</td>\n",
       "      <td>0.0</td>\n",
       "      <td>0.0</td>\n",
       "      <td>0.0</td>\n",
       "      <td>0.0</td>\n",
       "      <td>0.0</td>\n",
       "    </tr>\n",
       "    <tr>\n",
       "      <th>std</th>\n",
       "      <td>0.0</td>\n",
       "      <td>0.0</td>\n",
       "      <td>0.0</td>\n",
       "      <td>0.0</td>\n",
       "      <td>0.0</td>\n",
       "      <td>0.0</td>\n",
       "      <td>0.0</td>\n",
       "      <td>0.0</td>\n",
       "      <td>0.0</td>\n",
       "      <td>0.0</td>\n",
       "      <td>...</td>\n",
       "      <td>0.0</td>\n",
       "      <td>0.0</td>\n",
       "      <td>0.0</td>\n",
       "      <td>0.0</td>\n",
       "      <td>0.0</td>\n",
       "      <td>0.0</td>\n",
       "      <td>0.0</td>\n",
       "      <td>0.0</td>\n",
       "      <td>0.0</td>\n",
       "      <td>0.0</td>\n",
       "    </tr>\n",
       "    <tr>\n",
       "      <th>min</th>\n",
       "      <td>0.0</td>\n",
       "      <td>0.0</td>\n",
       "      <td>0.0</td>\n",
       "      <td>0.0</td>\n",
       "      <td>0.0</td>\n",
       "      <td>0.0</td>\n",
       "      <td>0.0</td>\n",
       "      <td>0.0</td>\n",
       "      <td>0.0</td>\n",
       "      <td>0.0</td>\n",
       "      <td>...</td>\n",
       "      <td>0.0</td>\n",
       "      <td>0.0</td>\n",
       "      <td>0.0</td>\n",
       "      <td>0.0</td>\n",
       "      <td>0.0</td>\n",
       "      <td>0.0</td>\n",
       "      <td>0.0</td>\n",
       "      <td>0.0</td>\n",
       "      <td>0.0</td>\n",
       "      <td>0.0</td>\n",
       "    </tr>\n",
       "    <tr>\n",
       "      <th>25%</th>\n",
       "      <td>0.0</td>\n",
       "      <td>0.0</td>\n",
       "      <td>0.0</td>\n",
       "      <td>0.0</td>\n",
       "      <td>0.0</td>\n",
       "      <td>0.0</td>\n",
       "      <td>0.0</td>\n",
       "      <td>0.0</td>\n",
       "      <td>0.0</td>\n",
       "      <td>0.0</td>\n",
       "      <td>...</td>\n",
       "      <td>0.0</td>\n",
       "      <td>0.0</td>\n",
       "      <td>0.0</td>\n",
       "      <td>0.0</td>\n",
       "      <td>0.0</td>\n",
       "      <td>0.0</td>\n",
       "      <td>0.0</td>\n",
       "      <td>0.0</td>\n",
       "      <td>0.0</td>\n",
       "      <td>0.0</td>\n",
       "    </tr>\n",
       "    <tr>\n",
       "      <th>50%</th>\n",
       "      <td>0.0</td>\n",
       "      <td>0.0</td>\n",
       "      <td>0.0</td>\n",
       "      <td>0.0</td>\n",
       "      <td>0.0</td>\n",
       "      <td>0.0</td>\n",
       "      <td>0.0</td>\n",
       "      <td>0.0</td>\n",
       "      <td>0.0</td>\n",
       "      <td>0.0</td>\n",
       "      <td>...</td>\n",
       "      <td>0.0</td>\n",
       "      <td>0.0</td>\n",
       "      <td>0.0</td>\n",
       "      <td>0.0</td>\n",
       "      <td>0.0</td>\n",
       "      <td>0.0</td>\n",
       "      <td>0.0</td>\n",
       "      <td>0.0</td>\n",
       "      <td>0.0</td>\n",
       "      <td>0.0</td>\n",
       "    </tr>\n",
       "    <tr>\n",
       "      <th>75%</th>\n",
       "      <td>0.0</td>\n",
       "      <td>0.0</td>\n",
       "      <td>0.0</td>\n",
       "      <td>0.0</td>\n",
       "      <td>0.0</td>\n",
       "      <td>0.0</td>\n",
       "      <td>0.0</td>\n",
       "      <td>0.0</td>\n",
       "      <td>0.0</td>\n",
       "      <td>0.0</td>\n",
       "      <td>...</td>\n",
       "      <td>0.0</td>\n",
       "      <td>0.0</td>\n",
       "      <td>0.0</td>\n",
       "      <td>0.0</td>\n",
       "      <td>0.0</td>\n",
       "      <td>0.0</td>\n",
       "      <td>0.0</td>\n",
       "      <td>0.0</td>\n",
       "      <td>0.0</td>\n",
       "      <td>0.0</td>\n",
       "    </tr>\n",
       "    <tr>\n",
       "      <th>max</th>\n",
       "      <td>0.0</td>\n",
       "      <td>0.0</td>\n",
       "      <td>0.0</td>\n",
       "      <td>0.0</td>\n",
       "      <td>0.0</td>\n",
       "      <td>0.0</td>\n",
       "      <td>0.0</td>\n",
       "      <td>0.0</td>\n",
       "      <td>0.0</td>\n",
       "      <td>0.0</td>\n",
       "      <td>...</td>\n",
       "      <td>0.0</td>\n",
       "      <td>0.0</td>\n",
       "      <td>0.0</td>\n",
       "      <td>0.0</td>\n",
       "      <td>0.0</td>\n",
       "      <td>0.0</td>\n",
       "      <td>0.0</td>\n",
       "      <td>0.0</td>\n",
       "      <td>0.0</td>\n",
       "      <td>0.0</td>\n",
       "    </tr>\n",
       "  </tbody>\n",
       "</table>\n",
       "<p>8 rows × 55 columns</p>\n",
       "</div>"
      ],
      "text/plain": [
       "        AB   AF   AH   AM   AR   AX   AY   AZ   BC  BD   ...   FI   FL   FR  \\\n",
       "count  5.0  5.0  5.0  5.0  5.0  5.0  5.0  5.0  5.0  5.0  ...  5.0  5.0  5.0   \n",
       "mean   0.0  0.0  0.0  0.0  0.0  0.0  0.0  0.0  0.0  0.0  ...  0.0  0.0  0.0   \n",
       "std    0.0  0.0  0.0  0.0  0.0  0.0  0.0  0.0  0.0  0.0  ...  0.0  0.0  0.0   \n",
       "min    0.0  0.0  0.0  0.0  0.0  0.0  0.0  0.0  0.0  0.0  ...  0.0  0.0  0.0   \n",
       "25%    0.0  0.0  0.0  0.0  0.0  0.0  0.0  0.0  0.0  0.0  ...  0.0  0.0  0.0   \n",
       "50%    0.0  0.0  0.0  0.0  0.0  0.0  0.0  0.0  0.0  0.0  ...  0.0  0.0  0.0   \n",
       "75%    0.0  0.0  0.0  0.0  0.0  0.0  0.0  0.0  0.0  0.0  ...  0.0  0.0  0.0   \n",
       "max    0.0  0.0  0.0  0.0  0.0  0.0  0.0  0.0  0.0  0.0  ...  0.0  0.0  0.0   \n",
       "\n",
       "        FS   GB   GE   GF   GH   GI   GL  \n",
       "count  5.0  5.0  5.0  5.0  5.0  5.0  5.0  \n",
       "mean   0.0  0.0  0.0  0.0  0.0  0.0  0.0  \n",
       "std    0.0  0.0  0.0  0.0  0.0  0.0  0.0  \n",
       "min    0.0  0.0  0.0  0.0  0.0  0.0  0.0  \n",
       "25%    0.0  0.0  0.0  0.0  0.0  0.0  0.0  \n",
       "50%    0.0  0.0  0.0  0.0  0.0  0.0  0.0  \n",
       "75%    0.0  0.0  0.0  0.0  0.0  0.0  0.0  \n",
       "max    0.0  0.0  0.0  0.0  0.0  0.0  0.0  \n",
       "\n",
       "[8 rows x 55 columns]"
      ]
     },
     "execution_count": 11,
     "metadata": {},
     "output_type": "execute_result"
    }
   ],
   "source": [
    "test_df.describe()"
   ]
  },
  {
   "cell_type": "code",
   "execution_count": 12,
   "id": "62e60418",
   "metadata": {
    "execution": {
     "iopub.execute_input": "2023-06-04T02:39:58.669652Z",
     "iopub.status.busy": "2023-06-04T02:39:58.669225Z",
     "iopub.status.idle": "2023-06-04T02:39:58.686016Z",
     "shell.execute_reply": "2023-06-04T02:39:58.684703Z"
    },
    "papermill": {
     "duration": 0.043384,
     "end_time": "2023-06-04T02:39:58.688770",
     "exception": false,
     "start_time": "2023-06-04T02:39:58.645386",
     "status": "completed"
    },
    "tags": []
   },
   "outputs": [
    {
     "name": "stdout",
     "output_type": "stream",
     "text": [
      "<class 'pandas.core.frame.DataFrame'>\n",
      "RangeIndex: 5 entries, 0 to 4\n",
      "Data columns (total 57 columns):\n",
      " #   Column  Non-Null Count  Dtype  \n",
      "---  ------  --------------  -----  \n",
      " 0   Id      5 non-null      object \n",
      " 1   AB      5 non-null      float64\n",
      " 2   AF      5 non-null      float64\n",
      " 3   AH      5 non-null      float64\n",
      " 4   AM      5 non-null      float64\n",
      " 5   AR      5 non-null      float64\n",
      " 6   AX      5 non-null      float64\n",
      " 7   AY      5 non-null      float64\n",
      " 8   AZ      5 non-null      float64\n",
      " 9   BC      5 non-null      float64\n",
      " 10  BD      5 non-null      float64\n",
      " 11  BN      5 non-null      float64\n",
      " 12  BP      5 non-null      float64\n",
      " 13  BQ      5 non-null      float64\n",
      " 14  BR      5 non-null      float64\n",
      " 15  BZ      5 non-null      float64\n",
      " 16  CB      5 non-null      float64\n",
      " 17  CC      5 non-null      float64\n",
      " 18  CD      5 non-null      float64\n",
      " 19  CF      5 non-null      float64\n",
      " 20  CH      5 non-null      float64\n",
      " 21  CL      5 non-null      float64\n",
      " 22  CR      5 non-null      float64\n",
      " 23  CS      5 non-null      float64\n",
      " 24  CU      5 non-null      float64\n",
      " 25  CW      5 non-null      float64\n",
      " 26  DA      5 non-null      float64\n",
      " 27  DE      5 non-null      float64\n",
      " 28  DF      5 non-null      float64\n",
      " 29  DH      5 non-null      float64\n",
      " 30  DI      5 non-null      float64\n",
      " 31  DL      5 non-null      float64\n",
      " 32  DN      5 non-null      float64\n",
      " 33  DU      5 non-null      float64\n",
      " 34  DV      5 non-null      float64\n",
      " 35  DY      5 non-null      float64\n",
      " 36  EB      5 non-null      float64\n",
      " 37  EE      5 non-null      float64\n",
      " 38  EG      5 non-null      float64\n",
      " 39  EH      5 non-null      float64\n",
      " 40  EJ      5 non-null      object \n",
      " 41  EL      5 non-null      float64\n",
      " 42  EP      5 non-null      float64\n",
      " 43  EU      5 non-null      float64\n",
      " 44  FC      5 non-null      float64\n",
      " 45  FD      5 non-null      float64\n",
      " 46  FE      5 non-null      float64\n",
      " 47  FI      5 non-null      float64\n",
      " 48  FL      5 non-null      float64\n",
      " 49  FR      5 non-null      float64\n",
      " 50  FS      5 non-null      float64\n",
      " 51  GB      5 non-null      float64\n",
      " 52  GE      5 non-null      float64\n",
      " 53  GF      5 non-null      float64\n",
      " 54  GH      5 non-null      float64\n",
      " 55  GI      5 non-null      float64\n",
      " 56  GL      5 non-null      float64\n",
      "dtypes: float64(55), object(2)\n",
      "memory usage: 2.4+ KB\n"
     ]
    }
   ],
   "source": [
    "test_df.info()"
   ]
  },
  {
   "cell_type": "markdown",
   "id": "20cc1db4",
   "metadata": {
    "papermill": {
     "duration": 0.022031,
     "end_time": "2023-06-04T02:39:58.733300",
     "exception": false,
     "start_time": "2023-06-04T02:39:58.711269",
     "status": "completed"
    },
    "tags": []
   },
   "source": [
    "The DataFrame 'test_df' has 5 entries (rows) and 57 columns. The data types of the columns are as follows:\n",
    "\n",
    "    'Id': object\n",
    "    'AB', 'AF', 'AH', 'AM', 'AR', 'AX', 'AY', 'AZ', 'BC', ...: float64\n",
    "    'FI', 'FL', 'FR', 'FS', 'GB', 'GE', 'GF', 'GH', 'GI', 'GL': float64\n",
    "\n",
    "All columns have non-null values, and the memory usage of the DataFrame is approximately 2.4 KB."
   ]
  },
  {
   "cell_type": "code",
   "execution_count": 13,
   "id": "b026f4f4",
   "metadata": {
    "execution": {
     "iopub.execute_input": "2023-06-04T02:39:58.780549Z",
     "iopub.status.busy": "2023-06-04T02:39:58.780129Z",
     "iopub.status.idle": "2023-06-04T02:39:58.786597Z",
     "shell.execute_reply": "2023-06-04T02:39:58.785502Z"
    },
    "papermill": {
     "duration": 0.032607,
     "end_time": "2023-06-04T02:39:58.788970",
     "exception": false,
     "start_time": "2023-06-04T02:39:58.756363",
     "status": "completed"
    },
    "tags": []
   },
   "outputs": [],
   "source": [
    "# It maps the value 'A' to 0 and the value 'B' to 1 using the replace() function.\n",
    "test_df['EJ'] = test_df['EJ'].replace({'A': 0, 'B': 1})"
   ]
  },
  {
   "cell_type": "markdown",
   "id": "b944eac1",
   "metadata": {
    "papermill": {
     "duration": 0.022551,
     "end_time": "2023-06-04T02:39:58.834893",
     "exception": false,
     "start_time": "2023-06-04T02:39:58.812342",
     "status": "completed"
    },
    "tags": []
   },
   "source": [
    "Although non-null values are not observed in these test data, **there may be non-null values in the hidden test data**. Thus, we must replace these values with something in advance."
   ]
  },
  {
   "cell_type": "code",
   "execution_count": 14,
   "id": "81b0307b",
   "metadata": {
    "execution": {
     "iopub.execute_input": "2023-06-04T02:39:58.881301Z",
     "iopub.status.busy": "2023-06-04T02:39:58.880887Z",
     "iopub.status.idle": "2023-06-04T02:39:58.887183Z",
     "shell.execute_reply": "2023-06-04T02:39:58.885822Z"
    },
    "papermill": {
     "duration": 0.032248,
     "end_time": "2023-06-04T02:39:58.889545",
     "exception": false,
     "start_time": "2023-06-04T02:39:58.857297",
     "status": "completed"
    },
    "tags": []
   },
   "outputs": [],
   "source": [
    "# Replace missing values with the most recent non-null value in the column.\n",
    "test_df = test_df.fillna(method = 'ffill')"
   ]
  },
  {
   "cell_type": "code",
   "execution_count": 15,
   "id": "50f5baf0",
   "metadata": {
    "execution": {
     "iopub.execute_input": "2023-06-04T02:39:58.936877Z",
     "iopub.status.busy": "2023-06-04T02:39:58.936360Z",
     "iopub.status.idle": "2023-06-04T02:39:58.952644Z",
     "shell.execute_reply": "2023-06-04T02:39:58.951534Z"
    },
    "papermill": {
     "duration": 0.042709,
     "end_time": "2023-06-04T02:39:58.955180",
     "exception": false,
     "start_time": "2023-06-04T02:39:58.912471",
     "status": "completed"
    },
    "tags": []
   },
   "outputs": [
    {
     "data": {
      "text/html": [
       "<div>\n",
       "<style scoped>\n",
       "    .dataframe tbody tr th:only-of-type {\n",
       "        vertical-align: middle;\n",
       "    }\n",
       "\n",
       "    .dataframe tbody tr th {\n",
       "        vertical-align: top;\n",
       "    }\n",
       "\n",
       "    .dataframe thead th {\n",
       "        text-align: right;\n",
       "    }\n",
       "</style>\n",
       "<table border=\"1\" class=\"dataframe\">\n",
       "  <thead>\n",
       "    <tr style=\"text-align: right;\">\n",
       "      <th></th>\n",
       "      <th>Id</th>\n",
       "      <th>Alpha</th>\n",
       "      <th>Beta</th>\n",
       "      <th>Gamma</th>\n",
       "      <th>Delta</th>\n",
       "      <th>Epsilon</th>\n",
       "    </tr>\n",
       "  </thead>\n",
       "  <tbody>\n",
       "    <tr>\n",
       "      <th>0</th>\n",
       "      <td>000ff2bfdfe9</td>\n",
       "      <td>B</td>\n",
       "      <td>C</td>\n",
       "      <td>G</td>\n",
       "      <td>D</td>\n",
       "      <td>3/19/2019</td>\n",
       "    </tr>\n",
       "    <tr>\n",
       "      <th>1</th>\n",
       "      <td>007255e47698</td>\n",
       "      <td>A</td>\n",
       "      <td>C</td>\n",
       "      <td>M</td>\n",
       "      <td>B</td>\n",
       "      <td>Unknown</td>\n",
       "    </tr>\n",
       "    <tr>\n",
       "      <th>2</th>\n",
       "      <td>013f2bd269f5</td>\n",
       "      <td>A</td>\n",
       "      <td>C</td>\n",
       "      <td>M</td>\n",
       "      <td>B</td>\n",
       "      <td>Unknown</td>\n",
       "    </tr>\n",
       "    <tr>\n",
       "      <th>3</th>\n",
       "      <td>043ac50845d5</td>\n",
       "      <td>A</td>\n",
       "      <td>C</td>\n",
       "      <td>M</td>\n",
       "      <td>B</td>\n",
       "      <td>Unknown</td>\n",
       "    </tr>\n",
       "    <tr>\n",
       "      <th>4</th>\n",
       "      <td>044fb8a146ec</td>\n",
       "      <td>D</td>\n",
       "      <td>B</td>\n",
       "      <td>F</td>\n",
       "      <td>B</td>\n",
       "      <td>3/25/2020</td>\n",
       "    </tr>\n",
       "    <tr>\n",
       "      <th>...</th>\n",
       "      <td>...</td>\n",
       "      <td>...</td>\n",
       "      <td>...</td>\n",
       "      <td>...</td>\n",
       "      <td>...</td>\n",
       "      <td>...</td>\n",
       "    </tr>\n",
       "    <tr>\n",
       "      <th>612</th>\n",
       "      <td>fd3dafe738fd</td>\n",
       "      <td>A</td>\n",
       "      <td>B</td>\n",
       "      <td>M</td>\n",
       "      <td>B</td>\n",
       "      <td>9/13/2020</td>\n",
       "    </tr>\n",
       "    <tr>\n",
       "      <th>613</th>\n",
       "      <td>fd895603f071</td>\n",
       "      <td>A</td>\n",
       "      <td>B</td>\n",
       "      <td>M</td>\n",
       "      <td>B</td>\n",
       "      <td>9/8/2020</td>\n",
       "    </tr>\n",
       "    <tr>\n",
       "      <th>614</th>\n",
       "      <td>fd8ef6377f76</td>\n",
       "      <td>A</td>\n",
       "      <td>C</td>\n",
       "      <td>M</td>\n",
       "      <td>B</td>\n",
       "      <td>7/24/2019</td>\n",
       "    </tr>\n",
       "    <tr>\n",
       "      <th>615</th>\n",
       "      <td>fe1942975e40</td>\n",
       "      <td>A</td>\n",
       "      <td>C</td>\n",
       "      <td>M</td>\n",
       "      <td>B</td>\n",
       "      <td>1/31/2019</td>\n",
       "    </tr>\n",
       "    <tr>\n",
       "      <th>616</th>\n",
       "      <td>ffcca4ded3bb</td>\n",
       "      <td>A</td>\n",
       "      <td>C</td>\n",
       "      <td>M</td>\n",
       "      <td>B</td>\n",
       "      <td>Unknown</td>\n",
       "    </tr>\n",
       "  </tbody>\n",
       "</table>\n",
       "<p>617 rows × 6 columns</p>\n",
       "</div>"
      ],
      "text/plain": [
       "               Id Alpha Beta Gamma Delta    Epsilon\n",
       "0    000ff2bfdfe9     B    C     G     D  3/19/2019\n",
       "1    007255e47698     A    C     M     B    Unknown\n",
       "2    013f2bd269f5     A    C     M     B    Unknown\n",
       "3    043ac50845d5     A    C     M     B    Unknown\n",
       "4    044fb8a146ec     D    B     F     B  3/25/2020\n",
       "..            ...   ...  ...   ...   ...        ...\n",
       "612  fd3dafe738fd     A    B     M     B  9/13/2020\n",
       "613  fd895603f071     A    B     M     B   9/8/2020\n",
       "614  fd8ef6377f76     A    C     M     B  7/24/2019\n",
       "615  fe1942975e40     A    C     M     B  1/31/2019\n",
       "616  ffcca4ded3bb     A    C     M     B    Unknown\n",
       "\n",
       "[617 rows x 6 columns]"
      ]
     },
     "execution_count": 15,
     "metadata": {},
     "output_type": "execute_result"
    }
   ],
   "source": [
    "greeks_df"
   ]
  },
  {
   "cell_type": "markdown",
   "id": "d66b5f7a",
   "metadata": {
    "papermill": {
     "duration": 0.02262,
     "end_time": "2023-06-04T02:39:59.000559",
     "exception": false,
     "start_time": "2023-06-04T02:39:58.977939",
     "status": "completed"
    },
    "tags": []
   },
   "source": [
    "Supplemental metadata, only available for the training set.\n",
    "\n",
    "    Alpha Identifies the type of age-related condition, if present.\n",
    "        A No age-related condition. Corresponds to class 0.\n",
    "        B, D, G The three age-related conditions. Correspond to class 1.\n",
    "    Beta, Gamma, Delta Three experimental characteristics.\n",
    "    Epsilon The date the data for this subject was collected. Note that all of the data in the test set was collected after the training set was collected."
   ]
  },
  {
   "cell_type": "code",
   "execution_count": 16,
   "id": "986e78d3",
   "metadata": {
    "execution": {
     "iopub.execute_input": "2023-06-04T02:39:59.049161Z",
     "iopub.status.busy": "2023-06-04T02:39:59.048044Z",
     "iopub.status.idle": "2023-06-04T02:39:59.061661Z",
     "shell.execute_reply": "2023-06-04T02:39:59.060062Z"
    },
    "papermill": {
     "duration": 0.04029,
     "end_time": "2023-06-04T02:39:59.064218",
     "exception": false,
     "start_time": "2023-06-04T02:39:59.023928",
     "status": "completed"
    },
    "tags": []
   },
   "outputs": [
    {
     "name": "stdout",
     "output_type": "stream",
     "text": [
      "<class 'pandas.core.frame.DataFrame'>\n",
      "RangeIndex: 617 entries, 0 to 616\n",
      "Data columns (total 6 columns):\n",
      " #   Column   Non-Null Count  Dtype \n",
      "---  ------   --------------  ----- \n",
      " 0   Id       617 non-null    object\n",
      " 1   Alpha    617 non-null    object\n",
      " 2   Beta     617 non-null    object\n",
      " 3   Gamma    617 non-null    object\n",
      " 4   Delta    617 non-null    object\n",
      " 5   Epsilon  617 non-null    object\n",
      "dtypes: object(6)\n",
      "memory usage: 29.0+ KB\n"
     ]
    }
   ],
   "source": [
    "greeks_df.info()"
   ]
  },
  {
   "cell_type": "code",
   "execution_count": 17,
   "id": "d9e34889",
   "metadata": {
    "execution": {
     "iopub.execute_input": "2023-06-04T02:39:59.114982Z",
     "iopub.status.busy": "2023-06-04T02:39:59.113740Z",
     "iopub.status.idle": "2023-06-04T02:39:59.124200Z",
     "shell.execute_reply": "2023-06-04T02:39:59.122824Z"
    },
    "papermill": {
     "duration": 0.03815,
     "end_time": "2023-06-04T02:39:59.126557",
     "exception": false,
     "start_time": "2023-06-04T02:39:59.088407",
     "status": "completed"
    },
    "tags": []
   },
   "outputs": [
    {
     "name": "stdout",
     "output_type": "stream",
     "text": [
      "A: 509\n",
      "B: 61\n",
      "D: 18\n",
      "G: 29\n"
     ]
    }
   ],
   "source": [
    "# values of Alpha\n",
    "values = greeks_df.Alpha.values\n",
    "unique_values = np.unique(values)\n",
    "counts = np.bincount(np.searchsorted(unique_values, values))\n",
    "\n",
    "for value, count in zip(unique_values, counts):\n",
    "    print(f\"{value}: {count}\")"
   ]
  },
  {
   "cell_type": "code",
   "execution_count": 18,
   "id": "8c69b743",
   "metadata": {
    "execution": {
     "iopub.execute_input": "2023-06-04T02:39:59.175027Z",
     "iopub.status.busy": "2023-06-04T02:39:59.174645Z",
     "iopub.status.idle": "2023-06-04T02:39:59.182388Z",
     "shell.execute_reply": "2023-06-04T02:39:59.181059Z"
    },
    "papermill": {
     "duration": 0.035037,
     "end_time": "2023-06-04T02:39:59.185389",
     "exception": false,
     "start_time": "2023-06-04T02:39:59.150352",
     "status": "completed"
    },
    "tags": []
   },
   "outputs": [
    {
     "name": "stdout",
     "output_type": "stream",
     "text": [
      "A: 8\n",
      "B: 202\n",
      "C: 407\n"
     ]
    }
   ],
   "source": [
    "# values of Beta\n",
    "values = greeks_df.Beta.values\n",
    "unique_values = np.unique(values)\n",
    "counts = np.bincount(np.searchsorted(unique_values, values))\n",
    "\n",
    "for value, count in zip(unique_values, counts):\n",
    "    print(f\"{value}: {count}\")"
   ]
  },
  {
   "cell_type": "code",
   "execution_count": 19,
   "id": "24831a3d",
   "metadata": {
    "execution": {
     "iopub.execute_input": "2023-06-04T02:39:59.234869Z",
     "iopub.status.busy": "2023-06-04T02:39:59.233871Z",
     "iopub.status.idle": "2023-06-04T02:39:59.242152Z",
     "shell.execute_reply": "2023-06-04T02:39:59.240949Z"
    },
    "papermill": {
     "duration": 0.035944,
     "end_time": "2023-06-04T02:39:59.244669",
     "exception": false,
     "start_time": "2023-06-04T02:39:59.208725",
     "status": "completed"
    },
    "tags": []
   },
   "outputs": [
    {
     "name": "stdout",
     "output_type": "stream",
     "text": [
      "A: 11\n",
      "B: 18\n",
      "E: 8\n",
      "F: 10\n",
      "G: 8\n",
      "H: 53\n",
      "M: 445\n",
      "N: 64\n"
     ]
    }
   ],
   "source": [
    "# values of Gamma\n",
    "values = greeks_df.Gamma.values\n",
    "unique_values = np.unique(values)\n",
    "counts = np.bincount(np.searchsorted(unique_values, values))\n",
    "\n",
    "for value, count in zip(unique_values, counts):\n",
    "    print(f\"{value}: {count}\")"
   ]
  },
  {
   "cell_type": "code",
   "execution_count": 20,
   "id": "d2a90582",
   "metadata": {
    "execution": {
     "iopub.execute_input": "2023-06-04T02:39:59.294930Z",
     "iopub.status.busy": "2023-06-04T02:39:59.293903Z",
     "iopub.status.idle": "2023-06-04T02:39:59.301907Z",
     "shell.execute_reply": "2023-06-04T02:39:59.300766Z"
    },
    "papermill": {
     "duration": 0.036414,
     "end_time": "2023-06-04T02:39:59.304533",
     "exception": false,
     "start_time": "2023-06-04T02:39:59.268119",
     "status": "completed"
    },
    "tags": []
   },
   "outputs": [
    {
     "name": "stdout",
     "output_type": "stream",
     "text": [
      "A: 75\n",
      "B: 456\n",
      "C: 64\n",
      "D: 22\n"
     ]
    }
   ],
   "source": [
    "# values of Delta\n",
    "values = greeks_df.Delta.values\n",
    "unique_values = np.unique(values)\n",
    "counts = np.bincount(np.searchsorted(unique_values, values))\n",
    "\n",
    "for value, count in zip(unique_values, counts):\n",
    "    print(f\"{value}: {count}\")"
   ]
  },
  {
   "cell_type": "markdown",
   "id": "e36d75c3",
   "metadata": {
    "papermill": {
     "duration": 0.023008,
     "end_time": "2023-06-04T02:39:59.351113",
     "exception": false,
     "start_time": "2023-06-04T02:39:59.328105",
     "status": "completed"
    },
    "tags": []
   },
   "source": [
    "The code below performs the following operations:\n",
    "\n",
    "    1. Imports the date and datetime modules from the datetime library.\n",
    "    2. Creates a copy of the 'Epsilon' column from the 'greeks_df' DataFrame and assigns it to the variable times.\n",
    "    3. Updates the values in the times column based on the condition greeks_df.Epsilon != 'Unknown'. For the non-'Unknown' values, it uses the map() function to apply a lambda function that converts the string representation of a date to a datetime object using the format '%m/%d/%Y', and then converts it to an ordinal date using the toordinal() method.\n",
    "    4. Updates the values in the times column based on the condition greeks_df.Epsilon == 'Unknown'. For the 'Unknown' values, it assigns np.nan (representing missing values) to those positions.\n",
    "\n",
    "Note that in order to run this code, we need to have the necessary dependencies (numpy and pandas) imported and available in our environment."
   ]
  },
  {
   "cell_type": "code",
   "execution_count": 21,
   "id": "3cdba5b1",
   "metadata": {
    "execution": {
     "iopub.execute_input": "2023-06-04T02:39:59.400563Z",
     "iopub.status.busy": "2023-06-04T02:39:59.400184Z",
     "iopub.status.idle": "2023-06-04T02:39:59.422800Z",
     "shell.execute_reply": "2023-06-04T02:39:59.421929Z"
    },
    "papermill": {
     "duration": 0.049364,
     "end_time": "2023-06-04T02:39:59.424846",
     "exception": false,
     "start_time": "2023-06-04T02:39:59.375482",
     "status": "completed"
    },
    "tags": []
   },
   "outputs": [],
   "source": [
    "from datetime import date, datetime\n",
    "times = greeks_df.Epsilon.copy()\n",
    "times[greeks_df.Epsilon != 'Unknown'] = greeks_df.Epsilon[greeks_df.Epsilon != 'Unknown'].map(lambda x: datetime.strptime(x,'%m/%d/%Y').toordinal())\n",
    "times[greeks_df.Epsilon == 'Unknown'] = np.nan"
   ]
  },
  {
   "cell_type": "code",
   "execution_count": 22,
   "id": "421fd0c8",
   "metadata": {
    "execution": {
     "iopub.execute_input": "2023-06-04T02:39:59.473490Z",
     "iopub.status.busy": "2023-06-04T02:39:59.472855Z",
     "iopub.status.idle": "2023-06-04T02:39:59.483251Z",
     "shell.execute_reply": "2023-06-04T02:39:59.481260Z"
    },
    "papermill": {
     "duration": 0.039157,
     "end_time": "2023-06-04T02:39:59.487434",
     "exception": false,
     "start_time": "2023-06-04T02:39:59.448277",
     "status": "completed"
    },
    "tags": []
   },
   "outputs": [
    {
     "data": {
      "text/plain": [
       "0      737137.0\n",
       "1           NaN\n",
       "2           NaN\n",
       "3           NaN\n",
       "4      737509.0\n",
       "         ...   \n",
       "612    737681.0\n",
       "613    737676.0\n",
       "614    737264.0\n",
       "615    737090.0\n",
       "616         NaN\n",
       "Name: Epsilon, Length: 617, dtype: object"
      ]
     },
     "execution_count": 22,
     "metadata": {},
     "output_type": "execute_result"
    }
   ],
   "source": [
    "times"
   ]
  },
  {
   "cell_type": "code",
   "execution_count": 23,
   "id": "b6754aaf",
   "metadata": {
    "execution": {
     "iopub.execute_input": "2023-06-04T02:39:59.537802Z",
     "iopub.status.busy": "2023-06-04T02:39:59.537330Z",
     "iopub.status.idle": "2023-06-04T02:39:59.542238Z",
     "shell.execute_reply": "2023-06-04T02:39:59.541048Z"
    },
    "papermill": {
     "duration": 0.033635,
     "end_time": "2023-06-04T02:39:59.545005",
     "exception": false,
     "start_time": "2023-06-04T02:39:59.511370",
     "status": "completed"
    },
    "tags": []
   },
   "outputs": [],
   "source": [
    "#train_df['Epsilon'] = times\n",
    "#train_df"
   ]
  },
  {
   "cell_type": "code",
   "execution_count": 24,
   "id": "d59a4183",
   "metadata": {
    "execution": {
     "iopub.execute_input": "2023-06-04T02:39:59.594514Z",
     "iopub.status.busy": "2023-06-04T02:39:59.593627Z",
     "iopub.status.idle": "2023-06-04T02:39:59.598357Z",
     "shell.execute_reply": "2023-06-04T02:39:59.597580Z"
    },
    "papermill": {
     "duration": 0.032111,
     "end_time": "2023-06-04T02:39:59.600678",
     "exception": false,
     "start_time": "2023-06-04T02:39:59.568567",
     "status": "completed"
    },
    "tags": []
   },
   "outputs": [],
   "source": [
    "#class_col = train_df.pop('Class')\n",
    "#train_df['Class'] = class_col\n",
    "#train_df"
   ]
  },
  {
   "cell_type": "markdown",
   "id": "609a1b75",
   "metadata": {
    "papermill": {
     "duration": 0.023222,
     "end_time": "2023-06-04T02:39:59.647288",
     "exception": false,
     "start_time": "2023-06-04T02:39:59.624066",
     "status": "completed"
    },
    "tags": []
   },
   "source": [
    "The 'Epsilon' column in the 'train_df' DataFrame is updated with the values from the times variable. Then, the DataFrame columns are rearranged to move the 'Epsilon' column to the second-to-last position, just before the 'Class' column."
   ]
  },
  {
   "cell_type": "code",
   "execution_count": 25,
   "id": "7f48e970",
   "metadata": {
    "execution": {
     "iopub.execute_input": "2023-06-04T02:39:59.696423Z",
     "iopub.status.busy": "2023-06-04T02:39:59.695627Z",
     "iopub.status.idle": "2023-06-04T02:39:59.707985Z",
     "shell.execute_reply": "2023-06-04T02:39:59.706847Z"
    },
    "papermill": {
     "duration": 0.039697,
     "end_time": "2023-06-04T02:39:59.710552",
     "exception": false,
     "start_time": "2023-06-04T02:39:59.670855",
     "status": "completed"
    },
    "tags": []
   },
   "outputs": [
    {
     "data": {
      "text/html": [
       "<div>\n",
       "<style scoped>\n",
       "    .dataframe tbody tr th:only-of-type {\n",
       "        vertical-align: middle;\n",
       "    }\n",
       "\n",
       "    .dataframe tbody tr th {\n",
       "        vertical-align: top;\n",
       "    }\n",
       "\n",
       "    .dataframe thead th {\n",
       "        text-align: right;\n",
       "    }\n",
       "</style>\n",
       "<table border=\"1\" class=\"dataframe\">\n",
       "  <thead>\n",
       "    <tr style=\"text-align: right;\">\n",
       "      <th></th>\n",
       "      <th>Id</th>\n",
       "      <th>class_0</th>\n",
       "      <th>class_1</th>\n",
       "    </tr>\n",
       "  </thead>\n",
       "  <tbody>\n",
       "    <tr>\n",
       "      <th>0</th>\n",
       "      <td>00eed32682bb</td>\n",
       "      <td>0.5</td>\n",
       "      <td>0.5</td>\n",
       "    </tr>\n",
       "    <tr>\n",
       "      <th>1</th>\n",
       "      <td>010ebe33f668</td>\n",
       "      <td>0.5</td>\n",
       "      <td>0.5</td>\n",
       "    </tr>\n",
       "    <tr>\n",
       "      <th>2</th>\n",
       "      <td>02fa521e1838</td>\n",
       "      <td>0.5</td>\n",
       "      <td>0.5</td>\n",
       "    </tr>\n",
       "    <tr>\n",
       "      <th>3</th>\n",
       "      <td>040e15f562a2</td>\n",
       "      <td>0.5</td>\n",
       "      <td>0.5</td>\n",
       "    </tr>\n",
       "    <tr>\n",
       "      <th>4</th>\n",
       "      <td>046e85c7cc7f</td>\n",
       "      <td>0.5</td>\n",
       "      <td>0.5</td>\n",
       "    </tr>\n",
       "  </tbody>\n",
       "</table>\n",
       "</div>"
      ],
      "text/plain": [
       "             Id  class_0  class_1\n",
       "0  00eed32682bb      0.5      0.5\n",
       "1  010ebe33f668      0.5      0.5\n",
       "2  02fa521e1838      0.5      0.5\n",
       "3  040e15f562a2      0.5      0.5\n",
       "4  046e85c7cc7f      0.5      0.5"
      ]
     },
     "execution_count": 25,
     "metadata": {},
     "output_type": "execute_result"
    }
   ],
   "source": [
    "sample_submission_df"
   ]
  },
  {
   "cell_type": "markdown",
   "id": "72894f16",
   "metadata": {
    "papermill": {
     "duration": 0.024507,
     "end_time": "2023-06-04T02:39:59.758920",
     "exception": false,
     "start_time": "2023-06-04T02:39:59.734413",
     "status": "completed"
    },
    "tags": []
   },
   "source": [
    "The sample_submission_df DataFrame represents the sample submission format for the competition. It includes three columns: 'Id', 'class_0', and 'class_1'. The 'Id' column contains the unique identifiers for each sample, and the 'class_0' and 'class_1' columns contain the predicted probabilities for the corresponding classes.\n",
    "\n",
    "The sample submission DataFrame provided here has '0.5' as the predicted probability for both 'class_0' and 'class_1' for all the samples.\n",
    "\n",
    "To submit our actual predictions, we have to **replace the '0.5' values with the respective probabilities we obtain from our model**. Ensure that **the 'Id' column matches the identifiers** in the test dataset, and **the probabilities in 'class_0' and 'class_1' sum up to 1 for each sample**."
   ]
  },
  {
   "cell_type": "markdown",
   "id": "ba6dd3ad",
   "metadata": {
    "papermill": {
     "duration": 0.023465,
     "end_time": "2023-06-04T02:39:59.806794",
     "exception": false,
     "start_time": "2023-06-04T02:39:59.783329",
     "status": "completed"
    },
    "tags": []
   },
   "source": [
    "# Create Dataset without Features Selection"
   ]
  },
  {
   "cell_type": "code",
   "execution_count": 26,
   "id": "bfdbc240",
   "metadata": {
    "execution": {
     "iopub.execute_input": "2023-06-04T02:39:59.857468Z",
     "iopub.status.busy": "2023-06-04T02:39:59.856674Z",
     "iopub.status.idle": "2023-06-04T02:39:59.862803Z",
     "shell.execute_reply": "2023-06-04T02:39:59.861853Z"
    },
    "papermill": {
     "duration": 0.034187,
     "end_time": "2023-06-04T02:39:59.865281",
     "exception": false,
     "start_time": "2023-06-04T02:39:59.831094",
     "status": "completed"
    },
    "tags": []
   },
   "outputs": [],
   "source": [
    "# X represents the feature data, and y represents the target variable data.\n",
    "X = train_df.iloc[:, 1:-1]\n",
    "y = train_df.iloc[:, -1]"
   ]
  },
  {
   "cell_type": "code",
   "execution_count": 27,
   "id": "566c5004",
   "metadata": {
    "execution": {
     "iopub.execute_input": "2023-06-04T02:39:59.917103Z",
     "iopub.status.busy": "2023-06-04T02:39:59.916422Z",
     "iopub.status.idle": "2023-06-04T02:40:00.214658Z",
     "shell.execute_reply": "2023-06-04T02:40:00.213255Z"
    },
    "papermill": {
     "duration": 0.32673,
     "end_time": "2023-06-04T02:40:00.217456",
     "exception": false,
     "start_time": "2023-06-04T02:39:59.890726",
     "status": "completed"
    },
    "tags": []
   },
   "outputs": [],
   "source": [
    "# We can split the data into training and testing sets using the train_test_split function from scikit-learn.\n",
    "from sklearn.model_selection import train_test_split\n",
    "\n",
    "X_train, X_test, y_train, y_test = train_test_split(X, y, test_size = 0.2, random_state = 42)"
   ]
  },
  {
   "cell_type": "code",
   "execution_count": 28,
   "id": "33a487c0",
   "metadata": {
    "execution": {
     "iopub.execute_input": "2023-06-04T02:40:00.268689Z",
     "iopub.status.busy": "2023-06-04T02:40:00.268269Z",
     "iopub.status.idle": "2023-06-04T02:40:00.283339Z",
     "shell.execute_reply": "2023-06-04T02:40:00.282149Z"
    },
    "papermill": {
     "duration": 0.044011,
     "end_time": "2023-06-04T02:40:00.286281",
     "exception": false,
     "start_time": "2023-06-04T02:40:00.242270",
     "status": "completed"
    },
    "tags": []
   },
   "outputs": [],
   "source": [
    "from sklearn.preprocessing import StandardScaler\n",
    "\n",
    "# Standardize the independent variables.\n",
    "scaler = StandardScaler()\n",
    "X_train = scaler.fit_transform(X_train)\n",
    "X_test = scaler.transform(X_test)"
   ]
  },
  {
   "cell_type": "markdown",
   "id": "f6331ea0",
   "metadata": {
    "papermill": {
     "duration": 0.023475,
     "end_time": "2023-06-04T02:40:00.334334",
     "exception": false,
     "start_time": "2023-06-04T02:40:00.310859",
     "status": "completed"
    },
    "tags": []
   },
   "source": [
    "# Create, Train, and Evaluate Model without Features Selection"
   ]
  },
  {
   "cell_type": "code",
   "execution_count": 29,
   "id": "5a676110",
   "metadata": {
    "execution": {
     "iopub.execute_input": "2023-06-04T02:40:00.383799Z",
     "iopub.status.busy": "2023-06-04T02:40:00.383344Z",
     "iopub.status.idle": "2023-06-04T02:40:00.730851Z",
     "shell.execute_reply": "2023-06-04T02:40:00.729801Z"
    },
    "papermill": {
     "duration": 0.375608,
     "end_time": "2023-06-04T02:40:00.733973",
     "exception": false,
     "start_time": "2023-06-04T02:40:00.358365",
     "status": "completed"
    },
    "tags": []
   },
   "outputs": [
    {
     "name": "stdout",
     "output_type": "stream",
     "text": [
      "Accuracy: 0.967741935483871\n"
     ]
    }
   ],
   "source": [
    "from xgboost import XGBClassifier\n",
    "\n",
    "# Create the XGBClassifier model.\n",
    "model = XGBClassifier()\n",
    "\n",
    "# Train the model on the training data.\n",
    "model.fit(X_train, y_train)\n",
    "\n",
    "# Evaluate the model on the test data.\n",
    "print('Accuracy:', model.score(X_test, y_test))"
   ]
  },
  {
   "cell_type": "code",
   "execution_count": 30,
   "id": "2a01e433",
   "metadata": {
    "execution": {
     "iopub.execute_input": "2023-06-04T02:40:00.789961Z",
     "iopub.status.busy": "2023-06-04T02:40:00.788653Z",
     "iopub.status.idle": "2023-06-04T02:40:00.811169Z",
     "shell.execute_reply": "2023-06-04T02:40:00.809981Z"
    },
    "papermill": {
     "duration": 0.05389,
     "end_time": "2023-06-04T02:40:00.814401",
     "exception": false,
     "start_time": "2023-06-04T02:40:00.760511",
     "status": "completed"
    },
    "tags": []
   },
   "outputs": [
    {
     "name": "stdout",
     "output_type": "stream",
     "text": [
      "Classification Report:\n",
      "              precision    recall  f1-score   support\n",
      "\n",
      "           0       0.96      1.00      0.98       101\n",
      "           1       1.00      0.83      0.90        23\n",
      "\n",
      "    accuracy                           0.97       124\n",
      "   macro avg       0.98      0.91      0.94       124\n",
      "weighted avg       0.97      0.97      0.97       124\n",
      "\n",
      "Confusion Matrix:\n",
      "[[101   0]\n",
      " [  4  19]]\n"
     ]
    }
   ],
   "source": [
    "from sklearn.metrics import classification_report, confusion_matrix\n",
    "\n",
    "# Get the predictions using the model on the test data.\n",
    "y_pred = model.predict(X_test)\n",
    "\n",
    "# Create a classification report for the model.\n",
    "print('Classification Report:')\n",
    "print(classification_report(y_test, y_pred))\n",
    "\n",
    "# Create a confusion matrix for the model.\n",
    "print('Confusion Matrix:')\n",
    "print(confusion_matrix(y_test, y_pred))"
   ]
  },
  {
   "cell_type": "code",
   "execution_count": 31,
   "id": "e9ce4fde",
   "metadata": {
    "execution": {
     "iopub.execute_input": "2023-06-04T02:40:00.865606Z",
     "iopub.status.busy": "2023-06-04T02:40:00.865202Z",
     "iopub.status.idle": "2023-06-04T02:40:01.248658Z",
     "shell.execute_reply": "2023-06-04T02:40:01.247337Z"
    },
    "papermill": {
     "duration": 0.41204,
     "end_time": "2023-06-04T02:40:01.251638",
     "exception": false,
     "start_time": "2023-06-04T02:40:00.839598",
     "status": "completed"
    },
    "tags": []
   },
   "outputs": [
    {
     "data": {
      "text/plain": [
       "Text(50.722222222222214, 0.5, 'Truth')"
      ]
     },
     "execution_count": 31,
     "metadata": {},
     "output_type": "execute_result"
    },
    {
     "data": {
      "image/png": "[encoded data removed]",
      "text/plain": [
       "<Figure size 640x480 with 2 Axes>"
      ]
     },
     "metadata": {},
     "output_type": "display_data"
    }
   ],
   "source": [
    "cm = confusion_matrix(y_test, y_pred)\n",
    "\n",
    "# Define the class names.\n",
    "class_names = ['Normal', 'Diseased']\n",
    "\n",
    "# Create the heatmap with class names as tick labels.\n",
    "ax = sns.heatmap(cm, annot = True, fmt = '.0f', cmap = \"Blues\", annot_kws = {\"size\": 16},\\\n",
    "           xticklabels = class_names, yticklabels = class_names)\n",
    "\n",
    "# Set the axis labels.\n",
    "ax.set_xlabel(\"Prediction\")\n",
    "ax.set_ylabel(\"Truth\")"
   ]
  },
  {
   "cell_type": "markdown",
   "id": "500eafbb",
   "metadata": {
    "papermill": {
     "duration": 0.025807,
     "end_time": "2023-06-04T02:40:01.305115",
     "exception": false,
     "start_time": "2023-06-04T02:40:01.279308",
     "status": "completed"
    },
    "tags": []
   },
   "source": [
    "# Create Dataset with Univariate Feature Selection\n",
    "\n",
    "To perform Univariate Feature Selection, we can use **the SelectKBest class from the scikit-learn library**. we are using **the F-test score (f_regression)** as the scoring function **to rank the features**. We are **selecting the top 10 features** based on this score (k=10). Once we fit the selector on the independent variables and target variable, we can get the indices and names of the selected features using the get_support and columns methods, respectively."
   ]
  },
  {
   "cell_type": "code",
   "execution_count": 32,
   "id": "23bdd083",
   "metadata": {
    "execution": {
     "iopub.execute_input": "2023-06-04T02:40:01.357529Z",
     "iopub.status.busy": "2023-06-04T02:40:01.356824Z",
     "iopub.status.idle": "2023-06-04T02:40:01.362614Z",
     "shell.execute_reply": "2023-06-04T02:40:01.361579Z"
    },
    "papermill": {
     "duration": 0.035365,
     "end_time": "2023-06-04T02:40:01.365358",
     "exception": false,
     "start_time": "2023-06-04T02:40:01.329993",
     "status": "completed"
    },
    "tags": []
   },
   "outputs": [],
   "source": [
    "# X represents the feature data, and y represents the target variable data.\n",
    "X = train_df.iloc[:, 1:-1]\n",
    "y = train_df.iloc[:, -1]"
   ]
  },
  {
   "cell_type": "code",
   "execution_count": 33,
   "id": "7b390a6e",
   "metadata": {
    "execution": {
     "iopub.execute_input": "2023-06-04T02:40:01.418855Z",
     "iopub.status.busy": "2023-06-04T02:40:01.418139Z",
     "iopub.status.idle": "2023-06-04T02:40:01.729832Z",
     "shell.execute_reply": "2023-06-04T02:40:01.728184Z"
    },
    "papermill": {
     "duration": 0.345861,
     "end_time": "2023-06-04T02:40:01.736792",
     "exception": false,
     "start_time": "2023-06-04T02:40:01.390931",
     "status": "completed"
    },
    "tags": []
   },
   "outputs": [],
   "source": [
    "from sklearn.feature_selection import SelectKBest, f_regression\n",
    "\n",
    "# Select the top 10 features based on the F-test score.\n",
    "selector = SelectKBest(score_func = f_regression, k = 10)\n",
    "\n",
    "# Fit the selector on the independent variables and target variable.\n",
    "X.fillna(method = 'ffill', inplace = True)\n",
    "X_new = selector.fit_transform(X, y)\n",
    "\n",
    "# Get the indices of the selected features.\n",
    "selected_indices = selector.get_support(indices = True)\n",
    "\n",
    "# Get the names of the selected features.\n",
    "selected_X = X.columns[selected_indices]"
   ]
  },
  {
   "cell_type": "code",
   "execution_count": 34,
   "id": "225dd7e5",
   "metadata": {
    "execution": {
     "iopub.execute_input": "2023-06-04T02:40:01.842204Z",
     "iopub.status.busy": "2023-06-04T02:40:01.841816Z",
     "iopub.status.idle": "2023-06-04T02:40:01.848495Z",
     "shell.execute_reply": "2023-06-04T02:40:01.847676Z"
    },
    "papermill": {
     "duration": 0.059067,
     "end_time": "2023-06-04T02:40:01.850662",
     "exception": false,
     "start_time": "2023-06-04T02:40:01.791595",
     "status": "completed"
    },
    "tags": []
   },
   "outputs": [
    {
     "data": {
      "text/plain": [
       "array([[2.09377000e-01, 3.10903329e+03, 2.23944070e+01, ...,\n",
       "        5.31069000e+00, 9.02829192e+03, 7.29816194e+00],\n",
       "       [1.45282000e-01, 9.78764160e+02, 3.69688890e+01, ...,\n",
       "        5.51760000e-03, 6.78500347e+03, 1.73229000e-01],\n",
       "       [4.70030000e-01, 2.63510654e+03, 3.23605530e+01, ...,\n",
       "        1.28973900e+00, 8.33890618e+03, 7.70956011e+00],\n",
       "       ...,\n",
       "       [4.27300000e-01, 2.45910720e+03, 5.53557780e+01, ...,\n",
       "        5.51760000e-03, 5.08892291e+03, 1.73229000e-01],\n",
       "       [3.63205000e-01, 1.26353524e+03, 2.36858560e+01, ...,\n",
       "        5.10378000e-01, 6.46425083e+03, 9.25699588e+00],\n",
       "       [4.82849000e-01, 2.67253426e+03, 1.12006102e+02, ...,\n",
       "        5.51760000e-03, 5.89535226e+03, 1.73229000e-01]])"
      ]
     },
     "execution_count": 34,
     "metadata": {},
     "output_type": "execute_result"
    }
   ],
   "source": [
    "# the selected features\n",
    "X_new"
   ]
  },
  {
   "cell_type": "code",
   "execution_count": 35,
   "id": "3a9c7361",
   "metadata": {
    "execution": {
     "iopub.execute_input": "2023-06-04T02:40:01.902299Z",
     "iopub.status.busy": "2023-06-04T02:40:01.901886Z",
     "iopub.status.idle": "2023-06-04T02:40:01.908272Z",
     "shell.execute_reply": "2023-06-04T02:40:01.907415Z"
    },
    "papermill": {
     "duration": 0.035226,
     "end_time": "2023-06-04T02:40:01.910526",
     "exception": false,
     "start_time": "2023-06-04T02:40:01.875300",
     "status": "completed"
    },
    "tags": []
   },
   "outputs": [
    {
     "data": {
      "text/plain": [
       "Index(['AB', 'AF', 'AM', 'BQ', 'CR', 'DH', 'DI', 'DU', 'FE', 'FL'], dtype='object')"
      ]
     },
     "execution_count": 35,
     "metadata": {},
     "output_type": "execute_result"
    }
   ],
   "source": [
    "# the selected features\n",
    "selected_X"
   ]
  },
  {
   "cell_type": "code",
   "execution_count": 36,
   "id": "d5ebf8e3",
   "metadata": {
    "execution": {
     "iopub.execute_input": "2023-06-04T02:40:01.963515Z",
     "iopub.status.busy": "2023-06-04T02:40:01.962799Z",
     "iopub.status.idle": "2023-06-04T02:40:01.968559Z",
     "shell.execute_reply": "2023-06-04T02:40:01.967823Z"
    },
    "papermill": {
     "duration": 0.034219,
     "end_time": "2023-06-04T02:40:01.970797",
     "exception": false,
     "start_time": "2023-06-04T02:40:01.936578",
     "status": "completed"
    },
    "tags": []
   },
   "outputs": [
    {
     "data": {
      "text/plain": [
       "array(['AB', 'AF', 'AM', 'BQ', 'CR', 'DH', 'DI', 'DU', 'FE', 'FL'],\n",
       "      dtype=object)"
      ]
     },
     "execution_count": 36,
     "metadata": {},
     "output_type": "execute_result"
    }
   ],
   "source": [
    "# the selected features\n",
    "selected_X.values"
   ]
  },
  {
   "cell_type": "code",
   "execution_count": 37,
   "id": "04861230",
   "metadata": {
    "execution": {
     "iopub.execute_input": "2023-06-04T02:40:02.024546Z",
     "iopub.status.busy": "2023-06-04T02:40:02.023824Z",
     "iopub.status.idle": "2023-06-04T02:40:02.030392Z",
     "shell.execute_reply": "2023-06-04T02:40:02.029007Z"
    },
    "papermill": {
     "duration": 0.036054,
     "end_time": "2023-06-04T02:40:02.032865",
     "exception": false,
     "start_time": "2023-06-04T02:40:01.996811",
     "status": "completed"
    },
    "tags": []
   },
   "outputs": [],
   "source": [
    "# We can split the data into training and testing sets using the train_test_split function from scikit-learn.\n",
    "from sklearn.model_selection import train_test_split\n",
    "\n",
    "X_train, X_test, y_train, y_test = train_test_split(X_new, y, test_size = 0.2, random_state = 42)"
   ]
  },
  {
   "cell_type": "code",
   "execution_count": 38,
   "id": "b172486d",
   "metadata": {
    "execution": {
     "iopub.execute_input": "2023-06-04T02:40:02.086549Z",
     "iopub.status.busy": "2023-06-04T02:40:02.086105Z",
     "iopub.status.idle": "2023-06-04T02:40:02.093118Z",
     "shell.execute_reply": "2023-06-04T02:40:02.092265Z"
    },
    "papermill": {
     "duration": 0.036846,
     "end_time": "2023-06-04T02:40:02.095413",
     "exception": false,
     "start_time": "2023-06-04T02:40:02.058567",
     "status": "completed"
    },
    "tags": []
   },
   "outputs": [],
   "source": [
    "from sklearn.preprocessing import StandardScaler\n",
    "\n",
    "# Standardize the independent variables.\n",
    "scaler = StandardScaler()\n",
    "X_train = scaler.fit_transform(X_train)\n",
    "X_test = scaler.transform(X_test)"
   ]
  },
  {
   "cell_type": "markdown",
   "id": "51e1ff34",
   "metadata": {
    "papermill": {
     "duration": 0.025111,
     "end_time": "2023-06-04T02:40:02.146543",
     "exception": false,
     "start_time": "2023-06-04T02:40:02.121432",
     "status": "completed"
    },
    "tags": []
   },
   "source": [
    "# Create, Train, and Evaluate Model with Univariate Feature Selection"
   ]
  },
  {
   "cell_type": "code",
   "execution_count": 39,
   "id": "831db081",
   "metadata": {
    "execution": {
     "iopub.execute_input": "2023-06-04T02:40:02.198573Z",
     "iopub.status.busy": "2023-06-04T02:40:02.198161Z",
     "iopub.status.idle": "2023-06-04T02:40:02.281273Z",
     "shell.execute_reply": "2023-06-04T02:40:02.280218Z"
    },
    "papermill": {
     "duration": 0.112264,
     "end_time": "2023-06-04T02:40:02.284182",
     "exception": false,
     "start_time": "2023-06-04T02:40:02.171918",
     "status": "completed"
    },
    "tags": []
   },
   "outputs": [
    {
     "name": "stdout",
     "output_type": "stream",
     "text": [
      "Accuracy: 0.9516129032258065\n"
     ]
    }
   ],
   "source": [
    "from xgboost import XGBClassifier\n",
    "\n",
    "# Create the XGBClassifier model.\n",
    "model = XGBClassifier()\n",
    "\n",
    "# Train the model on the training data.\n",
    "model.fit(X_train, y_train)\n",
    "\n",
    "# Evaluate the model on the test data.\n",
    "print('Accuracy:', model.score(X_test, y_test))"
   ]
  },
  {
   "cell_type": "code",
   "execution_count": 40,
   "id": "98da80ee",
   "metadata": {
    "execution": {
     "iopub.execute_input": "2023-06-04T02:40:02.337735Z",
     "iopub.status.busy": "2023-06-04T02:40:02.336822Z",
     "iopub.status.idle": "2023-06-04T02:40:02.361026Z",
     "shell.execute_reply": "2023-06-04T02:40:02.359974Z"
    },
    "papermill": {
     "duration": 0.053275,
     "end_time": "2023-06-04T02:40:02.363634",
     "exception": false,
     "start_time": "2023-06-04T02:40:02.310359",
     "status": "completed"
    },
    "tags": []
   },
   "outputs": [
    {
     "name": "stdout",
     "output_type": "stream",
     "text": [
      "Classification Report:\n",
      "              precision    recall  f1-score   support\n",
      "\n",
      "           0       0.96      0.98      0.97       101\n",
      "           1       0.90      0.83      0.86        23\n",
      "\n",
      "    accuracy                           0.95       124\n",
      "   macro avg       0.93      0.90      0.92       124\n",
      "weighted avg       0.95      0.95      0.95       124\n",
      "\n",
      "Confusion Matrix:\n",
      "[[99  2]\n",
      " [ 4 19]]\n"
     ]
    }
   ],
   "source": [
    "from sklearn.metrics import classification_report, confusion_matrix\n",
    "\n",
    "# Get the predictions using the model on the test data.\n",
    "y_pred = model.predict(X_test)\n",
    "\n",
    "# Create a classification report for the model.\n",
    "print('Classification Report:')\n",
    "print(classification_report(y_test, y_pred))\n",
    "\n",
    "# Create a confusion matrix for the model.\n",
    "print('Confusion Matrix:')\n",
    "print(confusion_matrix(y_test, y_pred))"
   ]
  },
  {
   "cell_type": "code",
   "execution_count": 41,
   "id": "0aaf5c72",
   "metadata": {
    "execution": {
     "iopub.execute_input": "2023-06-04T02:40:02.415953Z",
     "iopub.status.busy": "2023-06-04T02:40:02.415507Z",
     "iopub.status.idle": "2023-06-04T02:40:02.671294Z",
     "shell.execute_reply": "2023-06-04T02:40:02.669988Z"
    },
    "papermill": {
     "duration": 0.285573,
     "end_time": "2023-06-04T02:40:02.674680",
     "exception": false,
     "start_time": "2023-06-04T02:40:02.389107",
     "status": "completed"
    },
    "tags": []
   },
   "outputs": [
    {
     "data": {
      "text/plain": [
       "Text(50.722222222222214, 0.5, 'Truth')"
      ]
     },
     "execution_count": 41,
     "metadata": {},
     "output_type": "execute_result"
    },
    {
     "data": {
      "image/png": "[encoded data removed]",
      "text/plain": [
       "<Figure size 640x480 with 2 Axes>"
      ]
     },
     "metadata": {},
     "output_type": "display_data"
    }
   ],
   "source": [
    "cm = confusion_matrix(y_test, y_pred)\n",
    "\n",
    "# Define the class names.\n",
    "class_names = ['Normal', 'Diseased']\n",
    "\n",
    "# Create the heatmap with class names as tick labels.\n",
    "ax = sns.heatmap(cm, annot = True, fmt = '.0f', cmap = \"Blues\", annot_kws = {\"size\": 16},\\\n",
    "           xticklabels = class_names, yticklabels = class_names)\n",
    "\n",
    "# Set the axis labels.\n",
    "ax.set_xlabel(\"Prediction\")\n",
    "ax.set_ylabel(\"Truth\")"
   ]
  },
  {
   "cell_type": "markdown",
   "id": "0ac36bc1",
   "metadata": {
    "papermill": {
     "duration": 0.025838,
     "end_time": "2023-06-04T02:40:02.726016",
     "exception": false,
     "start_time": "2023-06-04T02:40:02.700178",
     "status": "completed"
    },
    "tags": []
   },
   "source": [
    "**The model performance after the features selection is not so good as that without the features selection. Thus, it does not seem better to conduct features selection in this case.**"
   ]
  },
  {
   "cell_type": "markdown",
   "id": "bcb773dd",
   "metadata": {
    "papermill": {
     "duration": 0.025243,
     "end_time": "2023-06-04T02:40:02.777108",
     "exception": false,
     "start_time": "2023-06-04T02:40:02.751865",
     "status": "completed"
    },
    "tags": []
   },
   "source": [
    "# Train the Model for Submission"
   ]
  },
  {
   "cell_type": "code",
   "execution_count": 42,
   "id": "18d1dadf",
   "metadata": {
    "execution": {
     "iopub.execute_input": "2023-06-04T02:40:02.833200Z",
     "iopub.status.busy": "2023-06-04T02:40:02.832092Z",
     "iopub.status.idle": "2023-06-04T02:40:02.837254Z",
     "shell.execute_reply": "2023-06-04T02:40:02.836301Z"
    },
    "papermill": {
     "duration": 0.036879,
     "end_time": "2023-06-04T02:40:02.839773",
     "exception": false,
     "start_time": "2023-06-04T02:40:02.802894",
     "status": "completed"
    },
    "tags": []
   },
   "outputs": [],
   "source": [
    "# Replace with the actual column names.\n",
    "#selected_indices = [test_df.columns.get_loc(col) for col in selected_X]\n",
    "#X = train_df.iloc[:, selected_indices].values"
   ]
  },
  {
   "cell_type": "code",
   "execution_count": 43,
   "id": "6ba103ca",
   "metadata": {
    "execution": {
     "iopub.execute_input": "2023-06-04T02:40:02.893549Z",
     "iopub.status.busy": "2023-06-04T02:40:02.892786Z",
     "iopub.status.idle": "2023-06-04T02:40:03.071271Z",
     "shell.execute_reply": "2023-06-04T02:40:03.070200Z"
    },
    "papermill": {
     "duration": 0.208743,
     "end_time": "2023-06-04T02:40:03.074239",
     "exception": false,
     "start_time": "2023-06-04T02:40:02.865496",
     "status": "completed"
    },
    "tags": []
   },
   "outputs": [
    {
     "data": {
      "text/html": [
       "<style>#sk-container-id-1 {color: black;background-color: white;}#sk-container-id-1 pre{padding: 0;}#sk-container-id-1 div.sk-toggleable {background-color: white;}#sk-container-id-1 label.sk-toggleable__label {cursor: pointer;display: block;width: 100%;margin-bottom: 0;padding: 0.3em;box-sizing: border-box;text-align: center;}#sk-container-id-1 label.sk-toggleable__label-arrow:before {content: \"▸\";float: left;margin-right: 0.25em;color: #696969;}#sk-container-id-1 label.sk-toggleable__label-arrow:hover:before {color: black;}#sk-container-id-1 div.sk-estimator:hover label.sk-toggleable__label-arrow:before {color: black;}#sk-container-id-1 div.sk-toggleable__content {max-height: 0;max-width: 0;overflow: hidden;text-align: left;background-color: #f0f8ff;}#sk-container-id-1 div.sk-toggleable__content pre {margin: 0.2em;color: black;border-radius: 0.25em;background-color: #f0f8ff;}#sk-container-id-1 input.sk-toggleable__control:checked~div.sk-toggleable__content {max-height: 200px;max-width: 100%;overflow: auto;}#sk-container-id-1 input.sk-toggleable__control:checked~label.sk-toggleable__label-arrow:before {content: \"▾\";}#sk-container-id-1 div.sk-estimator input.sk-toggleable__control:checked~label.sk-toggleable__label {background-color: #d4ebff;}#sk-container-id-1 div.sk-label input.sk-toggleable__control:checked~label.sk-toggleable__label {background-color: #d4ebff;}#sk-container-id-1 input.sk-hidden--visually {border: 0;clip: rect(1px 1px 1px 1px);clip: rect(1px, 1px, 1px, 1px);height: 1px;margin: -1px;overflow: hidden;padding: 0;position: absolute;width: 1px;}#sk-container-id-1 div.sk-estimator {font-family: monospace;background-color: #f0f8ff;border: 1px dotted black;border-radius: 0.25em;box-sizing: border-box;margin-bottom: 0.5em;}#sk-container-id-1 div.sk-estimator:hover {background-color: #d4ebff;}#sk-container-id-1 div.sk-parallel-item::after {content: \"\";width: 100%;border-bottom: 1px solid gray;flex-grow: 1;}#sk-container-id-1 div.sk-label:hover label.sk-toggleable__label {background-color: #d4ebff;}#sk-container-id-1 div.sk-serial::before {content: \"\";position: absolute;border-left: 1px solid gray;box-sizing: border-box;top: 0;bottom: 0;left: 50%;z-index: 0;}#sk-container-id-1 div.sk-serial {display: flex;flex-direction: column;align-items: center;background-color: white;padding-right: 0.2em;padding-left: 0.2em;position: relative;}#sk-container-id-1 div.sk-item {position: relative;z-index: 1;}#sk-container-id-1 div.sk-parallel {display: flex;align-items: stretch;justify-content: center;background-color: white;position: relative;}#sk-container-id-1 div.sk-item::before, #sk-container-id-1 div.sk-parallel-item::before {content: \"\";position: absolute;border-left: 1px solid gray;box-sizing: border-box;top: 0;bottom: 0;left: 50%;z-index: -1;}#sk-container-id-1 div.sk-parallel-item {display: flex;flex-direction: column;z-index: 1;position: relative;background-color: white;}#sk-container-id-1 div.sk-parallel-item:first-child::after {align-self: flex-end;width: 50%;}#sk-container-id-1 div.sk-parallel-item:last-child::after {align-self: flex-start;width: 50%;}#sk-container-id-1 div.sk-parallel-item:only-child::after {width: 0;}#sk-container-id-1 div.sk-dashed-wrapped {border: 1px dashed gray;margin: 0 0.4em 0.5em 0.4em;box-sizing: border-box;padding-bottom: 0.4em;background-color: white;}#sk-container-id-1 div.sk-label label {font-family: monospace;font-weight: bold;display: inline-block;line-height: 1.2em;}#sk-container-id-1 div.sk-label-container {text-align: center;}#sk-container-id-1 div.sk-container {/* jupyter's `normalize.less` sets `[hidden] { display: none; }` but bootstrap.min.css set `[hidden] { display: none !important; }` so we also need the `!important` here to be able to override the default hidden behavior on the sphinx rendered scikit-learn.org. See: https://github.com/scikit-learn/scikit-learn/issues/21755 */display: inline-block !important;position: relative;}#sk-container-id-1 div.sk-text-repr-fallback {display: none;}</style><div id=\"sk-container-id-1\" class=\"sk-top-container\"><div class=\"sk-text-repr-fallback\"><pre>XGBClassifier(base_score=None, booster=None, callbacks=None,\n",
       "              colsample_bylevel=None, colsample_bynode=None,\n",
       "              colsample_bytree=None, early_stopping_rounds=None,\n",
       "              enable_categorical=False, eval_metric=None, feature_types=None,\n",
       "              gamma=None, gpu_id=None, grow_policy=None, importance_type=None,\n",
       "              interaction_constraints=None, learning_rate=None, max_bin=None,\n",
       "              max_cat_threshold=None, max_cat_to_onehot=None,\n",
       "              max_delta_step=None, max_depth=None, max_leaves=None,\n",
       "              min_child_weight=None, missing=nan, monotone_constraints=None,\n",
       "              n_estimators=100, n_jobs=None, num_parallel_tree=None,\n",
       "              predictor=None, random_state=None, ...)</pre><b>In a Jupyter environment, please rerun this cell to show the HTML representation or trust the notebook. <br />On GitHub, the HTML representation is unable to render, please try loading this page with nbviewer.org.</b></div><div class=\"sk-container\" hidden><div class=\"sk-item\"><div class=\"sk-estimator sk-toggleable\"><input class=\"sk-toggleable__control sk-hidden--visually\" id=\"sk-estimator-id-1\" type=\"checkbox\" checked><label for=\"sk-estimator-id-1\" class=\"sk-toggleable__label sk-toggleable__label-arrow\">XGBClassifier</label><div class=\"sk-toggleable__content\"><pre>XGBClassifier(base_score=None, booster=None, callbacks=None,\n",
       "              colsample_bylevel=None, colsample_bynode=None,\n",
       "              colsample_bytree=None, early_stopping_rounds=None,\n",
       "              enable_categorical=False, eval_metric=None, feature_types=None,\n",
       "              gamma=None, gpu_id=None, grow_policy=None, importance_type=None,\n",
       "              interaction_constraints=None, learning_rate=None, max_bin=None,\n",
       "              max_cat_threshold=None, max_cat_to_onehot=None,\n",
       "              max_delta_step=None, max_depth=None, max_leaves=None,\n",
       "              min_child_weight=None, missing=nan, monotone_constraints=None,\n",
       "              n_estimators=100, n_jobs=None, num_parallel_tree=None,\n",
       "              predictor=None, random_state=None, ...)</pre></div></div></div></div></div>"
      ],
      "text/plain": [
       "XGBClassifier(base_score=None, booster=None, callbacks=None,\n",
       "              colsample_bylevel=None, colsample_bynode=None,\n",
       "              colsample_bytree=None, early_stopping_rounds=None,\n",
       "              enable_categorical=False, eval_metric=None, feature_types=None,\n",
       "              gamma=None, gpu_id=None, grow_policy=None, importance_type=None,\n",
       "              interaction_constraints=None, learning_rate=None, max_bin=None,\n",
       "              max_cat_threshold=None, max_cat_to_onehot=None,\n",
       "              max_delta_step=None, max_depth=None, max_leaves=None,\n",
       "              min_child_weight=None, missing=nan, monotone_constraints=None,\n",
       "              n_estimators=100, n_jobs=None, num_parallel_tree=None,\n",
       "              predictor=None, random_state=None, ...)"
      ]
     },
     "execution_count": 43,
     "metadata": {},
     "output_type": "execute_result"
    }
   ],
   "source": [
    "# Standardize the independent variables.\n",
    "scaler = StandardScaler()\n",
    "X = scaler.fit_transform(X)\n",
    "\n",
    "# Create the XGBClassifier model.\n",
    "model = XGBClassifier()\n",
    "\n",
    "# Train the model on the training data.\n",
    "model.fit(X, y)"
   ]
  },
  {
   "cell_type": "markdown",
   "id": "bf4583eb",
   "metadata": {
    "papermill": {
     "duration": 0.025963,
     "end_time": "2023-06-04T02:40:03.126979",
     "exception": false,
     "start_time": "2023-06-04T02:40:03.101016",
     "status": "completed"
    },
    "tags": []
   },
   "source": [
    "# Prediction"
   ]
  },
  {
   "cell_type": "code",
   "execution_count": 44,
   "id": "c1c45230",
   "metadata": {
    "execution": {
     "iopub.execute_input": "2023-06-04T02:40:03.181826Z",
     "iopub.status.busy": "2023-06-04T02:40:03.181176Z",
     "iopub.status.idle": "2023-06-04T02:40:03.195520Z",
     "shell.execute_reply": "2023-06-04T02:40:03.194645Z"
    },
    "papermill": {
     "duration": 0.044661,
     "end_time": "2023-06-04T02:40:03.198253",
     "exception": false,
     "start_time": "2023-06-04T02:40:03.153592",
     "status": "completed"
    },
    "tags": []
   },
   "outputs": [],
   "source": [
    "# Create the test dataset.\n",
    "X_test = test_df.iloc[:, 1:]\n",
    "#X_test = X_test.iloc[:, selected_indices].values\n",
    "\n",
    "# Standardize the independent variables.\n",
    "scaler = StandardScaler()\n",
    "X_test = scaler.fit_transform(X_test)\n",
    "\n",
    "# Predict the results.\n",
    "y_pred = model.predict_proba(X_test)"
   ]
  },
  {
   "cell_type": "code",
   "execution_count": 45,
   "id": "462f3c29",
   "metadata": {
    "execution": {
     "iopub.execute_input": "2023-06-04T02:40:03.254380Z",
     "iopub.status.busy": "2023-06-04T02:40:03.253984Z",
     "iopub.status.idle": "2023-06-04T02:40:03.262028Z",
     "shell.execute_reply": "2023-06-04T02:40:03.260795Z"
    },
    "papermill": {
     "duration": 0.038226,
     "end_time": "2023-06-04T02:40:03.264549",
     "exception": false,
     "start_time": "2023-06-04T02:40:03.226323",
     "status": "completed"
    },
    "tags": []
   },
   "outputs": [
    {
     "data": {
      "text/plain": [
       "array([[0.99286306, 0.00713696],\n",
       "       [0.99286306, 0.00713696],\n",
       "       [0.99286306, 0.00713696],\n",
       "       [0.99286306, 0.00713696],\n",
       "       [0.99286306, 0.00713696]], dtype=float32)"
      ]
     },
     "execution_count": 45,
     "metadata": {},
     "output_type": "execute_result"
    }
   ],
   "source": [
    "y_pred"
   ]
  },
  {
   "cell_type": "code",
   "execution_count": 46,
   "id": "1c93f6e8",
   "metadata": {
    "execution": {
     "iopub.execute_input": "2023-06-04T02:40:03.320581Z",
     "iopub.status.busy": "2023-06-04T02:40:03.320183Z",
     "iopub.status.idle": "2023-06-04T02:40:03.331915Z",
     "shell.execute_reply": "2023-06-04T02:40:03.330855Z"
    },
    "papermill": {
     "duration": 0.042394,
     "end_time": "2023-06-04T02:40:03.334535",
     "exception": false,
     "start_time": "2023-06-04T02:40:03.292141",
     "status": "completed"
    },
    "tags": []
   },
   "outputs": [
    {
     "data": {
      "text/html": [
       "<div>\n",
       "<style scoped>\n",
       "    .dataframe tbody tr th:only-of-type {\n",
       "        vertical-align: middle;\n",
       "    }\n",
       "\n",
       "    .dataframe tbody tr th {\n",
       "        vertical-align: top;\n",
       "    }\n",
       "\n",
       "    .dataframe thead th {\n",
       "        text-align: right;\n",
       "    }\n",
       "</style>\n",
       "<table border=\"1\" class=\"dataframe\">\n",
       "  <thead>\n",
       "    <tr style=\"text-align: right;\">\n",
       "      <th></th>\n",
       "      <th>0</th>\n",
       "      <th>1</th>\n",
       "    </tr>\n",
       "  </thead>\n",
       "  <tbody>\n",
       "    <tr>\n",
       "      <th>0</th>\n",
       "      <td>0.992863</td>\n",
       "      <td>0.007137</td>\n",
       "    </tr>\n",
       "    <tr>\n",
       "      <th>1</th>\n",
       "      <td>0.992863</td>\n",
       "      <td>0.007137</td>\n",
       "    </tr>\n",
       "    <tr>\n",
       "      <th>2</th>\n",
       "      <td>0.992863</td>\n",
       "      <td>0.007137</td>\n",
       "    </tr>\n",
       "    <tr>\n",
       "      <th>3</th>\n",
       "      <td>0.992863</td>\n",
       "      <td>0.007137</td>\n",
       "    </tr>\n",
       "    <tr>\n",
       "      <th>4</th>\n",
       "      <td>0.992863</td>\n",
       "      <td>0.007137</td>\n",
       "    </tr>\n",
       "  </tbody>\n",
       "</table>\n",
       "</div>"
      ],
      "text/plain": [
       "          0         1\n",
       "0  0.992863  0.007137\n",
       "1  0.992863  0.007137\n",
       "2  0.992863  0.007137\n",
       "3  0.992863  0.007137\n",
       "4  0.992863  0.007137"
      ]
     },
     "execution_count": 46,
     "metadata": {},
     "output_type": "execute_result"
    }
   ],
   "source": [
    "y_pred_df = pd.DataFrame(y_pred, columns = ['0', '1'])\n",
    "y_pred_df"
   ]
  },
  {
   "cell_type": "markdown",
   "id": "93f5b023",
   "metadata": {
    "papermill": {
     "duration": 0.026503,
     "end_time": "2023-06-04T02:40:03.387979",
     "exception": false,
     "start_time": "2023-06-04T02:40:03.361476",
     "status": "completed"
    },
    "tags": []
   },
   "source": [
    "# Submission"
   ]
  },
  {
   "cell_type": "code",
   "execution_count": 47,
   "id": "aa73b79c",
   "metadata": {
    "execution": {
     "iopub.execute_input": "2023-06-04T02:40:03.443078Z",
     "iopub.status.busy": "2023-06-04T02:40:03.442661Z",
     "iopub.status.idle": "2023-06-04T02:40:03.450348Z",
     "shell.execute_reply": "2023-06-04T02:40:03.449116Z"
    },
    "papermill": {
     "duration": 0.038277,
     "end_time": "2023-06-04T02:40:03.452880",
     "exception": false,
     "start_time": "2023-06-04T02:40:03.414603",
     "status": "completed"
    },
    "tags": []
   },
   "outputs": [],
   "source": [
    "submission = pd.DataFrame(test_df[\"Id\"], columns = [\"Id\"])"
   ]
  },
  {
   "cell_type": "code",
   "execution_count": 48,
   "id": "aab0115d",
   "metadata": {
    "execution": {
     "iopub.execute_input": "2023-06-04T02:40:03.508683Z",
     "iopub.status.busy": "2023-06-04T02:40:03.508290Z",
     "iopub.status.idle": "2023-06-04T02:40:03.513881Z",
     "shell.execute_reply": "2023-06-04T02:40:03.512933Z"
    },
    "papermill": {
     "duration": 0.036059,
     "end_time": "2023-06-04T02:40:03.516143",
     "exception": false,
     "start_time": "2023-06-04T02:40:03.480084",
     "status": "completed"
    },
    "tags": []
   },
   "outputs": [],
   "source": [
    "submission[\"class_0\"] = y_pred_df['0']\n",
    "submission[\"class_1\"] = y_pred_df['1']"
   ]
  },
  {
   "cell_type": "code",
   "execution_count": 49,
   "id": "49375757",
   "metadata": {
    "execution": {
     "iopub.execute_input": "2023-06-04T02:40:03.573274Z",
     "iopub.status.busy": "2023-06-04T02:40:03.572878Z",
     "iopub.status.idle": "2023-06-04T02:40:03.583567Z",
     "shell.execute_reply": "2023-06-04T02:40:03.582080Z"
    },
    "papermill": {
     "duration": 0.043223,
     "end_time": "2023-06-04T02:40:03.586157",
     "exception": false,
     "start_time": "2023-06-04T02:40:03.542934",
     "status": "completed"
    },
    "tags": []
   },
   "outputs": [
    {
     "data": {
      "text/html": [
       "<div>\n",
       "<style scoped>\n",
       "    .dataframe tbody tr th:only-of-type {\n",
       "        vertical-align: middle;\n",
       "    }\n",
       "\n",
       "    .dataframe tbody tr th {\n",
       "        vertical-align: top;\n",
       "    }\n",
       "\n",
       "    .dataframe thead th {\n",
       "        text-align: right;\n",
       "    }\n",
       "</style>\n",
       "<table border=\"1\" class=\"dataframe\">\n",
       "  <thead>\n",
       "    <tr style=\"text-align: right;\">\n",
       "      <th></th>\n",
       "      <th>Id</th>\n",
       "      <th>class_0</th>\n",
       "      <th>class_1</th>\n",
       "    </tr>\n",
       "  </thead>\n",
       "  <tbody>\n",
       "    <tr>\n",
       "      <th>0</th>\n",
       "      <td>00eed32682bb</td>\n",
       "      <td>0.992863</td>\n",
       "      <td>0.007137</td>\n",
       "    </tr>\n",
       "    <tr>\n",
       "      <th>1</th>\n",
       "      <td>010ebe33f668</td>\n",
       "      <td>0.992863</td>\n",
       "      <td>0.007137</td>\n",
       "    </tr>\n",
       "    <tr>\n",
       "      <th>2</th>\n",
       "      <td>02fa521e1838</td>\n",
       "      <td>0.992863</td>\n",
       "      <td>0.007137</td>\n",
       "    </tr>\n",
       "    <tr>\n",
       "      <th>3</th>\n",
       "      <td>040e15f562a2</td>\n",
       "      <td>0.992863</td>\n",
       "      <td>0.007137</td>\n",
       "    </tr>\n",
       "    <tr>\n",
       "      <th>4</th>\n",
       "      <td>046e85c7cc7f</td>\n",
       "      <td>0.992863</td>\n",
       "      <td>0.007137</td>\n",
       "    </tr>\n",
       "  </tbody>\n",
       "</table>\n",
       "</div>"
      ],
      "text/plain": [
       "             Id   class_0   class_1\n",
       "0  00eed32682bb  0.992863  0.007137\n",
       "1  010ebe33f668  0.992863  0.007137\n",
       "2  02fa521e1838  0.992863  0.007137\n",
       "3  040e15f562a2  0.992863  0.007137\n",
       "4  046e85c7cc7f  0.992863  0.007137"
      ]
     },
     "execution_count": 49,
     "metadata": {},
     "output_type": "execute_result"
    }
   ],
   "source": [
    "submission"
   ]
  },
  {
   "cell_type": "code",
   "execution_count": 50,
   "id": "96fde6f6",
   "metadata": {
    "execution": {
     "iopub.execute_input": "2023-06-04T02:40:03.644642Z",
     "iopub.status.busy": "2023-06-04T02:40:03.644267Z",
     "iopub.status.idle": "2023-06-04T02:40:03.655028Z",
     "shell.execute_reply": "2023-06-04T02:40:03.653810Z"
    },
    "papermill": {
     "duration": 0.043754,
     "end_time": "2023-06-04T02:40:03.657656",
     "exception": false,
     "start_time": "2023-06-04T02:40:03.613902",
     "status": "completed"
    },
    "tags": []
   },
   "outputs": [],
   "source": [
    "submission.to_csv('submission.csv',index = False)"
   ]
  },
  {
   "cell_type": "markdown",
   "id": "dcdd51a3",
   "metadata": {
    "papermill": {
     "duration": 0.0267,
     "end_time": "2023-06-04T02:40:03.711319",
     "exception": false,
     "start_time": "2023-06-04T02:40:03.684619",
     "status": "completed"
    },
    "tags": []
   },
   "source": [
    "# Save, Load, and Use the Model¶\n",
    "\n",
    "To save the trained model, we can use the joblib library from the sklearn.externals module. This will save the model to a file in the current working directory. **To load the saved model later**, we can use the joblib.load() function.\n"
   ]
  },
  {
   "cell_type": "code",
   "execution_count": 51,
   "id": "2d3616f1",
   "metadata": {
    "execution": {
     "iopub.execute_input": "2023-06-04T02:40:03.768714Z",
     "iopub.status.busy": "2023-06-04T02:40:03.767200Z",
     "iopub.status.idle": "2023-06-04T02:40:03.785632Z",
     "shell.execute_reply": "2023-06-04T02:40:03.784699Z"
    },
    "papermill": {
     "duration": 0.050219,
     "end_time": "2023-06-04T02:40:03.788415",
     "exception": false,
     "start_time": "2023-06-04T02:40:03.738196",
     "status": "completed"
    },
    "tags": []
   },
   "outputs": [],
   "source": [
    "import joblib\n",
    "\n",
    "# Save the model to disk.\n",
    "joblib.dump(model, 'model.joblib')\n",
    "\n",
    "# Load the saved model from disk.\n",
    "model_loaded = joblib.load('model.joblib')\n",
    "\n",
    "# Use the loaded model to make predictions on test data.\n",
    "y_pred_loaded = model_loaded.predict(X_test)"
   ]
  },
  {
   "cell_type": "markdown",
   "id": "7cf1d1e7",
   "metadata": {
    "papermill": {
     "duration": 0.027534,
     "end_time": "2023-06-04T02:40:03.845376",
     "exception": false,
     "start_time": "2023-06-04T02:40:03.817842",
     "status": "completed"
    },
    "tags": []
   },
   "source": [
    "# Conclusion\n",
    "\n",
    "For the train dataset, this model performed very well, but did not get a good score for the test dataset. Therefore, there must be some difference between the train and test datasets and overfitting is observed to the train dataset."
   ]
  },
  {
   "cell_type": "markdown",
   "id": "44ce8a46",
   "metadata": {
    "papermill": {
     "duration": 0.026433,
     "end_time": "2023-06-04T02:40:03.899404",
     "exception": false,
     "start_time": "2023-06-04T02:40:03.872971",
     "status": "completed"
    },
    "tags": []
   },
   "source": [
    "I am a medical doctor working on **artificial intelligence (AI) for medicine**. At present AI is also widely used in the medical field. Particularly, AI performs in the healthcare sector following tasks: **image classification, object detection, semantic segmentation, GANs, text classification, etc**. **If you are interested in AI for medicine, please see my other notebooks.**"
   ]
  }
 ],
 "metadata": {
  "kernelspec": {
   "display_name": "Python 3",
   "language": "python",
   "name": "python3"
  },
  "language_info": {
   "codemirror_mode": {
    "name": "ipython",
    "version": 3
   },
   "file_extension": ".py",
   "mimetype": "text/x-python",
   "name": "python",
   "nbconvert_exporter": "python",
   "pygments_lexer": "ipython3",
   "version": "3.10.10"
  },
  "papermill": {
   "default_parameters": {},
   "duration": 22.686856,
   "end_time": "2023-06-04T02:40:04.952145",
   "environment_variables": {},
   "exception": null,
   "input_path": "__notebook__.ipynb",
   "output_path": "__notebook__.ipynb",
   "parameters": {},
   "start_time": "2023-06-04T02:39:42.265289",
   "version": "2.4.0"
  }
 },
 "nbformat": 4,
 "nbformat_minor": 5
}
